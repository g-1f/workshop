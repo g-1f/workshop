{
 "cells": [
  {
   "cell_type": "markdown",
   "metadata": {},
   "source": [
    "# Chat with SEC Documents\n",
    "This project aims to build very simple replicate to the https://www.secinsights.ai/ where you can chat with financial documents built by LlamaIndex. Sec Insights let you chat with financial documents such as 10-Ks and 10-Qs\n",
    "\n",
    "Some techstack we will use:\n",
    "- LangChain\n",
    "- FAISS\n",
    "- OpenAI API\n",
    "- Instructor"
   ]
  },
  {
   "cell_type": "markdown",
   "metadata": {},
   "source": [
    "First, download the SEC documents, make sure to change the base_dir to your local environment as well as the institution, email address to comply with sec edgar api. We will then process the raw html to pdf for better readability for LLMs"
   ]
  },
  {
   "cell_type": "code",
   "execution_count": 2,
   "metadata": {},
   "outputs": [],
   "source": [
    "from sec_edgar_downloader import Downloader\n",
    "from itertools import product\n",
    "from pathlib import Path\n",
    "import pdfkit\n",
    "\n",
    "DEFAULT_CIKS = [\n",
    "    # AAPL\n",
    "    \"320193\",\n",
    "    # MSFT\n",
    "    \"789019\",\n",
    "    # TSLA\n",
    "    \"1318605\",\n",
    "    # NVDA\n",
    "    \"901832\",\n",
    "    # LLY (Eli Lilly)\n",
    "    \"59478\",\n",
    "]\n",
    "DEFAULT_FILING_TYPES = [\n",
    "    \"10-K\",\n",
    "    \"10-Q\",\n",
    "]\n",
    "\n",
    "\n",
    "# Initialize the downloader\n",
    "base_dir = \"/Users/gyf/Desktop/workshop\" # Change this to your desired output directory\n",
    "dl = Downloader(\"JHU\", \"gyf@pm.me\", base_dir) # Change this to your desired username and email\n",
    "\n",
    "def download_filing(cik, filing_type, after=\"2023-01-01\", before=\"2024-01-01\"): # Change the dates to your desired range\n",
    "    dl.get(filing_type, cik, after=after, before=before, include_amends=True, download_details=True)\n",
    "\n",
    "def convert_to_pdf(output_dir: str):\n",
    "    \"\"\"Converts all html files in a directory to pdf files.\"\"\"\n",
    "\n",
    "    data_dir = Path(output_dir) / \"sec-edgar-filings\"\n",
    "    options = {'enable-local-file-access': None}\n",
    "    for cik_dir in data_dir.iterdir():\n",
    "        if cik_dir.is_dir():  # Check if it's a directory\n",
    "            for filing_type_dir in cik_dir.iterdir():\n",
    "                if filing_type_dir.is_dir():  # Check if it's a directory\n",
    "                    for filing_dir in filing_type_dir.iterdir():\n",
    "                        if filing_dir.is_dir():  # Check if it's a directory\n",
    "                            filing_doc = filing_dir / \"primary-document.html\"\n",
    "                            filing_pdf = filing_dir / \"primary-document.pdf\"\n",
    "                            if filing_doc.exists() and not filing_pdf.exists():\n",
    "                                print(\"- Converting {}\".format(filing_doc))\n",
    "                                input_path = str(filing_doc.absolute())\n",
    "                                output_path = str(filing_pdf.absolute())\n",
    "                                try:\n",
    "                                    pdfkit.from_file(input_path, output_path, verbose=True, options=options)\n",
    "                                except Exception as e:\n",
    "                                    print(f\"Error converting {input_path} to {output_path}: {e}\")\n",
    "\n",
    "\n",
    "# # Main function to download and convert filings\n",
    "# def main():\n",
    "#     for cik, filing_type in product(DEFAULT_CIKS, DEFAULT_FILING_TYPES):\n",
    "#         download_filing(cik, filing_type)\n",
    "#     convert_to_pdf(output_dir)\n",
    "\n",
    "# main()  # Call the main function to run the script"
   ]
  },
  {
   "cell_type": "markdown",
   "metadata": {},
   "source": [
    "Loading PDFs with PyMuPDFLoader from langchain, pdf is converted to text and loaded where list item is corresponding to each page in the pdf.\n",
    "\n",
    "\n",
    "Each page will have page_content and metadata attribute."
   ]
  },
  {
   "cell_type": "code",
   "execution_count": 3,
   "metadata": {},
   "outputs": [
    {
     "name": "stdout",
     "output_type": "stream",
     "text": [
      "United States\n",
      "Securities and Exchange Commission\n",
      "Washington, D.C. 20549\n",
      "Form 10-K\n",
      "Annual report pursuant to Section 13 or 15(d) of the Securities Exchange Act of 1934\n",
      "for the fiscal year ended December 31, 2022\n",
      "Commission file number 001-06351\n",
      "ELI LILLY AND COMPANY\n",
      "(Exact name of Registrant as specified in its charter)\n",
      "Indiana\n",
      " \n",
      "35-0470950\n",
      "(State or other jurisdiction of\n",
      "(I.R.S. Employer\n",
      "incorporation or organization)\n",
      "Identification No.)\n",
      "Lilly Corporate Center, Indianapolis, Indiana 46285\n",
      "(Address and zip code of principal executive offices)\n",
      "Registrant's telephone number, including area code (317) 276-2000\n",
      "Securities registered pursuant to Section 12(b) of the Exchange Act:\n",
      "Title of Each Class\n",
      "Trading Symbol(s)\n",
      "Name of Each Exchange On Which Registered\n",
      "Common Stock (no par value)\n",
      "LLY\n",
      "New York Stock Exchange\n",
      "7 1/8% Notes due 2025\n",
      "LLY25\n",
      "New York Stock Exchange\n",
      "1.625% Notes due 2026\n",
      "LLY26\n",
      "New York Stock Exchange\n",
      "2.125% Notes due 2030\n",
      "LLY30\n",
      "New York Stock Exchange\n",
      "0.625% Notes due 2031\n",
      "LLY31\n",
      "New York Stock Exchange\n",
      "0.500% Notes due 2033\n",
      "LLY33\n",
      "New York Stock Exchange\n",
      "6.77% Notes due 2036\n",
      "LLY36\n",
      "New York Stock Exchange\n",
      "1.625% Notes due 2043\n",
      "LLY43\n",
      "New York Stock Exchange\n",
      "1.700% Notes due 2049\n",
      "LLY49A\n",
      "New York Stock Exchange\n",
      "1.125% Notes due 2051\n",
      "LLY51\n",
      "New York Stock Exchange\n",
      "1.375% Notes due 2061\n",
      "LLY61\n",
      "New York Stock Exchange\n",
      "Securities registered pursuant to Section 12(g) of the Exchange Act: None\n",
      "Indicate by check mark if the Registrant is a well-known seasoned issuer, as defined in Rule 405 of the Securities Act. \n",
      "Yes ☒ No ☐\n",
      "Indicate by check mark if the Registrant is not required to file reports pursuant to Section 13 or 15(d) of the Exchange Act. Yes  \n",
      "☐ No ☒\n",
      "Indicate by check mark whether the Registrant (1) has filed all reports required to be filed by Section 13 or 15(d) of the Exchange Act during the preceding 12 months (or for such shorter period that the Registrant was\n",
      "required to file such reports) and (2) has been subject to such filing requirements for the past 90 days. Yes ☒ No ☐\n",
      "Indicate by check mark whether the Registrant has submitted electronically every Interactive Data File required to be submitted pursuant to Rule 405 of Regulation S-T (§ 232.405 of this chapter) during the preceding 12\n",
      "months (or for such shorter period that the Registrant was required to submit such files).\n",
      "Yes ☒ No ☐\n",
      "Indicate by check mark whether the Registrant is a large accelerated filer, an accelerated filer, a non-accelerated filer, a smaller reporting company, or an emerging growth company. See the definitions of \"large accelerated\n",
      "filer,\" \"accelerated filer,\" \"smaller reporting company,\" and \"emerging growth company\" in Rule 12b-2 of the Exchange Act.\n",
      "Large accelerated filer ☒\n",
      "Accelerated filer\n",
      "☐\n",
      "Non-accelerated filer☐\n",
      "Smaller reporting company\n",
      "☐\n",
      " \n",
      "Emerging growth company\n",
      "☐\n",
      "If an emerging growth company, indicate by check mark if the Registrant has elected not to use the extended transition period for complying with any new or revised financial accounting standards provided pursuant to\n",
      "Section 13(a) of the Exchange Act. ☐\n",
      "Indicate by check mark whether the Registrant has filed a report on and attestation to its management's assessment of the effectiveness of its internal control over financial reporting under Section 404(b) of the Sarbanes-\n",
      "Oxley Act (15 U.S.C. 7262(b)) by the registered public accounting firm that prepared or issued its audit report. ☒\n",
      "If securities are registered pursuant to Section 12(b) of the Act, indicate by check mark whether the financial statements of the registrant included in the filing reflect the correction of an error to previously issued financial\n",
      "statements. ☐\n",
      "Indicate by check mark whether any of those error corrections are restatements that required a recovery analysis of incentive-based compensation received by any of the registrant’s executive officers during the relevant\n",
      "recovery period pursuant to § 240.10D-1(b). ☐\n",
      "Indicate by check mark whether the Registrant is a shell company (as defined in Rule 12b-2 of the Exchange Act): Yes ☐ No ☒\n",
      "Aggregate market value of the common equity held by non-affiliates computed by reference to the price at which the common equity was last sold as of the last business day of the Registrant's most recently completed\n",
      "second fiscal quarter: approximately $274,342,000,000.\n",
      "Number of shares of common stock outstanding as of February 17, 2023: 950,296,118\n",
      "Portions of the Registrant's Proxy Statement for the 2023 Annual Meeting of Shareholders have been incorporated by reference into Part III of this report.\n",
      "\n"
     ]
    }
   ],
   "source": [
    "from langchain_community.document_loaders import PyMuPDFLoader\n",
    "\n",
    "loader = PyMuPDFLoader(f\"{base_dir}/10K examples/LLY_10K.pdf\")\n",
    "documents = loader.load()\n",
    "print(documents[0].page_content) # Print the first page of the first document"
   ]
  },
  {
   "cell_type": "markdown",
   "metadata": {},
   "source": [
    "Checkout metadata"
   ]
  },
  {
   "cell_type": "code",
   "execution_count": 4,
   "metadata": {},
   "outputs": [
    {
     "name": "stdout",
     "output_type": "stream",
     "text": [
      "dict_keys(['source', 'file_path', 'page', 'total_pages', 'format', 'title', 'author', 'subject', 'keywords', 'creator', 'producer', 'creationDate', 'modDate', 'trapped'])\n",
      "{'source': '/Users/gyf/Desktop/workshop/10K examples/LLY_10K.pdf', 'file_path': '/Users/gyf/Desktop/workshop/10K examples/LLY_10K.pdf', 'page': 0, 'total_pages': 120, 'format': 'PDF 1.4', 'title': 'lly-20221231', 'author': '', 'subject': '', 'keywords': '', 'creator': 'wkhtmltopdf 0.12.6', 'producer': 'Qt 4.8.7', 'creationDate': \"D:20240118054548-05'00'\", 'modDate': '', 'trapped': ''}\n"
     ]
    }
   ],
   "source": [
    "print(documents[0].metadata.keys())\n",
    "print(documents[0].metadata)"
   ]
  },
  {
   "cell_type": "markdown",
   "metadata": {},
   "source": [
    "## Embedding Models:\n",
    "We can explore various embedding models from HuggingFace leaderboard: https://huggingface.co/spaces/mteb/leaderboard\n",
    "\n",
    "#### **text-embedding-ada-002**:\n",
    "Let's try out OpenAI's text-embedding-ada-002, it offers a sequence length of **8192 tokens** (~10 pages), it is currently one of the longest sequence length offered for embedding models. The model was released in 2021 so it is not the state of art embedding model, still works great.\n",
    "#### What is the meaning of **sequence length** here?\n",
    "It means maximum number of items (typically words, tokens, or characters) in a given input sequence that the model processes, we can **chunk** the text into several parts and embed them seperately to avoid exceeding the sequence length, and in often cases improve response quality."
   ]
  },
  {
   "cell_type": "markdown",
   "metadata": {},
   "source": [
    " To better understand how vector search work, here is a function for calculate cosine similarity:"
   ]
  },
  {
   "cell_type": "code",
   "execution_count": 6,
   "metadata": {},
   "outputs": [],
   "source": [
    "# Get all the page text from the pdf\n",
    "docs = [i.page_content for i in documents]\n",
    "\n",
    "import numpy as np\n",
    "from openai import OpenAI\n",
    "import os\n",
    "\n",
    "api_key = os.environ.get(\"OPENAI_API_KEY\")\n",
    "\n",
    "client = OpenAI(api_key=api_key)\n",
    "\n",
    "def get_embeddings(text):\n",
    "    if isinstance(text, list):\n",
    "        # If input is a list of texts, process each text\n",
    "        embeddings = []\n",
    "        for t in text:\n",
    "            response = client.embeddings.create(\n",
    "                model=\"text-embedding-ada-002\", input=t.replace(\"\\n\", \" \")\n",
    "            )\n",
    "            embeddings.append(response.data[0].embedding)\n",
    "        return embeddings\n",
    "    else:\n",
    "        # If input is a single text\n",
    "        response = client.embeddings.create(\n",
    "            model=\"text-embedding-ada-002\", input=text.replace(\"\\n\", \" \")\n",
    "        )\n",
    "        return response.data[0].embedding\n",
    "\n",
    "def embed_and_search_openai(documents, query, top_k=5):\n",
    "    # Ensure top_k is not greater than the number of documents\n",
    "    top_k = min(top_k, len(documents))\n",
    "\n",
    "    # Encode your documents\n",
    "    doc_embs = get_embeddings(documents)\n",
    "    doc_embs = np.asarray(doc_embs)\n",
    "\n",
    "    # Encode your query\n",
    "    query_emb = get_embeddings(query)\n",
    "    query_emb = np.asarray([query_emb])\n",
    "\n",
    "    # Compute the dot product between query embedding and document embedding\n",
    "    # Since the embeddings are normalized, this is equivalent to cosine similarity\n",
    "    scores = np.dot(query_emb, doc_embs.T)[0]\n",
    "\n",
    "    # Find the indices of the top k scores\n",
    "    max_idx = np.argsort(-scores)[:top_k]\n",
    "\n",
    "    # Return the sorted top k documents and their corresponding scores\n",
    "    return [{'content': documents[idx], 'score': scores[idx], 'rank': idx + 1} for idx in max_idx]\n",
    "\n",
    "def print_results(query, result):\n",
    "    print(f\"Search Query: '{query}'\\n\")\n",
    "    print(\"Top Results:\")\n",
    "    for i, result in enumerate(result, 1):\n",
    "        print(f\"Rank: {i}\")\n",
    "        print(f\"Content: {result['content']}\")\n",
    "        print(f\"Score: {result['score']:.4f}\")\n",
    "        print(\"----------\")"
   ]
  },
  {
   "cell_type": "code",
   "execution_count": 7,
   "metadata": {},
   "outputs": [
    {
     "name": "stdout",
     "output_type": "stream",
     "text": [
      "Search Query: 'what is the revenue of the company?'\n",
      "\n",
      "Top Results:\n",
      "Rank: 1\n",
      "Content: Net Product Revenue\n",
      "Revenue from sales of products is recognized at the point where the customer obtains control of the goods and we satisfy our performance obligation,\n",
      "which generally is at the time we ship the product to the customer. Payment terms differ by jurisdiction and customer, but payment terms in most of our\n",
      "major jurisdictions typically range from 30 to 70 days from date of shipment. Revenue for our product sales has not been adjusted for the effects of a\n",
      "financing component as we expect, at contract inception, that the period between when we transfer control of the product and when we receive payment\n",
      "will be one year or less. Any exceptions are either not material or we collect interest for payments made after the due date. Provisions for rebates,\n",
      "discounts, and returns are established in the same period the related product sales are recognized. We generally ship product shortly after orders are\n",
      "received; therefore, we generally only have a few days of orders received but not yet shipped at the end of any reporting period. Shipping and handling\n",
      "activities are considered to be fulfillment activities and are not considered to be a separate performance obligation. We exclude from the measurement of\n",
      "the transaction price all taxes assessed by a governmental authority that are imposed on our sales of product and collected from a customer.\n",
      "Most of our products are sold to wholesalers that serve pharmacies, physicians and other healthcare professionals, and hospitals. For the years ended\n",
      "December 31, 2022, 2021, and 2020, our three largest wholesalers each accounted for between 16 percent and 21 percent of consolidated revenue.\n",
      "Further, they each accounted for between 18 percent and 29 percent of accounts receivable as of December 31, 2022 and 2021.\n",
      "Significant judgments must be made in determining the transaction price for our sales of products related to anticipated rebates, discounts, and returns.\n",
      "The following describe the most significant of these judgments:\n",
      "Sales Rebates and Discounts - Background and Uncertainties\n",
      "•\n",
      "We initially invoice our customers at contractual list prices. Contracts with direct and indirect customers may provide for various rebates and\n",
      "discounts that may differ in each contract. As a consequence, to determine the appropriate transaction price for our product sales at the time we\n",
      "recognize a sale to a direct customer, we estimate any rebates or discounts that ultimately will be due to the direct customer and other customers\n",
      "in the distribution chain under the terms of our contracts. Significant judgments are required in making these estimates.\n",
      "•\n",
      "The rebate and discount amounts are recorded as a deduction to arrive at our net product revenue. Sales rebates and discounts that require the\n",
      "use of judgment in the establishment of the accrual include managed care, Medicare, Medicaid, chargebacks, long-term care, hospital, patient\n",
      "assistance programs, and various other programs. We estimate these accruals using an expected value approach.\n",
      "•\n",
      "The largest of our sales rebate and discount amounts include rebates associated with sales covered by managed care, Medicare, Medicaid, and\n",
      "chargeback programs, as well as reductions in revenue related to our patient assistance programs, in the U.S. In determining the appropriate\n",
      "accrual amount, we consider our historical rebate payments for these programs, as well as patient assistance program costs, by product as a\n",
      "percentage of our historical sales as well as any significant changes in sales trends (e.g., patent expiries and product launches), an evaluation of\n",
      "the current contracts for these programs, the percentage of our products that are sold via these programs, and our product pricing. Although we\n",
      "accrue a liability for revenue reductions related to these programs at the time we record the sale, the reduction related to that sale is typically paid\n",
      "up to six months later. Because of this time lag, in any particular period our net product revenue may incorporate revisions of accruals for several\n",
      "periods.\n",
      "•\n",
      "Most of our rebates outside the U.S. are contractual or legislatively mandated and are estimated and recognized in the same period as the\n",
      "related sales. In some large European countries, government rebates are based on the anticipated budget for pharmaceutical payments in the\n",
      "country. An estimate of these rebates, updated as governmental authorities revise budgeted deficits, is recognized in the same period as the\n",
      "related sale.\n",
      "63\n",
      "\n",
      "Score: 0.8336\n",
      "----------\n",
      "Rank: 2\n",
      "Content: The following table summarizes revenue by geographical area:\n",
      "2022\n",
      "2021\n",
      "2020\n",
      "Revenue—to unaffiliated customers\n",
      ":\n",
      "U.S.\n",
      "$\n",
      "18,190.0 \n",
      "$\n",
      "16,811.0 \n",
      "$\n",
      "14,229.3 \n",
      "Europe\n",
      "4,299.2 \n",
      "4,776.8 \n",
      "4,187.7 \n",
      "Japan\n",
      "1,747.3 \n",
      "2,367.0 \n",
      "2,583.1 \n",
      "China\n",
      "1,452.8 \n",
      "1,661.4 \n",
      "1,116.9 \n",
      "Other foreign countries\n",
      "2,852.0 \n",
      "2,702.2 \n",
      "2,422.7 \n",
      "Revenue\n",
      "$\n",
      "28,541.4 \n",
      "$\n",
      "28,318.4 \n",
      "$\n",
      "24,539.8 \n",
      "Numbers may not add due to rounding.\n",
      "Revenue is attributed to the countries based on the location of the customer.\n",
      "Note 3: Acquisitions\n",
      "We engage in various forms of business development activities to enhance our product pipeline, including acquisitions, collaborations, investments, and\n",
      "licensing arrangements. In connection with these arrangements, our partners may be entitled to future royalties and/or commercial milestones based on\n",
      "sales should products be approved for commercialization and/or milestones based on the successful progress of compounds through the development\n",
      "process.\n",
      "In December 2022, January 2021, and February 2020, we completed the acquisitions of Akouos, Inc. (Akouos), Prevail Therapeutics Inc. (Prevail), and\n",
      "Dermira, Inc. (Dermira), respectively. These transactions, as further discussed below in Acquisitions of Businesses, were accounted for as business\n",
      "combinations under the acquisition method of accounting. Under this method, the assets acquired and liabilities assumed were recorded at their\n",
      "respective fair values as of the acquisition date in our consolidated financial statements. The determination of estimated fair value required management\n",
      "to make significant estimates and assumptions. The excess of the purchase price over the fair value of the acquired net assets, where applicable, has\n",
      "been recorded as goodwill. The results of operations of these acquisitions have been included in our consolidated financial statements from the date of\n",
      "acquisition.\n",
      "We also acquired assets in development in 2022, 2021, and 2020, which are further discussed below in Asset Acquisitions. Upon each acquisition, the\n",
      "cost allocated to acquired IPR&D was immediately expensed if the compound has no alternative future use. Milestone payment obligations incurred prior\n",
      "to regulatory approval of the compound are expensed when the event triggering an obligation to pay the milestone occurs. We recognized acquired\n",
      "IPR&D and development milestone charges of $908.5 million, $970.1 million, and $769.8 million for the years ended December 31, 2022, 2021, and\n",
      "2020, respectively.\n",
      "Acquisitions of Businesses\n",
      "Akouos Acquisition\n",
      "Overview of Transaction\n",
      "In December 2022, we acquired all shares of Akouos for a purchase price that included $ 12.50 per share in cash (or an aggregate of $327.2 million, net\n",
      "of cash acquired) plus one non-tradable contingent value right (CVR) per share. The CVR entitles the Akouos shareholders up to an additional $ 3.00 per\n",
      "share in cash (or an aggregate of approximately $122 million) payable, subject to certain terms and conditions, upon the achievement of certain specified\n",
      "milestones.\n",
      "Under the terms of the agreement, we acquired potential gene therapy treatments for hearing loss and other inner ear conditions. The lead gene\n",
      "therapies in clinical development that we acquired included GJB2 (which encodes connexin 26) for a common form of monogenic deafness and hearing\n",
      "loss; AK-OTOF for hearing loss due to mutations in the otoferlin gene; AK-CLRN1 for Usher Type 3A, an autosomal recessive disorder characterized by\n",
      "progressive loss of both hearing and vision; and AK-antiVEGF for vestibular schwannoma.\n",
      "(1)\n",
      "(1) \n",
      "67\n",
      "\n",
      "Score: 0.8278\n",
      "----------\n"
     ]
    }
   ],
   "source": [
    "query = \"what is the revenue of the company?\"\n",
    "result = embed_and_search_openai(docs, query, top_k=2)\n",
    "# Prettifying the output\n",
    "print_results(query, result)"
   ]
  },
  {
   "cell_type": "markdown",
   "metadata": {},
   "source": [
    "#### **Cohere English Embed V3**\n",
    "Let's try the same approach with Cohere's embedding:\n"
   ]
  },
  {
   "cell_type": "code",
   "execution_count": 35,
   "metadata": {},
   "outputs": [],
   "source": [
    "import cohere\n",
    "import numpy as np\n",
    "\n",
    "cohere_api_key = \"vjYDYA9NEVqn7cr7jlnFoMVAFgWaIH3Yka9UvhZn\"\n",
    "co = cohere.Client(cohere_api_key)\n",
    "\n",
    "def embed_and_search_cohere(documents, query, top_k=5):\n",
    "    # Ensure top_k is not greater than the number of documents\n",
    "    top_k = min(top_k, len(documents))\n",
    "\n",
    "    # Encode your documents with input type 'search_document'\n",
    "    doc_emb = co.embed(documents, input_type=\"search_document\", model=\"embed-english-v3.0\").embeddings\n",
    "    doc_emb = np.asarray(doc_emb)\n",
    "\n",
    "    # Encode your query with input type 'search_query'\n",
    "    query_emb = co.embed([query], input_type=\"search_query\", model=\"embed-english-v3.0\").embeddings\n",
    "    query_emb = np.asarray(query_emb)\n",
    "\n",
    "    # Compute the dot product between query embedding and document embedding, since the embeddings are normalized, this is equivalent to cosine similarity\n",
    "    scores = np.dot(query_emb, doc_emb.T)[0]\n",
    "\n",
    "    # Find the indices of the top k scores\n",
    "    max_idx = np.argsort(-scores)[:top_k]\n",
    "\n",
    "    # Return the sorted top k documents and their corresponding scores\n",
    "    return [{'content': documents[idx], 'score': scores[idx], 'rank': idx} for idx in max_idx]"
   ]
  },
  {
   "cell_type": "markdown",
   "metadata": {},
   "source": [
    "search relevant page from SEC documents accordingly with cosine similarity"
   ]
  },
  {
   "cell_type": "code",
   "execution_count": 36,
   "metadata": {},
   "outputs": [
    {
     "name": "stdout",
     "output_type": "stream",
     "text": [
      "Search Query: 'what is the revenue of the company?'\n",
      "\n",
      "Top Results:\n",
      "Rank: 1\n",
      "Content: Disaggregation of Revenue\n",
      "The following table summarizes revenue by product:\n",
      "U.S.\n",
      "Outside U.S.\n",
      "2022\n",
      "2021\n",
      "2020\n",
      "2022\n",
      "2021\n",
      "2020\n",
      "Revenue—to unaffiliated customers:\n",
      "Diabetes:\n",
      "Trulicity\n",
      "$\n",
      "5,688.8 \n",
      "$\n",
      "4,914.4 \n",
      "$\n",
      "3,835.9 \n",
      "$\n",
      "1,750.9 \n",
      "$\n",
      "1,557.6 \n",
      "$\n",
      "1,232.2 \n",
      "Jardiance\n",
      "1,194.5 \n",
      "807.3 \n",
      "620.8 \n",
      "871.5 \n",
      "683.5 \n",
      "533.0 \n",
      "Humalog\n",
      "1,191.9 \n",
      "1,320.7 \n",
      "1,485.6 \n",
      "868.7 \n",
      "1,132.3 \n",
      "1,140.3 \n",
      "Humulin\n",
      "730.2 \n",
      "832.9 \n",
      "866.4 \n",
      "289.2 \n",
      "389.6 \n",
      "393.2 \n",
      "Basaglar\n",
      "470.7 \n",
      "588.3 \n",
      "842.3 \n",
      "289.7 \n",
      "304.2 \n",
      "282.1 \n",
      "Mounjaro\n",
      "366.6 \n",
      "— \n",
      "— \n",
      "115.9 \n",
      "— \n",
      "— \n",
      "Other diabetes\n",
      "268.4 \n",
      "255.7 \n",
      "258.1 \n",
      "367.8 \n",
      "401.6 \n",
      "344.5 \n",
      "Total diabetes\n",
      "9,911.1 \n",
      "8,719.3 \n",
      "7,909.1 \n",
      "4,553.7 \n",
      "4,468.8 \n",
      "3,925.3 \n",
      "Oncology:\n",
      "Verzenio\n",
      "1,653.2 \n",
      "834.9 \n",
      "618.2 \n",
      "830.3 \n",
      "515.0 \n",
      "294.4 \n",
      "Cyramza\n",
      "351.4 \n",
      "358.1 \n",
      "381.9 \n",
      "620.0 \n",
      "674.8 \n",
      "650.8 \n",
      "Alimta\n",
      "543.7 \n",
      "1,233.9 \n",
      "1,265.3 \n",
      "384.0 \n",
      "827.5 \n",
      "1,064.7 \n",
      "Erbitux\n",
      "500.1 \n",
      "481.8 \n",
      "480.1 \n",
      "66.4 \n",
      "66.4 \n",
      "56.3 \n",
      "Tyvyt\n",
      "— \n",
      "— \n",
      "— \n",
      "293.3 \n",
      "418.1 \n",
      "308.7 \n",
      "Other oncology\n",
      "169.7 \n",
      "120.1 \n",
      "46.6 \n",
      "254.1 \n",
      "210.7 \n",
      "152.3 \n",
      "Total oncology\n",
      "3,218.1 \n",
      "3,028.8 \n",
      "2,792.1 \n",
      "2,448.1 \n",
      "2,712.5 \n",
      "2,527.2 \n",
      "Immunology:\n",
      "Taltz\n",
      "1,724.6 \n",
      "1,542.4 \n",
      "1,288.5 \n",
      "757.4 \n",
      "670.4 \n",
      "500.0 \n",
      "Olumiant\n",
      "148.2 \n",
      "324.1 \n",
      "63.8 \n",
      "682.3 \n",
      "791.0 \n",
      "575.0 \n",
      "Other immunology\n",
      "20.0 \n",
      "15.3 \n",
      "20.0 \n",
      "12.1 \n",
      "17.6 \n",
      "14.6 \n",
      "Total immunology\n",
      "1,892.8 \n",
      "1,881.8 \n",
      "1,372.3 \n",
      "1,451.8 \n",
      "1,479.0 \n",
      "1,089.6 \n",
      "Neuroscience:\n",
      "Emgality\n",
      "462.8 \n",
      "434.5 \n",
      "325.9 \n",
      "188.1 \n",
      "142.7 \n",
      "37.0 \n",
      "Zyprexa\n",
      "30.4 \n",
      "39.6 \n",
      "46.1 \n",
      "306.5 \n",
      "390.7 \n",
      "360.5 \n",
      "Cymbalta\n",
      "33.7 \n",
      "38.7 \n",
      "42.1 \n",
      "249.6 \n",
      "542.8 \n",
      "725.6 \n",
      "Other neuroscience\n",
      "85.5 \n",
      "102.0 \n",
      "73.2 \n",
      "189.6 \n",
      "207.5 \n",
      "220.9 \n",
      "Total neuroscience\n",
      "612.4 \n",
      "614.8 \n",
      "487.3 \n",
      "933.8 \n",
      "1,283.7 \n",
      "1,344.0 \n",
      "Other:\n",
      "COVID-19 antibodies\n",
      "2,008.9 \n",
      "1,978.0 \n",
      "850.0 \n",
      "14.7 \n",
      "261.4 \n",
      "21.2 \n",
      "Forteo\n",
      "367.3 \n",
      "441.6 \n",
      "510.3 \n",
      "245.8 \n",
      "360.3 \n",
      "536.0 \n",
      "Cialis\n",
      "35.2 \n",
      "10.6 \n",
      "61.8 \n",
      "552.1 \n",
      "707.9 \n",
      "545.4 \n",
      "Other\n",
      "144.2 \n",
      "136.1 \n",
      "246.4 \n",
      "151.3 \n",
      "233.9 \n",
      "321.8 \n",
      "Total other\n",
      "2,555.7 \n",
      "2,566.4 \n",
      "1,668.4 \n",
      "964.0 \n",
      "1,563.5 \n",
      "1,424.4 \n",
      "Revenue\n",
      "$\n",
      "18,190.0 \n",
      "$\n",
      "16,811.0 \n",
      "$\n",
      "14,229.3 \n",
      "$\n",
      "10,351.3 \n",
      "$\n",
      "11,507.4 \n",
      "$\n",
      "10,310.5 \n",
      "Numbers may not add due to rounding.\n",
      "Jardiance revenue includes Glyxambi , Synjardy , and Trijardy  XR.\n",
      " Humalog revenue includes insulin lispro.\n",
      "Olumiant revenue includes sales for baricitinib that were made pursuant to Emergency Use Authorization (EUA) or similar regulatory authorizations.\n",
      "COVID-19 antibodies include sales for bamlanivimab administered alone, for bamlanivimab and etesevimab administered together, and for bebtelovimab and were made pursuant\n",
      "to EUAs or similar regulatory authorizations.\n",
      "®\n",
      "(1)\n",
      "® (2)\n",
      "®\n",
      "®\n",
      "®\n",
      "®\n",
      "®\n",
      "®\n",
      "®\n",
      "®\n",
      "®\n",
      "® (3)\n",
      "®\n",
      "®\n",
      "®\n",
      "(4)\n",
      "®\n",
      "®\n",
      "(1) \n",
      "®\n",
      "®\n",
      "®\n",
      "(2)\n",
      "(3) \n",
      "(4) \n",
      "66\n",
      "\n",
      "Score: 0.5370\n",
      "----------\n",
      "Rank: 2\n",
      "Content: The following table summarizes revenue by geographical area:\n",
      "2022\n",
      "2021\n",
      "2020\n",
      "Revenue—to unaffiliated customers\n",
      ":\n",
      "U.S.\n",
      "$\n",
      "18,190.0 \n",
      "$\n",
      "16,811.0 \n",
      "$\n",
      "14,229.3 \n",
      "Europe\n",
      "4,299.2 \n",
      "4,776.8 \n",
      "4,187.7 \n",
      "Japan\n",
      "1,747.3 \n",
      "2,367.0 \n",
      "2,583.1 \n",
      "China\n",
      "1,452.8 \n",
      "1,661.4 \n",
      "1,116.9 \n",
      "Other foreign countries\n",
      "2,852.0 \n",
      "2,702.2 \n",
      "2,422.7 \n",
      "Revenue\n",
      "$\n",
      "28,541.4 \n",
      "$\n",
      "28,318.4 \n",
      "$\n",
      "24,539.8 \n",
      "Numbers may not add due to rounding.\n",
      "Revenue is attributed to the countries based on the location of the customer.\n",
      "Note 3: Acquisitions\n",
      "We engage in various forms of business development activities to enhance our product pipeline, including acquisitions, collaborations, investments, and\n",
      "licensing arrangements. In connection with these arrangements, our partners may be entitled to future royalties and/or commercial milestones based on\n",
      "sales should products be approved for commercialization and/or milestones based on the successful progress of compounds through the development\n",
      "process.\n",
      "In December 2022, January 2021, and February 2020, we completed the acquisitions of Akouos, Inc. (Akouos), Prevail Therapeutics Inc. (Prevail), and\n",
      "Dermira, Inc. (Dermira), respectively. These transactions, as further discussed below in Acquisitions of Businesses, were accounted for as business\n",
      "combinations under the acquisition method of accounting. Under this method, the assets acquired and liabilities assumed were recorded at their\n",
      "respective fair values as of the acquisition date in our consolidated financial statements. The determination of estimated fair value required management\n",
      "to make significant estimates and assumptions. The excess of the purchase price over the fair value of the acquired net assets, where applicable, has\n",
      "been recorded as goodwill. The results of operations of these acquisitions have been included in our consolidated financial statements from the date of\n",
      "acquisition.\n",
      "We also acquired assets in development in 2022, 2021, and 2020, which are further discussed below in Asset Acquisitions. Upon each acquisition, the\n",
      "cost allocated to acquired IPR&D was immediately expensed if the compound has no alternative future use. Milestone payment obligations incurred prior\n",
      "to regulatory approval of the compound are expensed when the event triggering an obligation to pay the milestone occurs. We recognized acquired\n",
      "IPR&D and development milestone charges of $908.5 million, $970.1 million, and $769.8 million for the years ended December 31, 2022, 2021, and\n",
      "2020, respectively.\n",
      "Acquisitions of Businesses\n",
      "Akouos Acquisition\n",
      "Overview of Transaction\n",
      "In December 2022, we acquired all shares of Akouos for a purchase price that included $ 12.50 per share in cash (or an aggregate of $327.2 million, net\n",
      "of cash acquired) plus one non-tradable contingent value right (CVR) per share. The CVR entitles the Akouos shareholders up to an additional $ 3.00 per\n",
      "share in cash (or an aggregate of approximately $122 million) payable, subject to certain terms and conditions, upon the achievement of certain specified\n",
      "milestones.\n",
      "Under the terms of the agreement, we acquired potential gene therapy treatments for hearing loss and other inner ear conditions. The lead gene\n",
      "therapies in clinical development that we acquired included GJB2 (which encodes connexin 26) for a common form of monogenic deafness and hearing\n",
      "loss; AK-OTOF for hearing loss due to mutations in the otoferlin gene; AK-CLRN1 for Usher Type 3A, an autosomal recessive disorder characterized by\n",
      "progressive loss of both hearing and vision; and AK-antiVEGF for vestibular schwannoma.\n",
      "(1)\n",
      "(1) \n",
      "67\n",
      "\n",
      "Score: 0.4786\n",
      "----------\n",
      "Rank: 3\n",
      "Content: The following table summarizes our revenue activity in 2022 compared with 2021:\n",
      "Year Ended December 31,\n",
      " \n",
      "2022\n",
      "2021\n",
      "Percent Change\n",
      "Product\n",
      "U.S.\n",
      "Outside U.S.\n",
      "Total\n",
      "Total\n",
      "Trulicity\n",
      "$\n",
      "5,688.8 \n",
      "$\n",
      "1,750.9 \n",
      "$\n",
      "7,439.7 \n",
      "$\n",
      "6,471.9 \n",
      "15\n",
      "Verzenio\n",
      "1,653.2 \n",
      "830.3 \n",
      "2,483.5 \n",
      "1,349.9 \n",
      "84\n",
      "Taltz\n",
      "1,724.6 \n",
      "757.4 \n",
      "2,482.0 \n",
      "2,212.8 \n",
      "12\n",
      "Jardiance\n",
      "1,194.5 \n",
      "871.5 \n",
      "2,066.0 \n",
      "1,490.8 \n",
      "39\n",
      "Humalog\n",
      "1,191.9 \n",
      "868.7 \n",
      "2,060.6 \n",
      "2,453.0 \n",
      "(16)\n",
      "COVID-19 antibodies\n",
      "2,008.9 \n",
      "14.7 \n",
      "2,023.5 \n",
      "2,239.3 \n",
      "(10)\n",
      "Humulin\n",
      "730.2 \n",
      "289.2 \n",
      "1,019.4 \n",
      "1,222.6 \n",
      "(17)\n",
      "Cyramza\n",
      "351.4 \n",
      "620.0 \n",
      "971.4 \n",
      "1,033.0 \n",
      "(6)\n",
      "Alimta\n",
      "543.7 \n",
      "384.0 \n",
      "927.7 \n",
      "2,061.4 \n",
      "(55)\n",
      "Olumiant\n",
      "148.2 \n",
      "682.3 \n",
      "830.5 \n",
      "1,115.1 \n",
      "(26)\n",
      "Basaglar\n",
      "470.7 \n",
      "289.7 \n",
      "760.4 \n",
      "892.5 \n",
      "(15)\n",
      "Emgality\n",
      "462.8 \n",
      "188.1 \n",
      "650.9 \n",
      "577.2 \n",
      "13\n",
      "Forteo\n",
      "367.3 \n",
      "245.8 \n",
      "613.1 \n",
      "801.9 \n",
      "(24)\n",
      "Cialis\n",
      "35.2 \n",
      "552.1 \n",
      "587.3 \n",
      "718.4 \n",
      "(18)\n",
      "Erbitux\n",
      "500.1 \n",
      "66.4 \n",
      "566.5 \n",
      "548.3 \n",
      "3\n",
      "Mounjaro\n",
      "366.6 \n",
      "115.9 \n",
      "482.5 \n",
      "— \n",
      "NM\n",
      "Zyprexa\n",
      "30.4 \n",
      "306.5 \n",
      "336.9 \n",
      "430.3 \n",
      "(22)\n",
      "Tyvyt\n",
      "— \n",
      "293.3 \n",
      "293.3 \n",
      "418.1 \n",
      "(30)\n",
      "Cymbalta\n",
      "33.7 \n",
      "249.6 \n",
      "283.3 \n",
      "581.5 \n",
      "(51)\n",
      "Other products\n",
      "687.8 \n",
      "974.9 \n",
      "1,662.9 \n",
      "1,700.4 \n",
      "(2)\n",
      "Revenue\n",
      "$\n",
      "18,190.0 \n",
      "$\n",
      "10,351.3 \n",
      "$\n",
      "28,541.4 \n",
      "$\n",
      "28,318.4 \n",
      "1\n",
      "Numbers may not add due to rounding.\n",
      "NM - Not meaningful\n",
      " Jardiance revenue includes Glyxambi , Synjardy , and Trijardy  XR.\n",
      "Humalog revenue includes insulin lispro.\n",
      "COVID-19 antibodies include sales for bamlanivimab administered alone, for bamlanivimab and etesevimab administered together, and for bebtelovimab and were made pursuant\n",
      "to Emergency Use Authorizations (EUAs) or similar regulatory authorizations.\n",
      "Olumiant revenue includes sales for baricitinib that were made pursuant to EUA or similar regulatory authorizations.\n",
      "Revenue of Trulicity increased 16 percent in the U.S., driven by increased demand, partially offset by lower realized prices due to unfavorable segment\n",
      "mix and higher contracted rebates. Revenue outside the U.S. increased 12 percent, driven by increased volume, partially offset by the unfavorable impact\n",
      "of foreign exchange rates and, to a lesser extent, lower realized prices. We experienced intermittent delays in fulfilling certain U.S. Trulicity orders during\n",
      "the second half of 2022. Actions to manage strong demand across our incretin portfolio, including measures to minimize existing patient impact in\n",
      "international markets, also affected volume in 2022.\n",
      "Revenue of Verzenio increased 98 percent in the U.S., primarily driven by increased demand. Revenue outside the U.S. increased 61 percent, driven by\n",
      "increased demand, partially offset by lower realized prices primarily due to the impact of the NRDL formulary in China and the unfavorable impact of\n",
      "foreign exchange rates.\n",
      "Revenue of Taltz increased 12 percent in the U.S., driven by increased demand, partially offset by lower realized prices. Revenue outside the U.S.\n",
      "increased 13 percent, driven by increased volume, partially offset by the unfavorable impact of foreign exchange rates and lower realized prices.\n",
      "Revenue of Jardiance increased 48 percent in the U.S., primarily driven by increased demand. Revenue outside the U.S. increased 28 percent, primarily\n",
      "driven by increased demand, partially offset by the unfavorable impact of foreign exchange rates. See Note 4 to the consolidated financial statements for\n",
      "information regarding our collaboration with Boehringer Ingelheim involving Jardiance.\n",
      "(1)\n",
      "(2)\n",
      "(3)\n",
      "®\n",
      "®\n",
      "®(4)\n",
      "®\n",
      "®\n",
      "®\n",
      "®\n",
      "®\n",
      "(1)\n",
      "®\n",
      "®\n",
      "®\n",
      "(2) \n",
      "(3) \n",
      "(4) \n",
      "46\n",
      "\n",
      "Score: 0.4737\n",
      "----------\n"
     ]
    }
   ],
   "source": [
    "query = \"what is the revenue of the company?\"\n",
    "result = embed_and_search_cohere(docs, query, top_k=3)\n",
    "print_results(query, result)"
   ]
  },
  {
   "cell_type": "markdown",
   "metadata": {},
   "source": [
    "The quality of the search can be significant with choice of embedding models, if embedding model does not work well, we need more efforts and engineering in retrieval. Poor quality of retrieval will increase the likelihood of hallucination from language models."
   ]
  },
  {
   "cell_type": "code",
   "execution_count": 48,
   "metadata": {},
   "outputs": [],
   "source": [
    "from openai import OpenAI\n",
    "\n",
    "def get_completion_from_messages(messages, model='gpt-4-1106-preview', temperature=0.1, max_tokens=1000):\n",
    "    response = client.chat.completions.create(\n",
    "        model=model,\n",
    "        messages=messages,\n",
    "        temperature=temperature,\n",
    "        max_tokens=max_tokens,\n",
    "    )\n",
    "    return response.choices[0].message.content\n",
    "\n",
    "def chat(documents, query, model='gpt-4-1106-preview', search_function=embed_and_search_cohere):\n",
    "    relevant_context = search_function(documents, query, top_k=3)\n",
    "    system_message = f\"\"\"\n",
    "    You are a seasoned financial analyst. You have been asked to analyze the financial statements of a company.\n",
    "    Answer questions from user by inspecting closely at the context from assistant\n",
    "    \"\"\"\n",
    "    messages = [\n",
    "        {\"role\": \"system\", \"content\": system_message},\n",
    "        {\"role\": \"user\", \"content\": f\"{query}\"},\n",
    "        {\"role\": \"assistant\", \"content\": f\"Relevant context: \\n {relevant_context}\"}\n",
    "    ]\n",
    "    return get_completion_from_messages(messages, model=model)\n"
   ]
  },
  {
   "cell_type": "code",
   "execution_count": 45,
   "metadata": {},
   "outputs": [
    {
     "data": {
      "text/plain": [
       "'The net income of the company for the year 2022 is $6,244.8 million.'"
      ]
     },
     "execution_count": 45,
     "metadata": {},
     "output_type": "execute_result"
    }
   ],
   "source": [
    "query = \"what is the net income of the company in the year 2022?\"\n",
    "chat(docs, query)"
   ]
  },
  {
   "cell_type": "code",
   "execution_count": 41,
   "metadata": {},
   "outputs": [
    {
     "data": {
      "text/plain": [
       "\"The provided context does not contain explicit information about the net income of the company for the year 2022. Net income is typically calculated as revenues minus expenses, taxes, and costs. To determine the net income, you would need to look at the company's income statement, which would provide details on the company's total revenues, cost of goods sold (COGS), operating expenses, interest, taxes, and other incomes or losses.\\n\\nIf you have access to the company's income statement for 2022, you can calculate the net income by subtracting the total expenses (including COGS, operating expenses, interest, taxes, and any other losses) from the total revenues. If you provide the income statement or specific figures from it, I can assist you in calculating the net income.\""
      ]
     },
     "execution_count": 41,
     "metadata": {},
     "output_type": "execute_result"
    }
   ],
   "source": [
    "query = \"what is the net income of the company in the year 2022?\"\n",
    "chat(docs, query, search_function=embed_and_search_openai)"
   ]
  },
  {
   "cell_type": "code",
   "execution_count": 46,
   "metadata": {},
   "outputs": [
    {
     "data": {
      "text/plain": [
       "\"I'm sorry, but I couldn't find the specific information about the net income of the company in the year 2022 in the provided context.\""
      ]
     },
     "execution_count": 46,
     "metadata": {},
     "output_type": "execute_result"
    }
   ],
   "source": [
    "query = \"what is the net income of the company in the year 2022?\"\n",
    "chat(docs, query, model='gpt-3.5-turbo', search_function=embed_and_search_openai)"
   ]
  },
  {
   "cell_type": "markdown",
   "metadata": {},
   "source": [
    "### Introduce LangChain\n",
    "Above code will embed documents for each call of the function, we can use vector store to embed the document only once and perform search within the database instead of wasting time and compute.\n",
    "\n",
    "LangChain provides good abstractions for the pipeline: embed, store, retrive and chat:"
   ]
  },
  {
   "cell_type": "code",
   "execution_count": 13,
   "metadata": {},
   "outputs": [],
   "source": [
    "from langchain.vectorstores import FAISS # vectorstore of our choice\n",
    "from langchain_community.embeddings import CohereEmbeddings\n",
    "from langchain_community.document_loaders import PyMuPDFLoader\n",
    "\n",
    "\n",
    "loader = PyMuPDFLoader(f\"{base_dir}/10K examples/LLY_10K.pdf\")\n",
    "embeddings = CohereEmbeddings(model=\"embed-english-v3.0\")\n",
    "documents = loader.load()\n",
    "\n",
    "# create a vectorstore from documents and embeddings\n",
    "db = FAISS.from_documents(documents=documents, embedding=embeddings)\n",
    "# directly create a retriever from documents and embeddings\n",
    "retriever = db.as_retriever(search_kwargs={\"k\": 5})\n",
    "\n",
    "# or alternatively, create a search function from a vectorstore\n",
    "def search(query, db, top_k=3):\n",
    "    relevant_pages = db.similarity_search(query, k=top_k)\n",
    "    return [page.page_content for page in relevant_pages]"
   ]
  },
  {
   "cell_type": "code",
   "execution_count": 16,
   "metadata": {},
   "outputs": [
    {
     "name": "stderr",
     "output_type": "stream",
     "text": [
      "/opt/homebrew/Caskroom/miniforge/base/envs/capstone/lib/python3.11/site-packages/langchain_core/_api/deprecation.py:189: LangChainDeprecationWarning: The class `ChatOpenAI` was deprecated in LangChain 0.1.0 and will be removed in 0.2.0. Use langchain_openai.ChatOpenAI instead.\n",
      "  warn_deprecated(\n"
     ]
    }
   ],
   "source": [
    "from langchain.chains import create_retrieval_chain\n",
    "from langchain.chains.combine_documents import create_stuff_documents_chain\n",
    "from langchain_core.prompts import ChatPromptTemplate\n",
    "from langchain.chat_models import ChatOpenAI\n",
    "\n",
    "\n",
    "prompt = ChatPromptTemplate.from_template(\n",
    "    \"\"\"You are a seasoned financial analyst. You have been asked to analyze the financial statements of a company.\n",
    "    Answer questions from user by inspecting closely at the context from assistant\n",
    "    <context>\n",
    "    {context}\n",
    "    </context>\n",
    "    Question: {input}\"\"\"\n",
    ")\n",
    "\n",
    "llm = ChatOpenAI(temperature=0.1, openai_api_key=api_key, model=\"gpt-4-1106-preview\")\n",
    "\n",
    "document_chain = create_stuff_documents_chain(llm, prompt)\n",
    "retrieval_chain = create_retrieval_chain(retriever, document_chain)"
   ]
  },
  {
   "cell_type": "code",
   "execution_count": 17,
   "metadata": {},
   "outputs": [
    {
     "data": {
      "text/plain": [
       "{'input': 'What is the revenue of the company for year 2022?',\n",
       " 'context': [Document(page_content='The following table summarizes our revenue activity in 2022 compared with 2021:\\nYear Ended December 31,\\n \\n2022\\n2021\\nPercent Change\\nProduct\\nU.S.\\nOutside U.S.\\nTotal\\nTotal\\nTrulicity\\n$\\n5,688.8 \\n$\\n1,750.9 \\n$\\n7,439.7 \\n$\\n6,471.9 \\n15\\nVerzenio\\n1,653.2 \\n830.3 \\n2,483.5 \\n1,349.9 \\n84\\nTaltz\\n1,724.6 \\n757.4 \\n2,482.0 \\n2,212.8 \\n12\\nJardiance\\n1,194.5 \\n871.5 \\n2,066.0 \\n1,490.8 \\n39\\nHumalog\\n1,191.9 \\n868.7 \\n2,060.6 \\n2,453.0 \\n(16)\\nCOVID-19 antibodies\\n2,008.9 \\n14.7 \\n2,023.5 \\n2,239.3 \\n(10)\\nHumulin\\n730.2 \\n289.2 \\n1,019.4 \\n1,222.6 \\n(17)\\nCyramza\\n351.4 \\n620.0 \\n971.4 \\n1,033.0 \\n(6)\\nAlimta\\n543.7 \\n384.0 \\n927.7 \\n2,061.4 \\n(55)\\nOlumiant\\n148.2 \\n682.3 \\n830.5 \\n1,115.1 \\n(26)\\nBasaglar\\n470.7 \\n289.7 \\n760.4 \\n892.5 \\n(15)\\nEmgality\\n462.8 \\n188.1 \\n650.9 \\n577.2 \\n13\\nForteo\\n367.3 \\n245.8 \\n613.1 \\n801.9 \\n(24)\\nCialis\\n35.2 \\n552.1 \\n587.3 \\n718.4 \\n(18)\\nErbitux\\n500.1 \\n66.4 \\n566.5 \\n548.3 \\n3\\nMounjaro\\n366.6 \\n115.9 \\n482.5 \\n— \\nNM\\nZyprexa\\n30.4 \\n306.5 \\n336.9 \\n430.3 \\n(22)\\nTyvyt\\n— \\n293.3 \\n293.3 \\n418.1 \\n(30)\\nCymbalta\\n33.7 \\n249.6 \\n283.3 \\n581.5 \\n(51)\\nOther products\\n687.8 \\n974.9 \\n1,662.9 \\n1,700.4 \\n(2)\\nRevenue\\n$\\n18,190.0 \\n$\\n10,351.3 \\n$\\n28,541.4 \\n$\\n28,318.4 \\n1\\nNumbers may not add due to rounding.\\nNM - Not meaningful\\n Jardiance revenue includes Glyxambi , Synjardy , and Trijardy  XR.\\nHumalog revenue includes insulin lispro.\\nCOVID-19 antibodies include sales for bamlanivimab administered alone, for bamlanivimab and etesevimab administered together, and for bebtelovimab and were made pursuant\\nto Emergency Use Authorizations (EUAs) or similar regulatory authorizations.\\nOlumiant revenue includes sales for baricitinib that were made pursuant to EUA or similar regulatory authorizations.\\nRevenue of Trulicity increased 16 percent in the U.S., driven by increased demand, partially offset by lower realized prices due to unfavorable segment\\nmix and higher contracted rebates. Revenue outside the U.S. increased 12 percent, driven by increased volume, partially offset by the unfavorable impact\\nof foreign exchange rates and, to a lesser extent, lower realized prices. We experienced intermittent delays in fulfilling certain U.S. Trulicity orders during\\nthe second half of 2022. Actions to manage strong demand across our incretin portfolio, including measures to minimize existing patient impact in\\ninternational markets, also affected volume in 2022.\\nRevenue of Verzenio increased 98 percent in the U.S., primarily driven by increased demand. Revenue outside the U.S. increased 61 percent, driven by\\nincreased demand, partially offset by lower realized prices primarily due to the impact of the NRDL formulary in China and the unfavorable impact of\\nforeign exchange rates.\\nRevenue of Taltz increased 12 percent in the U.S., driven by increased demand, partially offset by lower realized prices. Revenue outside the U.S.\\nincreased 13 percent, driven by increased volume, partially offset by the unfavorable impact of foreign exchange rates and lower realized prices.\\nRevenue of Jardiance increased 48 percent in the U.S., primarily driven by increased demand. Revenue outside the U.S. increased 28 percent, primarily\\ndriven by increased demand, partially offset by the unfavorable impact of foreign exchange rates. See Note 4 to the consolidated financial statements for\\ninformation regarding our collaboration with Boehringer Ingelheim involving Jardiance.\\n(1)\\n(2)\\n(3)\\n®\\n®\\n®(4)\\n®\\n®\\n®\\n®\\n®\\n(1)\\n®\\n®\\n®\\n(2) \\n(3) \\n(4) \\n46\\n', metadata={'source': '/Users/gyf/Desktop/workshop/10K examples/LLY_10K.pdf', 'file_path': '/Users/gyf/Desktop/workshop/10K examples/LLY_10K.pdf', 'page': 45, 'total_pages': 120, 'format': 'PDF 1.4', 'title': 'lly-20221231', 'author': '', 'subject': '', 'keywords': '', 'creator': 'wkhtmltopdf 0.12.6', 'producer': 'Qt 4.8.7', 'creationDate': \"D:20240118054548-05'00'\", 'modDate': '', 'trapped': ''}),\n",
       "  Document(page_content='Disaggregation of Revenue\\nThe following table summarizes revenue by product:\\nU.S.\\nOutside U.S.\\n2022\\n2021\\n2020\\n2022\\n2021\\n2020\\nRevenue—to unaffiliated customers:\\nDiabetes:\\nTrulicity\\n$\\n5,688.8 \\n$\\n4,914.4 \\n$\\n3,835.9 \\n$\\n1,750.9 \\n$\\n1,557.6 \\n$\\n1,232.2 \\nJardiance\\n1,194.5 \\n807.3 \\n620.8 \\n871.5 \\n683.5 \\n533.0 \\nHumalog\\n1,191.9 \\n1,320.7 \\n1,485.6 \\n868.7 \\n1,132.3 \\n1,140.3 \\nHumulin\\n730.2 \\n832.9 \\n866.4 \\n289.2 \\n389.6 \\n393.2 \\nBasaglar\\n470.7 \\n588.3 \\n842.3 \\n289.7 \\n304.2 \\n282.1 \\nMounjaro\\n366.6 \\n— \\n— \\n115.9 \\n— \\n— \\nOther diabetes\\n268.4 \\n255.7 \\n258.1 \\n367.8 \\n401.6 \\n344.5 \\nTotal diabetes\\n9,911.1 \\n8,719.3 \\n7,909.1 \\n4,553.7 \\n4,468.8 \\n3,925.3 \\nOncology:\\nVerzenio\\n1,653.2 \\n834.9 \\n618.2 \\n830.3 \\n515.0 \\n294.4 \\nCyramza\\n351.4 \\n358.1 \\n381.9 \\n620.0 \\n674.8 \\n650.8 \\nAlimta\\n543.7 \\n1,233.9 \\n1,265.3 \\n384.0 \\n827.5 \\n1,064.7 \\nErbitux\\n500.1 \\n481.8 \\n480.1 \\n66.4 \\n66.4 \\n56.3 \\nTyvyt\\n— \\n— \\n— \\n293.3 \\n418.1 \\n308.7 \\nOther oncology\\n169.7 \\n120.1 \\n46.6 \\n254.1 \\n210.7 \\n152.3 \\nTotal oncology\\n3,218.1 \\n3,028.8 \\n2,792.1 \\n2,448.1 \\n2,712.5 \\n2,527.2 \\nImmunology:\\nTaltz\\n1,724.6 \\n1,542.4 \\n1,288.5 \\n757.4 \\n670.4 \\n500.0 \\nOlumiant\\n148.2 \\n324.1 \\n63.8 \\n682.3 \\n791.0 \\n575.0 \\nOther immunology\\n20.0 \\n15.3 \\n20.0 \\n12.1 \\n17.6 \\n14.6 \\nTotal immunology\\n1,892.8 \\n1,881.8 \\n1,372.3 \\n1,451.8 \\n1,479.0 \\n1,089.6 \\nNeuroscience:\\nEmgality\\n462.8 \\n434.5 \\n325.9 \\n188.1 \\n142.7 \\n37.0 \\nZyprexa\\n30.4 \\n39.6 \\n46.1 \\n306.5 \\n390.7 \\n360.5 \\nCymbalta\\n33.7 \\n38.7 \\n42.1 \\n249.6 \\n542.8 \\n725.6 \\nOther neuroscience\\n85.5 \\n102.0 \\n73.2 \\n189.6 \\n207.5 \\n220.9 \\nTotal neuroscience\\n612.4 \\n614.8 \\n487.3 \\n933.8 \\n1,283.7 \\n1,344.0 \\nOther:\\nCOVID-19 antibodies\\n2,008.9 \\n1,978.0 \\n850.0 \\n14.7 \\n261.4 \\n21.2 \\nForteo\\n367.3 \\n441.6 \\n510.3 \\n245.8 \\n360.3 \\n536.0 \\nCialis\\n35.2 \\n10.6 \\n61.8 \\n552.1 \\n707.9 \\n545.4 \\nOther\\n144.2 \\n136.1 \\n246.4 \\n151.3 \\n233.9 \\n321.8 \\nTotal other\\n2,555.7 \\n2,566.4 \\n1,668.4 \\n964.0 \\n1,563.5 \\n1,424.4 \\nRevenue\\n$\\n18,190.0 \\n$\\n16,811.0 \\n$\\n14,229.3 \\n$\\n10,351.3 \\n$\\n11,507.4 \\n$\\n10,310.5 \\nNumbers may not add due to rounding.\\nJardiance revenue includes Glyxambi , Synjardy , and Trijardy  XR.\\n Humalog revenue includes insulin lispro.\\nOlumiant revenue includes sales for baricitinib that were made pursuant to Emergency Use Authorization (EUA) or similar regulatory authorizations.\\nCOVID-19 antibodies include sales for bamlanivimab administered alone, for bamlanivimab and etesevimab administered together, and for bebtelovimab and were made pursuant\\nto EUAs or similar regulatory authorizations.\\n®\\n(1)\\n® (2)\\n®\\n®\\n®\\n®\\n®\\n®\\n®\\n®\\n®\\n® (3)\\n®\\n®\\n®\\n(4)\\n®\\n®\\n(1) \\n®\\n®\\n®\\n(2)\\n(3) \\n(4) \\n66\\n', metadata={'source': '/Users/gyf/Desktop/workshop/10K examples/LLY_10K.pdf', 'file_path': '/Users/gyf/Desktop/workshop/10K examples/LLY_10K.pdf', 'page': 65, 'total_pages': 120, 'format': 'PDF 1.4', 'title': 'lly-20221231', 'author': '', 'subject': '', 'keywords': '', 'creator': 'wkhtmltopdf 0.12.6', 'producer': 'Qt 4.8.7', 'creationDate': \"D:20240118054548-05'00'\", 'modDate': '', 'trapped': ''}),\n",
       "  Document(page_content='Gross Margin, Costs, and Expenses\\nGross margin as a percent of revenue was 76.8 percent in 2022, an increase of 2.6 percentage points compared with 2021, primarily driven by a net\\ninventory impairment charge related to our COVID-19 antibodies recognized in 2021 and the unfavorable effect of foreign exchange rates on international\\ninventories sold in 2021. Additionally, in 2022, favorable product mix, including the impact of lower sales of COVID-19 antibodies and Olumiant for the\\ntreatment of COVID-19, were offset by lower realized prices and increased expenses due to inflation and logistics costs.\\nResearch and development expenses increased 4 percent to $7.19 billion in 2022, driven primarily by higher development expenses for late-stage\\nassets, partially offset by lower development expenses for COVID-19 antibodies and the favorable impact of foreign exchange rates.\\nMarketing, selling, and administrative expenses remained relatively flat at $6.44 billion in 2022, as increased costs associated with launches of new\\nproducts and indications were offset by the favorable impact of foreign exchange rates.\\nWe have undertaken compensatory actions to improve retention and address wage inflation, which will increase compensation costs and impact our\\nconsolidated results of operations.\\nWe recognized acquired IPR&D and development milestones of $908.5 million in 2022 that included the buy-out of substantially all future obligations that\\nwere contingent upon the occurrence of certain events linked to the success of our mutant-selective PI3kα inhibitor and a purchase of a Priority Review\\nVoucher. We recognized acquired IPR&D and development milestones of $970.1 million in 2021 that included charges resulting from business\\ndevelopment transactions with Foghorn, Rigel, and Precision. See Note 3 to the consolidated financial statements for additional information.\\nWe recognized asset impairment, restructuring, and other special charges of $244.6 million in 2022, primarily related to an intangible asset impairment for\\nGBA1 Gene Therapy (PR001) due to changes in estimated launch timing. We recognized asset impairment, restructuring, and other special charges of\\n$316.1 million in 2021, primarily related to an impairment of a contract-based intangible asset from our acquisition of Loxo, an intangible asset impairment\\nresulting from the sale of the rights to Qbrexza, as well as acquisition and integration costs associated with the acquisition of Prevail.\\nOther—net, (income) expense was expense of $320.9 million in 2022, primarily driven by net investment losses on equity securities. Other—net, (income)\\nexpense was expense of $201.6 million in 2021, primarily driven by a debt extinguishment loss of $405.2 million related to the repurchase of debt,\\npartially offset by net investment gains on equity securities.\\nOur effective tax rate was 8.3 percent in 2022, reflecting the favorable tax impact of the implementation of a provision in the 2017 Tax Act that requires\\ncapitalization and amortization of research and development expenses for tax purposes starting in 2022, partially offset by the tax impact of the mix of\\nearnings in higher tax jurisdictions. Our effective tax rate was 9.3 percent in 2021, reflecting the favorable tax impacts of acquired IPR&D and\\ndevelopment milestone charges, net investment gains on equity securities, and a net discrete tax benefit.\\nOperating Results—2021\\nFor a discussion of our results of operations pertaining to 2021 and 2020 see Item 7, \"Management\\'s Discussion and Analysis of Results of Operations\\nand Financial Condition\" in our Annual Report on Form 10-K for the year ended December 31, 2021.\\n48\\n', metadata={'source': '/Users/gyf/Desktop/workshop/10K examples/LLY_10K.pdf', 'file_path': '/Users/gyf/Desktop/workshop/10K examples/LLY_10K.pdf', 'page': 47, 'total_pages': 120, 'format': 'PDF 1.4', 'title': 'lly-20221231', 'author': '', 'subject': '', 'keywords': '', 'creator': 'wkhtmltopdf 0.12.6', 'producer': 'Qt 4.8.7', 'creationDate': \"D:20240118054548-05'00'\", 'modDate': '', 'trapped': ''}),\n",
       "  Document(page_content='RESULTS OF OPERATIONS\\nOperating Results—2022\\nRevenue\\nThe following table summarizes our revenue activity by region:\\nYear Ended December 31,\\n2022\\n2021\\nPercent Change\\nU.S.\\n$\\n18,190.0 \\n$\\n16,811.0 \\n8\\nOutside U.S.\\n10,351.3 \\n11,507.4 \\n(10)\\nRevenue\\n$\\n28,541.4 \\n$\\n28,318.4 \\n1\\nNumbers may not add due to rounding.\\nThe following are components of the change in revenue compared with the prior year:\\n2022 vs. 2021\\nU.S.\\nOutside U.S.\\nConsolidated\\nVolume\\n11 %\\n9 %\\n10 \\n%\\nPrice\\n(3)%\\n(10) %\\n(6)\\n%\\nForeign exchange rates\\n— %\\n(8) %\\n(3)\\n%\\nPercent change\\n8 %\\n(10) %\\n1 \\n%\\nNumbers may not add due to rounding.\\nIn the U.S. the increase in volume in 2022 was primarily driven by Trulicity, Verzenio, Jardiance, Mounjaro, and Taltz\\n, partially offset by decreased\\nvolume for Alimta, following the entry of multiple generics in the first half of 2022. In the U.S. the decrease in realized prices was primarily driven by\\nHumalog, due to a list price reduction of insulin lispro injection and unfavorable segment mix, and Trulicity and Basaglar , due to unfavorable segment mix\\nand higher contracted rebates. In addition, the decrease in realized prices of Humalog was partially offset by changes to estimates for rebates and\\ndiscounts in 2021.\\nOutside the U.S. the increase in volume in 2022 was primarily driven by Verzenio, Trulicity, Jardiance, Tyvyt\\n, and Taltz, partially offset by a decrease in\\nvolume due to generic competition for Alimta and Cymbalta  and decreased utilization of COVID-19 antibodies. The decrease in realized prices outside\\nthe U.S. was primarily driven by the impact of government pricing in China from National Reimbursement Drug List (NRDL) formulary for certain\\nproducts, particularly Tyvyt and Verzenio, and volume-based procurement (VBP) for Humalog.\\n®\\n®\\n®\\n®\\n \\n45\\n', metadata={'source': '/Users/gyf/Desktop/workshop/10K examples/LLY_10K.pdf', 'file_path': '/Users/gyf/Desktop/workshop/10K examples/LLY_10K.pdf', 'page': 44, 'total_pages': 120, 'format': 'PDF 1.4', 'title': 'lly-20221231', 'author': '', 'subject': '', 'keywords': '', 'creator': 'wkhtmltopdf 0.12.6', 'producer': 'Qt 4.8.7', 'creationDate': \"D:20240118054548-05'00'\", 'modDate': '', 'trapped': ''}),\n",
       "  Document(page_content='The following table summarizes revenue by geographical area:\\n2022\\n2021\\n2020\\nRevenue—to unaffiliated customers\\n:\\nU.S.\\n$\\n18,190.0 \\n$\\n16,811.0 \\n$\\n14,229.3 \\nEurope\\n4,299.2 \\n4,776.8 \\n4,187.7 \\nJapan\\n1,747.3 \\n2,367.0 \\n2,583.1 \\nChina\\n1,452.8 \\n1,661.4 \\n1,116.9 \\nOther foreign countries\\n2,852.0 \\n2,702.2 \\n2,422.7 \\nRevenue\\n$\\n28,541.4 \\n$\\n28,318.4 \\n$\\n24,539.8 \\nNumbers may not add due to rounding.\\nRevenue is attributed to the countries based on the location of the customer.\\nNote 3: Acquisitions\\nWe engage in various forms of business development activities to enhance our product pipeline, including acquisitions, collaborations, investments, and\\nlicensing arrangements. In connection with these arrangements, our partners may be entitled to future royalties and/or commercial milestones based on\\nsales should products be approved for commercialization and/or milestones based on the successful progress of compounds through the development\\nprocess.\\nIn December 2022, January 2021, and February 2020, we completed the acquisitions of Akouos, Inc. (Akouos), Prevail Therapeutics Inc. (Prevail), and\\nDermira, Inc. (Dermira), respectively. These transactions, as further discussed below in Acquisitions of Businesses, were accounted for as business\\ncombinations under the acquisition method of accounting. Under this method, the assets acquired and liabilities assumed were recorded at their\\nrespective fair values as of the acquisition date in our consolidated financial statements. The determination of estimated fair value required management\\nto make significant estimates and assumptions. The excess of the purchase price over the fair value of the acquired net assets, where applicable, has\\nbeen recorded as goodwill. The results of operations of these acquisitions have been included in our consolidated financial statements from the date of\\nacquisition.\\nWe also acquired assets in development in 2022, 2021, and 2020, which are further discussed below in Asset Acquisitions. Upon each acquisition, the\\ncost allocated to acquired IPR&D was immediately expensed if the compound has no alternative future use. Milestone payment obligations incurred prior\\nto regulatory approval of the compound are expensed when the event triggering an obligation to pay the milestone occurs. We recognized acquired\\nIPR&D and development milestone charges of $908.5 million, $970.1 million, and $769.8 million for the years ended December 31, 2022, 2021, and\\n2020, respectively.\\nAcquisitions of Businesses\\nAkouos Acquisition\\nOverview of Transaction\\nIn December 2022, we acquired all shares of Akouos for a purchase price that included $ 12.50 per share in cash (or an aggregate of $327.2 million, net\\nof cash acquired) plus one non-tradable contingent value right (CVR) per share. The CVR entitles the Akouos shareholders up to an additional $ 3.00 per\\nshare in cash (or an aggregate of approximately $122 million) payable, subject to certain terms and conditions, upon the achievement of certain specified\\nmilestones.\\nUnder the terms of the agreement, we acquired potential gene therapy treatments for hearing loss and other inner ear conditions. The lead gene\\ntherapies in clinical development that we acquired included GJB2 (which encodes connexin 26) for a common form of monogenic deafness and hearing\\nloss; AK-OTOF for hearing loss due to mutations in the otoferlin gene; AK-CLRN1 for Usher Type 3A, an autosomal recessive disorder characterized by\\nprogressive loss of both hearing and vision; and AK-antiVEGF for vestibular schwannoma.\\n(1)\\n(1) \\n67\\n', metadata={'source': '/Users/gyf/Desktop/workshop/10K examples/LLY_10K.pdf', 'file_path': '/Users/gyf/Desktop/workshop/10K examples/LLY_10K.pdf', 'page': 66, 'total_pages': 120, 'format': 'PDF 1.4', 'title': 'lly-20221231', 'author': '', 'subject': '', 'keywords': '', 'creator': 'wkhtmltopdf 0.12.6', 'producer': 'Qt 4.8.7', 'creationDate': \"D:20240118054548-05'00'\", 'modDate': '', 'trapped': ''})],\n",
       " 'answer': 'The revenue of the company for the year 2022 is $28,541.4 million.'}"
      ]
     },
     "execution_count": 17,
     "metadata": {},
     "output_type": "execute_result"
    }
   ],
   "source": [
    "retrieval_chain.invoke({\"input\": \"What is the revenue of the company for year 2022?\"})"
   ]
  },
  {
   "cell_type": "code",
   "execution_count": 59,
   "metadata": {},
   "outputs": [
    {
     "data": {
      "text/plain": [
       "{'input': 'What is the net income of the company for year 2022?',\n",
       " 'context': [Document(page_content='Gross Margin, Costs, and Expenses\\nGross margin as a percent of revenue was 76.8 percent in 2022, an increase of 2.6 percentage points compared with 2021, primarily driven by a net\\ninventory impairment charge related to our COVID-19 antibodies recognized in 2021 and the unfavorable effect of foreign exchange rates on international\\ninventories sold in 2021. Additionally, in 2022, favorable product mix, including the impact of lower sales of COVID-19 antibodies and Olumiant for the\\ntreatment of COVID-19, were offset by lower realized prices and increased expenses due to inflation and logistics costs.\\nResearch and development expenses increased 4 percent to $7.19 billion in 2022, driven primarily by higher development expenses for late-stage\\nassets, partially offset by lower development expenses for COVID-19 antibodies and the favorable impact of foreign exchange rates.\\nMarketing, selling, and administrative expenses remained relatively flat at $6.44 billion in 2022, as increased costs associated with launches of new\\nproducts and indications were offset by the favorable impact of foreign exchange rates.\\nWe have undertaken compensatory actions to improve retention and address wage inflation, which will increase compensation costs and impact our\\nconsolidated results of operations.\\nWe recognized acquired IPR&D and development milestones of $908.5 million in 2022 that included the buy-out of substantially all future obligations that\\nwere contingent upon the occurrence of certain events linked to the success of our mutant-selective PI3kα inhibitor and a purchase of a Priority Review\\nVoucher. We recognized acquired IPR&D and development milestones of $970.1 million in 2021 that included charges resulting from business\\ndevelopment transactions with Foghorn, Rigel, and Precision. See Note 3 to the consolidated financial statements for additional information.\\nWe recognized asset impairment, restructuring, and other special charges of $244.6 million in 2022, primarily related to an intangible asset impairment for\\nGBA1 Gene Therapy (PR001) due to changes in estimated launch timing. We recognized asset impairment, restructuring, and other special charges of\\n$316.1 million in 2021, primarily related to an impairment of a contract-based intangible asset from our acquisition of Loxo, an intangible asset impairment\\nresulting from the sale of the rights to Qbrexza, as well as acquisition and integration costs associated with the acquisition of Prevail.\\nOther—net, (income) expense was expense of $320.9 million in 2022, primarily driven by net investment losses on equity securities. Other—net, (income)\\nexpense was expense of $201.6 million in 2021, primarily driven by a debt extinguishment loss of $405.2 million related to the repurchase of debt,\\npartially offset by net investment gains on equity securities.\\nOur effective tax rate was 8.3 percent in 2022, reflecting the favorable tax impact of the implementation of a provision in the 2017 Tax Act that requires\\ncapitalization and amortization of research and development expenses for tax purposes starting in 2022, partially offset by the tax impact of the mix of\\nearnings in higher tax jurisdictions. Our effective tax rate was 9.3 percent in 2021, reflecting the favorable tax impacts of acquired IPR&D and\\ndevelopment milestone charges, net investment gains on equity securities, and a net discrete tax benefit.\\nOperating Results—2021\\nFor a discussion of our results of operations pertaining to 2021 and 2020 see Item 7, \"Management\\'s Discussion and Analysis of Results of Operations\\nand Financial Condition\" in our Annual Report on Form 10-K for the year ended December 31, 2021.\\n48\\n', metadata={'source': '/Users/gyf/Desktop/workshop/Eli_Lilly_10K.pdf', 'file_path': '/Users/gyf/Desktop/workshop/Eli_Lilly_10K.pdf', 'page': 47, 'total_pages': 120, 'format': 'PDF 1.4', 'title': 'lly-20221231', 'author': '', 'subject': '', 'keywords': '', 'creator': 'wkhtmltopdf 0.12.6', 'producer': 'Qt 4.8.7', 'creationDate': \"D:20240118054548-05'00'\", 'modDate': '', 'trapped': ''}),\n",
       "  Document(page_content='Item 6. [Reserved]\\nItem 7. Management\\'s Discussion and Analysis of Results of Operations\\nand Financial Condition\\n(Tables present dollars in millions, except per-share data)\\nGeneral\\nManagement\\'s discussion and analysis of results of operations and financial condition is intended to assist the reader in understanding and assessing\\nsignificant changes and trends related to our company\\'s results of operations and financial position. This discussion and analysis should be read in\\nconjunction with Item 8, \"Financial Statements and Supplementary Data.\" Certain statements in this Item 7 constitute forward-looking statements. Various\\nrisks and uncertainties, including those discussed in \"Forward-Looking Statements\" and Item 1A, \"Risk Factors,\" may cause our actual results, financial\\nposition, and cash generated from operations to differ materially from these forward-looking statements.\\nEXECUTIVE OVERVIEW\\nThis section provides an overview of our financial results, late-stage pipeline developments, and other matters affecting our company and the\\npharmaceutical industry.\\nFinancial Results\\nThe following table summarizes our key operating results:\\nYear Ended December 31\\nPercent Change\\n2022\\n2021\\nRevenue\\n$\\n28,541.4 \\n$\\n28,318.4 \\n1\\nGross margin\\n21,911.6 \\n21,005.6 \\n4\\nGross margin as a percent of revenue\\n76.8 %\\n74.2 %\\nResearch and development\\n$\\n7,190.8 \\n$\\n6,930.7 \\n4\\nMarketing, selling, and administrative\\n6,440.4 \\n6,431.6 \\n—\\nAcquired in-process research and development (IPR&D) and development\\nmilestones\\n908.5 \\n970.1 \\n(6)\\nAsset impairment, restructuring, and other special charges\\n244.6 \\n316.1 \\n(23)\\nOther—net, (income) expense\\n320.9 \\n201.6 \\n59\\nNet income\\n6,244.8 \\n5,581.7 \\n12\\nEarnings per share - diluted\\n6.90 \\n6.12 \\n13\\nRevenue increased in 2022 driven by increased volume, largely offset by lower realized prices and the unfavorable impact of foreign exchange rates.\\nResearch and development expenses increased in 2022, driven primarily by higher development expenses for late-stage assets, partially offset by lower\\ndevelopment expenses for COVID-19 antibodies and the favorable impact of foreign exchange rates. Marketing, selling, and administrative expenses in\\n2022 remained relatively flat compared to 2021 as increased costs associated with launches of new products and indications were offset by the favorable\\nimpact of foreign exchange rates.\\n37\\n', metadata={'source': '/Users/gyf/Desktop/workshop/Eli_Lilly_10K.pdf', 'file_path': '/Users/gyf/Desktop/workshop/Eli_Lilly_10K.pdf', 'page': 36, 'total_pages': 120, 'format': 'PDF 1.4', 'title': 'lly-20221231', 'author': '', 'subject': '', 'keywords': '', 'creator': 'wkhtmltopdf 0.12.6', 'producer': 'Qt 4.8.7', 'creationDate': \"D:20240118054548-05'00'\", 'modDate': '', 'trapped': ''}),\n",
       "  Document(page_content='The following table summarizes revenue by geographical area:\\n2022\\n2021\\n2020\\nRevenue—to unaffiliated customers\\n:\\nU.S.\\n$\\n18,190.0 \\n$\\n16,811.0 \\n$\\n14,229.3 \\nEurope\\n4,299.2 \\n4,776.8 \\n4,187.7 \\nJapan\\n1,747.3 \\n2,367.0 \\n2,583.1 \\nChina\\n1,452.8 \\n1,661.4 \\n1,116.9 \\nOther foreign countries\\n2,852.0 \\n2,702.2 \\n2,422.7 \\nRevenue\\n$\\n28,541.4 \\n$\\n28,318.4 \\n$\\n24,539.8 \\nNumbers may not add due to rounding.\\nRevenue is attributed to the countries based on the location of the customer.\\nNote 3: Acquisitions\\nWe engage in various forms of business development activities to enhance our product pipeline, including acquisitions, collaborations, investments, and\\nlicensing arrangements. In connection with these arrangements, our partners may be entitled to future royalties and/or commercial milestones based on\\nsales should products be approved for commercialization and/or milestones based on the successful progress of compounds through the development\\nprocess.\\nIn December 2022, January 2021, and February 2020, we completed the acquisitions of Akouos, Inc. (Akouos), Prevail Therapeutics Inc. (Prevail), and\\nDermira, Inc. (Dermira), respectively. These transactions, as further discussed below in Acquisitions of Businesses, were accounted for as business\\ncombinations under the acquisition method of accounting. Under this method, the assets acquired and liabilities assumed were recorded at their\\nrespective fair values as of the acquisition date in our consolidated financial statements. The determination of estimated fair value required management\\nto make significant estimates and assumptions. The excess of the purchase price over the fair value of the acquired net assets, where applicable, has\\nbeen recorded as goodwill. The results of operations of these acquisitions have been included in our consolidated financial statements from the date of\\nacquisition.\\nWe also acquired assets in development in 2022, 2021, and 2020, which are further discussed below in Asset Acquisitions. Upon each acquisition, the\\ncost allocated to acquired IPR&D was immediately expensed if the compound has no alternative future use. Milestone payment obligations incurred prior\\nto regulatory approval of the compound are expensed when the event triggering an obligation to pay the milestone occurs. We recognized acquired\\nIPR&D and development milestone charges of $908.5 million, $970.1 million, and $769.8 million for the years ended December 31, 2022, 2021, and\\n2020, respectively.\\nAcquisitions of Businesses\\nAkouos Acquisition\\nOverview of Transaction\\nIn December 2022, we acquired all shares of Akouos for a purchase price that included $ 12.50 per share in cash (or an aggregate of $327.2 million, net\\nof cash acquired) plus one non-tradable contingent value right (CVR) per share. The CVR entitles the Akouos shareholders up to an additional $ 3.00 per\\nshare in cash (or an aggregate of approximately $122 million) payable, subject to certain terms and conditions, upon the achievement of certain specified\\nmilestones.\\nUnder the terms of the agreement, we acquired potential gene therapy treatments for hearing loss and other inner ear conditions. The lead gene\\ntherapies in clinical development that we acquired included GJB2 (which encodes connexin 26) for a common form of monogenic deafness and hearing\\nloss; AK-OTOF for hearing loss due to mutations in the otoferlin gene; AK-CLRN1 for Usher Type 3A, an autosomal recessive disorder characterized by\\nprogressive loss of both hearing and vision; and AK-antiVEGF for vestibular schwannoma.\\n(1)\\n(1) \\n67\\n', metadata={'source': '/Users/gyf/Desktop/workshop/Eli_Lilly_10K.pdf', 'file_path': '/Users/gyf/Desktop/workshop/Eli_Lilly_10K.pdf', 'page': 66, 'total_pages': 120, 'format': 'PDF 1.4', 'title': 'lly-20221231', 'author': '', 'subject': '', 'keywords': '', 'creator': 'wkhtmltopdf 0.12.6', 'producer': 'Qt 4.8.7', 'creationDate': \"D:20240118054548-05'00'\", 'modDate': '', 'trapped': ''})],\n",
       " 'answer': 'The net income of the company for the year 2022 is $6,244.8 million.'}"
      ]
     },
     "execution_count": 59,
     "metadata": {},
     "output_type": "execute_result"
    }
   ],
   "source": [
    "retrieval_chain.invoke({\"input\": \"What is the net income of the company for year 2022?\"})['answer']"
   ]
  },
  {
   "cell_type": "code",
   "execution_count": 60,
   "metadata": {},
   "outputs": [
    {
     "data": {
      "text/plain": [
       "{'input': 'Who is the CEO of the company?',\n",
       " 'context': [Document(page_content='Name\\nAge\\nTitles and Business Experience\\nDavid Ricks\\n55\\nChair, President, and Chief Executive Officer (CEO) (since 2017). Previously, Mr. Ricks held various leadership roles with Lilly,\\nincluding senior vice president and president, Lilly Bio-Medicines. Mr. Ricks has 26 years of service with Lilly.\\nAnat Ashkenazi\\n50\\nExecutive Vice President and Chief Financial Officer (since 2021). Previously, Ms. Ashkenazi held various leadership roles with Lilly,\\nincluding senior vice president, controller and chief financial officer, Lilly Research Laboratories, and vice president, finance and chief\\nfinancial officer, Lilly Diabetes and Lilly global manufacturing and quality. Ms. Ashkenazi has 21 years of service with Lilly.\\nEric Dozier\\n56\\nExecutive Vice President, Human Resources and Diversity (since 2022). Previously, Mr. Dozier held various leadership roles with\\nLilly, including senior vice president, chief commercial officer for Loxo@Lilly, and vice president, global ethics and compliance officer.\\nMr. Dozier has 25 years of service with Lilly.\\nAnat Hakim\\n53\\nExecutive Vice President, General Counsel and Secretary (since 2020). Prior to joining Lilly, Ms. Hakim was senior vice president,\\ngeneral counsel and secretary of WellCare Health Plans, Inc. (WellCare) from 2016 to 2018, and executive vice president, general\\ncounsel and secretary of WellCare from 2018 to 2020. Prior to joining WellCare, she served as divisional vice president and\\nassociate general counsel of intellectual property litigation at Abbott Laboratories from 2010 to 2013 and divisional vice president and\\nassociate general counsel of litigation from 2013 to 2016. Ms. Hakim has three years of service with Lilly.\\nEdgardo Hernandez\\n48\\nExecutive Vice President and President, Manufacturing Operations (since 2021). Previously, Mr. Hernandez held various leadership\\nroles with Lilly, including senior vice president, global parenteral drug product, delivery devices and regional manufacturing, and vice\\npresident, Fegersheim operations. Mr. Hernandez has 18 years of service with Lilly.\\nPatrik Jonsson\\n56\\nExecutive Vice President and President, Lilly Immunology, Lilly USA, and Chief Customer Officer (since 2021). Previously, Mr.\\nJonsson held various leadership roles with Lilly, including senior vice president and president, Lilly USA, and chief customer officer,\\nsenior vice president and president, Lilly Bio-Medicines and president and general manager, Lilly Japan. Mr. Jonsson has 32 years of\\nservice with Lilly.\\nMichael Mason\\n56\\nExecutive Vice President and President, Lilly Diabetes (since 2020). Previously, Mr. Mason held various leadership roles with Lilly,\\nincluding senior vice president, connected care and insulins and vice president of U.S. Diabetes. Mr. Mason has 33 years of service\\nwith Lilly.\\nJohna Norton\\n56\\nExecutive Vice President, Global Quality (since 2017). Previously, Ms. Norton held various leadership roles with Lilly, including vice\\npresident, global quality assurance API manufacturing and product research and development. Ms. Norton has 32 years of service\\nwith Lilly.\\nLeigh Ann Pusey\\n60\\nExecutive Vice President, Corporate Affairs and Communications (since 2017). Prior to joining Lilly, Ms. Pusey was president and\\nchief executive officer of the American Insurance Association from 2009 to 2017. Ms. Pusey has five years of service with Lilly.\\nDiogo Rau\\n48\\nExecutive Vice President and Chief Information and Digital Officer (since 2021). Prior to joining Lilly, Mr. Rau was senior director of\\ninformation systems and technology for retail and online stores of Apple Inc. from 2011 to 2021. Prior to his tenure at Apple, he\\nserved as a partner at McKinsey & Company. Mr. Rau has two years of service with Lilly.\\nDaniel Skovronsky, M.D., Ph.D.\\n49\\nExecutive Vice President, Chief Scientific and Medical Officer, and President, Lilly Research Laboratories (since 2021). Previously,\\nDr. Skovronsky held various leadership roles with Lilly, including senior vice president, chief scientific officer, and president, Lilly\\nResearch Laboratories, and senior vice president, clinical and product development. Dr. Skovronsky has 12 years of service with\\nLilly.\\nJacob Van Naarden\\n38\\nExecutive Vice President, CEO, Loxo@Lilly, and President, Lilly Oncology (since 2021). Previously, Mr. Van Naarden served as\\nChief Executive Officer-Loxo Oncology at Lilly, and Chief Operating Officer-Loxo Oncology at Lilly. Mr. Van Naarden joined Lilly in\\n2019 when the company acquired Loxo Oncology, Inc., where he was the chief operating officer. In previous roles, Mr. Van Naarden\\nworked in various biotechnology investing, operating, and advisory capacities, including positions with HealthCor Management,\\nAisling Capital, and Goldman Sachs. Mr. Van Naarden has four years of service with Lilly.\\nAlonzo Weems\\n52\\nExecutive Vice President, Enterprise Risk Management, and Chief Ethics and Compliance Officer (since 2021). Previously, Mr.\\nWeems held various leadership roles with Lilly, including vice president and deputy general counsel for corporate legal functions,\\ngeneral counsel for Lilly USA, and general counsel for biomedicines and diabetes. Mr. Weems has 25 years of service with Lilly.\\nAnne White\\n54\\nExecutive Vice President and President, Lilly Neuroscience (since 2021). Previously, Ms. White held various leadership roles with\\nLilly, including senior vice president and president, Lilly Oncology, vice president of Portfolio Management, Chorus, and Next\\nGeneration Research and Development. Ms. White has 27 years of service with Lilly.\\nIlya Yuffa\\n48\\nExecutive Vice President and President, Lilly International (since 2021). Previously, Mr. Yuffa held various leadership roles with Lilly,\\nincluding senior vice president and president, Lilly Bio-Medicines, vice president of U.S. Diabetes, general manager of Italy Hub, and\\nvice president, global ethics and compliance officer since 2014. Mr. Yuffa has 26 years of service with Lilly.\\n20\\n', metadata={'source': '/Users/gyf/Desktop/workshop/Eli_Lilly_10K.pdf', 'file_path': '/Users/gyf/Desktop/workshop/Eli_Lilly_10K.pdf', 'page': 19, 'total_pages': 120, 'format': 'PDF 1.4', 'title': 'lly-20221231', 'author': '', 'subject': '', 'keywords': '', 'creator': 'wkhtmltopdf 0.12.6', 'producer': 'Qt 4.8.7', 'creationDate': \"D:20240118054548-05'00'\", 'modDate': '', 'trapped': ''}),\n",
       "  Document(page_content='Quality Assurance\\nOur success depends in great measure on customer confidence in the quality of our products and in the integrity of the data that support their safety and\\neffectiveness. Product quality requires a total commitment to quality in all parts of our operations, including research and development, purchasing,\\nfacilities planning, manufacturing, distribution, and dissemination of information about our medicines.\\nQuality of production processes involves strict control of ingredients, equipment, facilities, manufacturing methods, packaging materials, and labeling. We\\nperform tests at various stages of production processes and on the final product in an effort to ensure that the product meets all applicable regulatory\\nrequirements and our internal standards. These tests may involve chemical and physical chemical analyses, microbiological testing, testing in animals, or\\na combination thereof. Additional assurance of quality is provided by quality assurance groups that audit and monitor all aspects of quality related to\\npharmaceutical manufacturing procedures and systems in company operations and at third-party suppliers.\\nExecutive Officers of the Company\\nThe following table sets forth certain information regarding our current executive officers.\\nThe term of office for each executive officer expires on the date of the annual meeting of the board of directors, to be held on May 1, 2023 in connection\\nwith the company\\'s annual meeting of shareholders, or on the date his or her successor is chosen and qualified. No director or executive officer has a\\n\"family relationship\" with any other director or executive officer of the company, as that term is defined for purposes of this disclosure requirement. There\\nis no understanding between any executive officer or director and any other person pursuant to which the executive officer was selected.\\n19\\n', metadata={'source': '/Users/gyf/Desktop/workshop/Eli_Lilly_10K.pdf', 'file_path': '/Users/gyf/Desktop/workshop/Eli_Lilly_10K.pdf', 'page': 18, 'total_pages': 120, 'format': 'PDF 1.4', 'title': 'lly-20221231', 'author': '', 'subject': '', 'keywords': '', 'creator': 'wkhtmltopdf 0.12.6', 'producer': 'Qt 4.8.7', 'creationDate': \"D:20240118054548-05'00'\", 'modDate': '', 'trapped': ''}),\n",
       "  Document(page_content='Pursuant to the requirements of the Securities Exchange Act of 1934, this report has been signed below on February 22, 2023 by the following persons\\non behalf of the Registrant and in the capacities indicated.\\nSignature\\nTitle\\n/s/    David Ricks\\nChair, President, and Chief Executive Officer (principal executive\\nofficer)\\nDAVID RICKS\\n/s/    Anat Ashkenazi\\nExecutive Vice President and Chief Financial Officer (principal\\nfinancial officer)\\nANAT ASHKENAZI\\n/s/    Donald Zakrowski\\nSenior Vice President, Finance, and Chief Accounting Officer\\n(principal accounting officer)\\nDONALD ZAKROWSKI\\n/s/    Ralph Alvarez\\nDirector\\nRALPH ALVAREZ\\n/s/    Katherine Baicker, Ph.D.\\nDirector\\nKATHERINE BAICKER, Ph.D.\\n/s/    Erik Fyrwald\\nDirector\\nERIK FYRWALD\\n/s/    Mary Lynne Hedley, Ph.D.\\nDirector\\nMARY LYNNE HEDLEY, Ph. D.\\n/s/    Jamere Jackson\\nDirector\\nJAMERE JACKSON\\n/s/    Kimberly Johnson\\nDirector\\nKIMBERLY JOHNSON\\n/s/    William Kaelin, Jr., M.D.\\nDirector\\nWILLIAM KAELIN, JR., M.D.\\n/s/    Juan Luciano\\nDirector\\nJUAN LUCIANO\\n/s/    Marschall Runge, M.D., Ph.D.\\nDirector\\nMARSCHALL RUNGE, M.D., Ph.D.\\n/s/    Gabrielle Sulzberger\\nDirector\\nGABRIELLE SULZBERGER\\n/s/    Jackson Tai\\nDirector\\nJACKSON TAI\\n/s/    Karen Walker\\nDirector\\nKAREN WALKER\\n119\\n', metadata={'source': '/Users/gyf/Desktop/workshop/Eli_Lilly_10K.pdf', 'file_path': '/Users/gyf/Desktop/workshop/Eli_Lilly_10K.pdf', 'page': 118, 'total_pages': 120, 'format': 'PDF 1.4', 'title': 'lly-20221231', 'author': '', 'subject': '', 'keywords': '', 'creator': 'wkhtmltopdf 0.12.6', 'producer': 'Qt 4.8.7', 'creationDate': \"D:20240118054548-05'00'\", 'modDate': '', 'trapped': ''})],\n",
       " 'answer': 'The CEO of the company is David Ricks.'}"
      ]
     },
     "execution_count": 60,
     "metadata": {},
     "output_type": "execute_result"
    }
   ],
   "source": [
    "retrieval_chain.invoke({\"input\": \"Who is the CEO of the company?\"})['answer']"
   ]
  },
  {
   "cell_type": "code",
   "execution_count": 78,
   "metadata": {},
   "outputs": [
    {
     "data": {
      "text/plain": [
       "{'input': 'Get the revenue, the net income of the company for year 2022.',\n",
       " 'context': [Document(page_content='Gross Margin, Costs, and Expenses\\nGross margin as a percent of revenue was 76.8 percent in 2022, an increase of 2.6 percentage points compared with 2021, primarily driven by a net\\ninventory impairment charge related to our COVID-19 antibodies recognized in 2021 and the unfavorable effect of foreign exchange rates on international\\ninventories sold in 2021. Additionally, in 2022, favorable product mix, including the impact of lower sales of COVID-19 antibodies and Olumiant for the\\ntreatment of COVID-19, were offset by lower realized prices and increased expenses due to inflation and logistics costs.\\nResearch and development expenses increased 4 percent to $7.19 billion in 2022, driven primarily by higher development expenses for late-stage\\nassets, partially offset by lower development expenses for COVID-19 antibodies and the favorable impact of foreign exchange rates.\\nMarketing, selling, and administrative expenses remained relatively flat at $6.44 billion in 2022, as increased costs associated with launches of new\\nproducts and indications were offset by the favorable impact of foreign exchange rates.\\nWe have undertaken compensatory actions to improve retention and address wage inflation, which will increase compensation costs and impact our\\nconsolidated results of operations.\\nWe recognized acquired IPR&D and development milestones of $908.5 million in 2022 that included the buy-out of substantially all future obligations that\\nwere contingent upon the occurrence of certain events linked to the success of our mutant-selective PI3kα inhibitor and a purchase of a Priority Review\\nVoucher. We recognized acquired IPR&D and development milestones of $970.1 million in 2021 that included charges resulting from business\\ndevelopment transactions with Foghorn, Rigel, and Precision. See Note 3 to the consolidated financial statements for additional information.\\nWe recognized asset impairment, restructuring, and other special charges of $244.6 million in 2022, primarily related to an intangible asset impairment for\\nGBA1 Gene Therapy (PR001) due to changes in estimated launch timing. We recognized asset impairment, restructuring, and other special charges of\\n$316.1 million in 2021, primarily related to an impairment of a contract-based intangible asset from our acquisition of Loxo, an intangible asset impairment\\nresulting from the sale of the rights to Qbrexza, as well as acquisition and integration costs associated with the acquisition of Prevail.\\nOther—net, (income) expense was expense of $320.9 million in 2022, primarily driven by net investment losses on equity securities. Other—net, (income)\\nexpense was expense of $201.6 million in 2021, primarily driven by a debt extinguishment loss of $405.2 million related to the repurchase of debt,\\npartially offset by net investment gains on equity securities.\\nOur effective tax rate was 8.3 percent in 2022, reflecting the favorable tax impact of the implementation of a provision in the 2017 Tax Act that requires\\ncapitalization and amortization of research and development expenses for tax purposes starting in 2022, partially offset by the tax impact of the mix of\\nearnings in higher tax jurisdictions. Our effective tax rate was 9.3 percent in 2021, reflecting the favorable tax impacts of acquired IPR&D and\\ndevelopment milestone charges, net investment gains on equity securities, and a net discrete tax benefit.\\nOperating Results—2021\\nFor a discussion of our results of operations pertaining to 2021 and 2020 see Item 7, \"Management\\'s Discussion and Analysis of Results of Operations\\nand Financial Condition\" in our Annual Report on Form 10-K for the year ended December 31, 2021.\\n48\\n', metadata={'source': '/Users/gyf/Desktop/workshop/Eli_Lilly_10K.pdf', 'file_path': '/Users/gyf/Desktop/workshop/Eli_Lilly_10K.pdf', 'page': 47, 'total_pages': 120, 'format': 'PDF 1.4', 'title': 'lly-20221231', 'author': '', 'subject': '', 'keywords': '', 'creator': 'wkhtmltopdf 0.12.6', 'producer': 'Qt 4.8.7', 'creationDate': \"D:20240118054548-05'00'\", 'modDate': '', 'trapped': ''}),\n",
       "  Document(page_content='The following table summarizes revenue by geographical area:\\n2022\\n2021\\n2020\\nRevenue—to unaffiliated customers\\n:\\nU.S.\\n$\\n18,190.0 \\n$\\n16,811.0 \\n$\\n14,229.3 \\nEurope\\n4,299.2 \\n4,776.8 \\n4,187.7 \\nJapan\\n1,747.3 \\n2,367.0 \\n2,583.1 \\nChina\\n1,452.8 \\n1,661.4 \\n1,116.9 \\nOther foreign countries\\n2,852.0 \\n2,702.2 \\n2,422.7 \\nRevenue\\n$\\n28,541.4 \\n$\\n28,318.4 \\n$\\n24,539.8 \\nNumbers may not add due to rounding.\\nRevenue is attributed to the countries based on the location of the customer.\\nNote 3: Acquisitions\\nWe engage in various forms of business development activities to enhance our product pipeline, including acquisitions, collaborations, investments, and\\nlicensing arrangements. In connection with these arrangements, our partners may be entitled to future royalties and/or commercial milestones based on\\nsales should products be approved for commercialization and/or milestones based on the successful progress of compounds through the development\\nprocess.\\nIn December 2022, January 2021, and February 2020, we completed the acquisitions of Akouos, Inc. (Akouos), Prevail Therapeutics Inc. (Prevail), and\\nDermira, Inc. (Dermira), respectively. These transactions, as further discussed below in Acquisitions of Businesses, were accounted for as business\\ncombinations under the acquisition method of accounting. Under this method, the assets acquired and liabilities assumed were recorded at their\\nrespective fair values as of the acquisition date in our consolidated financial statements. The determination of estimated fair value required management\\nto make significant estimates and assumptions. The excess of the purchase price over the fair value of the acquired net assets, where applicable, has\\nbeen recorded as goodwill. The results of operations of these acquisitions have been included in our consolidated financial statements from the date of\\nacquisition.\\nWe also acquired assets in development in 2022, 2021, and 2020, which are further discussed below in Asset Acquisitions. Upon each acquisition, the\\ncost allocated to acquired IPR&D was immediately expensed if the compound has no alternative future use. Milestone payment obligations incurred prior\\nto regulatory approval of the compound are expensed when the event triggering an obligation to pay the milestone occurs. We recognized acquired\\nIPR&D and development milestone charges of $908.5 million, $970.1 million, and $769.8 million for the years ended December 31, 2022, 2021, and\\n2020, respectively.\\nAcquisitions of Businesses\\nAkouos Acquisition\\nOverview of Transaction\\nIn December 2022, we acquired all shares of Akouos for a purchase price that included $ 12.50 per share in cash (or an aggregate of $327.2 million, net\\nof cash acquired) plus one non-tradable contingent value right (CVR) per share. The CVR entitles the Akouos shareholders up to an additional $ 3.00 per\\nshare in cash (or an aggregate of approximately $122 million) payable, subject to certain terms and conditions, upon the achievement of certain specified\\nmilestones.\\nUnder the terms of the agreement, we acquired potential gene therapy treatments for hearing loss and other inner ear conditions. The lead gene\\ntherapies in clinical development that we acquired included GJB2 (which encodes connexin 26) for a common form of monogenic deafness and hearing\\nloss; AK-OTOF for hearing loss due to mutations in the otoferlin gene; AK-CLRN1 for Usher Type 3A, an autosomal recessive disorder characterized by\\nprogressive loss of both hearing and vision; and AK-antiVEGF for vestibular schwannoma.\\n(1)\\n(1) \\n67\\n', metadata={'source': '/Users/gyf/Desktop/workshop/Eli_Lilly_10K.pdf', 'file_path': '/Users/gyf/Desktop/workshop/Eli_Lilly_10K.pdf', 'page': 66, 'total_pages': 120, 'format': 'PDF 1.4', 'title': 'lly-20221231', 'author': '', 'subject': '', 'keywords': '', 'creator': 'wkhtmltopdf 0.12.6', 'producer': 'Qt 4.8.7', 'creationDate': \"D:20240118054548-05'00'\", 'modDate': '', 'trapped': ''}),\n",
       "  Document(page_content='Item 6. [Reserved]\\nItem 7. Management\\'s Discussion and Analysis of Results of Operations\\nand Financial Condition\\n(Tables present dollars in millions, except per-share data)\\nGeneral\\nManagement\\'s discussion and analysis of results of operations and financial condition is intended to assist the reader in understanding and assessing\\nsignificant changes and trends related to our company\\'s results of operations and financial position. This discussion and analysis should be read in\\nconjunction with Item 8, \"Financial Statements and Supplementary Data.\" Certain statements in this Item 7 constitute forward-looking statements. Various\\nrisks and uncertainties, including those discussed in \"Forward-Looking Statements\" and Item 1A, \"Risk Factors,\" may cause our actual results, financial\\nposition, and cash generated from operations to differ materially from these forward-looking statements.\\nEXECUTIVE OVERVIEW\\nThis section provides an overview of our financial results, late-stage pipeline developments, and other matters affecting our company and the\\npharmaceutical industry.\\nFinancial Results\\nThe following table summarizes our key operating results:\\nYear Ended December 31\\nPercent Change\\n2022\\n2021\\nRevenue\\n$\\n28,541.4 \\n$\\n28,318.4 \\n1\\nGross margin\\n21,911.6 \\n21,005.6 \\n4\\nGross margin as a percent of revenue\\n76.8 %\\n74.2 %\\nResearch and development\\n$\\n7,190.8 \\n$\\n6,930.7 \\n4\\nMarketing, selling, and administrative\\n6,440.4 \\n6,431.6 \\n—\\nAcquired in-process research and development (IPR&D) and development\\nmilestones\\n908.5 \\n970.1 \\n(6)\\nAsset impairment, restructuring, and other special charges\\n244.6 \\n316.1 \\n(23)\\nOther—net, (income) expense\\n320.9 \\n201.6 \\n59\\nNet income\\n6,244.8 \\n5,581.7 \\n12\\nEarnings per share - diluted\\n6.90 \\n6.12 \\n13\\nRevenue increased in 2022 driven by increased volume, largely offset by lower realized prices and the unfavorable impact of foreign exchange rates.\\nResearch and development expenses increased in 2022, driven primarily by higher development expenses for late-stage assets, partially offset by lower\\ndevelopment expenses for COVID-19 antibodies and the favorable impact of foreign exchange rates. Marketing, selling, and administrative expenses in\\n2022 remained relatively flat compared to 2021 as increased costs associated with launches of new products and indications were offset by the favorable\\nimpact of foreign exchange rates.\\n37\\n', metadata={'source': '/Users/gyf/Desktop/workshop/Eli_Lilly_10K.pdf', 'file_path': '/Users/gyf/Desktop/workshop/Eli_Lilly_10K.pdf', 'page': 36, 'total_pages': 120, 'format': 'PDF 1.4', 'title': 'lly-20221231', 'author': '', 'subject': '', 'keywords': '', 'creator': 'wkhtmltopdf 0.12.6', 'producer': 'Qt 4.8.7', 'creationDate': \"D:20240118054548-05'00'\", 'modDate': '', 'trapped': ''})],\n",
       " 'answer': 'The revenue for the company in 2022 was $28,541.4 million. The net income for the company in 2022 was $6,244.8 million.'}"
      ]
     },
     "execution_count": 78,
     "metadata": {},
     "output_type": "execute_result"
    }
   ],
   "source": [
    "retrieval_chain.invoke({\"input\": \"Get the revenue, the net income of the company for year 2022.\"})['answer']"
   ]
  },
  {
   "cell_type": "markdown",
   "metadata": {},
   "source": [
    "Recall from yesterday, we can get strucutured output from documents with function Calling:"
   ]
  },
  {
   "cell_type": "code",
   "execution_count": 93,
   "metadata": {},
   "outputs": [],
   "source": [
    "# patch the client to add `response_model` to the `create` method\n",
    "client = OpenAI(api_key=api_key)\n",
    "\n",
    "schema = {\n",
    "    \"properties\": {\n",
    "        \"name\": {\"type\": \"string\"},\n",
    "        \"net income\": {\"type\": \"string\"},\n",
    "        \"revenue\": {\"type\": \"string\"},\n",
    "        \"year\": {\"type\": \"integer\"},\n",
    "    },\n",
    "    \"required\": [\"net income\", \"revenue\", \"year\"],\n",
    "    \"type\": \"object\",\n",
    "}\n",
    "\n",
    "def extract(query, retrieval_chain=retrieval_chain):\n",
    "    answer = retrieval_chain.invoke({\"input\": f\"{query}\"})['answer']\n",
    "    resp = client.chat.completions.create(\n",
    "        model=\"gpt-4-1106-preview\",\n",
    "        messages=[\n",
    "            {\n",
    "                \"role\": \"user\",\n",
    "                \"content\": f'extract accordingly, make sure to include the unit. here is the text: {answer}',\n",
    "            },\n",
    "        ],\n",
    "        functions=[{\"name\": \"Company\", \"parameters\": schema}],\n",
    "        function_call=\"auto\",\n",
    "    )\n",
    "    return resp.choices[0].message.function_call.arguments"
   ]
  },
  {
   "cell_type": "code",
   "execution_count": 94,
   "metadata": {},
   "outputs": [
    {
     "data": {
      "text/plain": [
       "'{\"revenue\":\"28541.4 million\",\"net income\":\"6244.8 million\",\"year\":2022}'"
      ]
     },
     "execution_count": 94,
     "metadata": {},
     "output_type": "execute_result"
    }
   ],
   "source": [
    "query = \"Get the revenue, the net income of the company for year 2022.\"\n",
    "extract(query, retrieval_chain)"
   ]
  },
  {
   "cell_type": "markdown",
   "metadata": {},
   "source": [
    "Using Instructor is even simpler:"
   ]
  },
  {
   "cell_type": "code",
   "execution_count": 102,
   "metadata": {},
   "outputs": [
    {
     "data": {
      "text/plain": [
       "Company(name=None, revenue='$28,541.4 million', net_income='$6,244.8 million')"
      ]
     },
     "execution_count": 102,
     "metadata": {},
     "output_type": "execute_result"
    }
   ],
   "source": [
    "from pydantic import BaseModel, Field\n",
    "import instructor\n",
    "from typing import Optional\n",
    "\n",
    "# patch the client to add `response_model` to the `create` method\n",
    "client = instructor.patch(OpenAI(api_key=api_key), mode=instructor.Mode.MD_JSON)\n",
    "\n",
    "class Company(BaseModel):\n",
    "    name: Optional[str]\n",
    "    revenue: str\n",
    "    net_income: str\n",
    "\n",
    "def extract_instructor(query, response_model, retrieval_chain=retrieval_chain, ):\n",
    "    answer = retrieval_chain.invoke({\"input\": f\"{query}\"})['answer']\n",
    "    resp = client.chat.completions.create(\n",
    "        model=\"gpt-3.5-turbo-1106\",\n",
    "        messages=[\n",
    "            {\n",
    "                \"role\": \"user\",\n",
    "                \"content\": f\"\"\"\n",
    "                Extract the following information from this statement: {answer}\n",
    "                \"\"\",\n",
    "            },\n",
    "        ],\n",
    "        response_model=response_model,)\n",
    "    return resp\n",
    "\n",
    "query = \"Get the revenue, the net income of the company for year 2022.\"\n",
    "extract_instructor(query, Company, retrieval_chain)"
   ]
  },
  {
   "cell_type": "code",
   "execution_count": 103,
   "metadata": {},
   "outputs": [
    {
     "data": {
      "text/plain": [
       "example(ticker=None, ceo='David Ricks', location='Indianapolis')"
      ]
     },
     "execution_count": 103,
     "metadata": {},
     "output_type": "execute_result"
    }
   ],
   "source": [
    "class example(BaseModel):\n",
    "    ticker: Optional[str]\n",
    "    ceo: Optional[str]\n",
    "    location: Optional[str]\n",
    "\n",
    "query = \"what is the ticker of the company? and who is the CEO of the company? and get the location of the company\"\n",
    "extract_instructor(query, example, retrieval_chain)"
   ]
  },
  {
   "cell_type": "markdown",
   "metadata": {},
   "source": [
    "#### We can store mulitple documents of our choice in the VectorDB, as it is similar to real world use cases."
   ]
  },
  {
   "cell_type": "code",
   "execution_count": 105,
   "metadata": {},
   "outputs": [],
   "source": [
    "from langchain_community.document_loaders import DirectoryLoader, PyMuPDFLoader\n",
    "\n",
    "\n",
    "loader = DirectoryLoader(f'{base_dir}/pdfs/', glob=\"*.pdf\", loader_cls=PyMuPDFLoader)\n",
    "embeddings = CohereEmbeddings(model=\"embed-english-v3.0\")\n",
    "documents = loader.load()"
   ]
  },
  {
   "cell_type": "code",
   "execution_count": 114,
   "metadata": {},
   "outputs": [],
   "source": [
    "db_new = FAISS.from_documents(documents=documents, embedding=embeddings)\n",
    "retriever = db_new.as_retriever(search_kwargs={\"k\": 5})"
   ]
  },
  {
   "cell_type": "code",
   "execution_count": 115,
   "metadata": {},
   "outputs": [
    {
     "name": "stderr",
     "output_type": "stream",
     "text": [
      "/opt/homebrew/Caskroom/miniforge/base/envs/capstone/lib/python3.11/site-packages/langchain_core/_api/deprecation.py:189: LangChainDeprecationWarning: The class `ChatOpenAI` was deprecated in LangChain 0.1.0 and will be removed in 0.2.0. Use langchain_openai.ChatOpenAI instead.\n",
      "  warn_deprecated(\n"
     ]
    }
   ],
   "source": [
    "from langchain.chains import create_retrieval_chain\n",
    "from langchain.chains.combine_documents import create_stuff_documents_chain\n",
    "from langchain_core.prompts import ChatPromptTemplate\n",
    "from langchain.chat_models import ChatOpenAI\n",
    "\n",
    "\n",
    "prompt = ChatPromptTemplate.from_template(\n",
    "    \"\"\"You are a seasoned financial analyst. You have been asked to analyze the financial statements of a company.\n",
    "    Answer questions from user by inspecting closely at the context from assistant\n",
    "    <context>\n",
    "    {context}\n",
    "    </context>\n",
    "    Question: {input}\"\"\"\n",
    ")\n",
    "\n",
    "llm = ChatOpenAI(temperature=0.1, openai_api_key=api_key)\n",
    "\n",
    "document_chain = create_stuff_documents_chain(llm, prompt)\n",
    "retrieval_chain = create_retrieval_chain(retriever, document_chain)"
   ]
  },
  {
   "cell_type": "code",
   "execution_count": 116,
   "metadata": {},
   "outputs": [
    {
     "data": {
      "text/plain": [
       "{'input': 'What is the revenue for Eli and Lilly for year 2022?',\n",
       " 'context': [Document(page_content='Item 8. Financial Statements and Supplementary Data\\nConsolidated Statements of Operations\\nELI LILLY AND COMPANY AND SUBSIDIARIES\\n(Dollars in millions and shares in thousands, except per-\\nshare data)\\nYear Ended December 31\\n2022\\n2021\\n2020\\nRevenue (Note 2)\\n$\\n28,541.4 \\n$\\n28,318.4 \\n$\\n24,539.8 \\nCosts, expenses, and other:\\nCost of sales\\n6,629.8 \\n7,312.8 \\n5,483.3 \\nResearch and development\\n7,190.8 \\n6,930.7 \\n5,976.3 \\nMarketing, selling, and administrative\\n6,440.4 \\n6,431.6 \\n6,121.2 \\nAcquired in-process research and development and development milestones (Note 3)\\n908.5 \\n970.1 \\n769.8 \\nAsset impairment, restructuring, and other special charges \\n(Note 5)\\n244.6 \\n316.1 \\n131.2 \\nOther—net, (income) expense (Note 18)\\n320.9 \\n201.6 \\n(1,171.9)\\n21,735.0 \\n22,162.9 \\n17,309.9 \\nIncome before income taxes\\n6,806.4 \\n6,155.5 \\n7,229.9 \\nIncome taxes (Note 14)\\n561.6 \\n573.8 \\n1,036.2 \\nNet income\\n$\\n6,244.8 \\n$\\n5,581.7 \\n$\\n6,193.7 \\nEarnings per share:\\nBasic\\n$\\n6.93 \\n$\\n6.15 \\n$\\n6.82 \\nDiluted\\n$\\n6.90 \\n$\\n6.12 \\n$\\n6.79 \\nShares used in calculation of earnings per share:\\nBasic\\n901,736 \\n906,963 \\n907,634 \\nDiluted\\n904,619 \\n911,681 \\n912,505 \\nSee notes to consolidated financial statements.\\n56\\n', metadata={'source': '/Users/gyf/Desktop/workshop/pdfs/LLY_10K.pdf', 'file_path': '/Users/gyf/Desktop/workshop/pdfs/LLY_10K.pdf', 'page': 55, 'total_pages': 120, 'format': 'PDF 1.4', 'title': 'lly-20221231', 'author': '', 'subject': '', 'keywords': '', 'creator': 'wkhtmltopdf 0.12.6', 'producer': 'Qt 4.8.7', 'creationDate': \"D:20240118054548-05'00'\", 'modDate': '', 'trapped': ''}),\n",
       "  Document(page_content='Consolidated Statements of Comprehensive Income (Loss)\\nELI LILLY AND COMPANY AND SUBSIDIARIES\\n(Dollars in millions)\\nYear Ended December 31\\n2022\\n2021\\n2020\\nNet income\\n$\\n6,244.8 \\n$\\n5,581.7 \\n$\\n6,193.7 \\nOther comprehensive income (loss):\\nChange in foreign currency translation gains (losses)\\n(248.1)\\n13.5 \\n122.1 \\nChange in net unrealized gains (losses) on securities\\n(53.2)\\n(15.9)\\n14.2 \\nChange in defined benefit pension and retiree health benefit plans (Note 15)\\n616.9 \\n2,699.4 \\n(157.1)\\nChange in effective portion of cash flow hedges\\n432.9 \\n151.6 \\n(152.9)\\nOther comprehensive income (loss) before income taxes\\n748.5 \\n2,848.6 \\n(173.7)\\nBenefit (provision) for income taxes related to other comprehensive income (loss)\\n(250.0)\\n(695.3)\\n200.9 \\nOther comprehensive income, net of tax (Note 17)\\n498.5 \\n2,153.3 \\n27.2 \\nComprehensive income\\n$\\n6,743.3 \\n$\\n7,735.0 \\n$\\n6,220.9 \\nSee notes to consolidated financial statements.\\n57\\n', metadata={'source': '/Users/gyf/Desktop/workshop/pdfs/LLY_10K.pdf', 'file_path': '/Users/gyf/Desktop/workshop/pdfs/LLY_10K.pdf', 'page': 56, 'total_pages': 120, 'format': 'PDF 1.4', 'title': 'lly-20221231', 'author': '', 'subject': '', 'keywords': '', 'creator': 'wkhtmltopdf 0.12.6', 'producer': 'Qt 4.8.7', 'creationDate': \"D:20240118054548-05'00'\", 'modDate': '', 'trapped': ''}),\n",
       "  Document(page_content='Disaggregation of Revenue\\nThe following table summarizes revenue by product:\\nU.S.\\nOutside U.S.\\n2022\\n2021\\n2020\\n2022\\n2021\\n2020\\nRevenue—to unaffiliated customers:\\nDiabetes:\\nTrulicity\\n$\\n5,688.8 \\n$\\n4,914.4 \\n$\\n3,835.9 \\n$\\n1,750.9 \\n$\\n1,557.6 \\n$\\n1,232.2 \\nJardiance\\n1,194.5 \\n807.3 \\n620.8 \\n871.5 \\n683.5 \\n533.0 \\nHumalog\\n1,191.9 \\n1,320.7 \\n1,485.6 \\n868.7 \\n1,132.3 \\n1,140.3 \\nHumulin\\n730.2 \\n832.9 \\n866.4 \\n289.2 \\n389.6 \\n393.2 \\nBasaglar\\n470.7 \\n588.3 \\n842.3 \\n289.7 \\n304.2 \\n282.1 \\nMounjaro\\n366.6 \\n— \\n— \\n115.9 \\n— \\n— \\nOther diabetes\\n268.4 \\n255.7 \\n258.1 \\n367.8 \\n401.6 \\n344.5 \\nTotal diabetes\\n9,911.1 \\n8,719.3 \\n7,909.1 \\n4,553.7 \\n4,468.8 \\n3,925.3 \\nOncology:\\nVerzenio\\n1,653.2 \\n834.9 \\n618.2 \\n830.3 \\n515.0 \\n294.4 \\nCyramza\\n351.4 \\n358.1 \\n381.9 \\n620.0 \\n674.8 \\n650.8 \\nAlimta\\n543.7 \\n1,233.9 \\n1,265.3 \\n384.0 \\n827.5 \\n1,064.7 \\nErbitux\\n500.1 \\n481.8 \\n480.1 \\n66.4 \\n66.4 \\n56.3 \\nTyvyt\\n— \\n— \\n— \\n293.3 \\n418.1 \\n308.7 \\nOther oncology\\n169.7 \\n120.1 \\n46.6 \\n254.1 \\n210.7 \\n152.3 \\nTotal oncology\\n3,218.1 \\n3,028.8 \\n2,792.1 \\n2,448.1 \\n2,712.5 \\n2,527.2 \\nImmunology:\\nTaltz\\n1,724.6 \\n1,542.4 \\n1,288.5 \\n757.4 \\n670.4 \\n500.0 \\nOlumiant\\n148.2 \\n324.1 \\n63.8 \\n682.3 \\n791.0 \\n575.0 \\nOther immunology\\n20.0 \\n15.3 \\n20.0 \\n12.1 \\n17.6 \\n14.6 \\nTotal immunology\\n1,892.8 \\n1,881.8 \\n1,372.3 \\n1,451.8 \\n1,479.0 \\n1,089.6 \\nNeuroscience:\\nEmgality\\n462.8 \\n434.5 \\n325.9 \\n188.1 \\n142.7 \\n37.0 \\nZyprexa\\n30.4 \\n39.6 \\n46.1 \\n306.5 \\n390.7 \\n360.5 \\nCymbalta\\n33.7 \\n38.7 \\n42.1 \\n249.6 \\n542.8 \\n725.6 \\nOther neuroscience\\n85.5 \\n102.0 \\n73.2 \\n189.6 \\n207.5 \\n220.9 \\nTotal neuroscience\\n612.4 \\n614.8 \\n487.3 \\n933.8 \\n1,283.7 \\n1,344.0 \\nOther:\\nCOVID-19 antibodies\\n2,008.9 \\n1,978.0 \\n850.0 \\n14.7 \\n261.4 \\n21.2 \\nForteo\\n367.3 \\n441.6 \\n510.3 \\n245.8 \\n360.3 \\n536.0 \\nCialis\\n35.2 \\n10.6 \\n61.8 \\n552.1 \\n707.9 \\n545.4 \\nOther\\n144.2 \\n136.1 \\n246.4 \\n151.3 \\n233.9 \\n321.8 \\nTotal other\\n2,555.7 \\n2,566.4 \\n1,668.4 \\n964.0 \\n1,563.5 \\n1,424.4 \\nRevenue\\n$\\n18,190.0 \\n$\\n16,811.0 \\n$\\n14,229.3 \\n$\\n10,351.3 \\n$\\n11,507.4 \\n$\\n10,310.5 \\nNumbers may not add due to rounding.\\nJardiance revenue includes Glyxambi , Synjardy , and Trijardy  XR.\\n Humalog revenue includes insulin lispro.\\nOlumiant revenue includes sales for baricitinib that were made pursuant to Emergency Use Authorization (EUA) or similar regulatory authorizations.\\nCOVID-19 antibodies include sales for bamlanivimab administered alone, for bamlanivimab and etesevimab administered together, and for bebtelovimab and were made pursuant\\nto EUAs or similar regulatory authorizations.\\n®\\n(1)\\n® (2)\\n®\\n®\\n®\\n®\\n®\\n®\\n®\\n®\\n®\\n® (3)\\n®\\n®\\n®\\n(4)\\n®\\n®\\n(1) \\n®\\n®\\n®\\n(2)\\n(3) \\n(4) \\n66\\n', metadata={'source': '/Users/gyf/Desktop/workshop/pdfs/LLY_10K.pdf', 'file_path': '/Users/gyf/Desktop/workshop/pdfs/LLY_10K.pdf', 'page': 65, 'total_pages': 120, 'format': 'PDF 1.4', 'title': 'lly-20221231', 'author': '', 'subject': '', 'keywords': '', 'creator': 'wkhtmltopdf 0.12.6', 'producer': 'Qt 4.8.7', 'creationDate': \"D:20240118054548-05'00'\", 'modDate': '', 'trapped': ''}),\n",
       "  Document(page_content='Consolidated Statements of Cash Flows\\nELI LILLY AND COMPANY AND SUBSIDIARIES\\n(Dollars in millions)\\nYear Ended December 31\\n2022\\n2021\\n2020\\nCash Flows from Operating Activities\\nNet income\\n$\\n6,244.8 \\n$\\n5,581.7 \\n$\\n6,193.7 \\nAdjustments to Reconcile Net Income to Cash Flows from Operating Activities:\\nDepreciation and amortization\\n1,522.5 \\n1,547.6 \\n1,323.9 \\nDebt extinguishment loss (Note 11)\\n— \\n405.2 \\n— \\nChange in deferred income taxes\\n(2,185.2)\\n(802.3)\\n(134.5)\\nStock-based compensation expense\\n371.1 \\n342.8 \\n308.1 \\nNet investment (gains) losses\\n420.0 \\n(178.0)\\n(1,438.5)\\nAcquired in-process research and development (Note 3)\\n420.9 \\n874.9 \\n660.4 \\nOther non-cash operating activities, net\\n304.8 \\n511.4 \\n333.9 \\nOther changes in operating assets and liabilities, net of acquisitions and divestitures:\\nReceivables—(increase) decrease\\n(299.6)\\n(1,278.3)\\n(1,350.2)\\nInventories—(increase) decrease\\n(599.7)\\n(235.9)\\n(533.4)\\nOther assets—(increase) decrease\\n(793.5)\\n1,515.4 \\n(457.1)\\nIncome taxes payable—increase (decrease)\\n346.6 \\n(359.7)\\n322.0 \\nAccounts payable and other liabilities—increase (decrease)\\n1,331.7 \\n(664.1)\\n1,271.3 \\nNet Cash Provided by Operating Activities\\n7,084.4 \\n7,260.7 \\n6,499.6 \\nCash Flows from Investing Activities\\nPurchases of property and equipment\\n(1,854.3)\\n(1,309.8)\\n(1,387.9)\\nProceeds from sales and maturities of short-term investments\\n121.4 \\n47.4 \\n129.7 \\nPurchases of short-term investments\\n(107.4)\\n(83.5)\\n(11.4)\\nProceeds from sales of noncurrent investments\\n342.2 \\n800.0 \\n757.1 \\nPurchases of noncurrent investments\\n(600.2)\\n(929.9)\\n(358.7)\\nPurchases of in-process research and development\\n(629.7)\\n(563.4)\\n(641.2)\\nCash paid for acquisitions, net of cash acquired (Note 3)\\n(327.2)\\n(747.4)\\n(849.3)\\nOther investing activities, net\\n(206.4)\\n24.3 \\n102.8 \\nNet Cash Used for Investing Activities\\n(3,261.6)\\n(2,762.3)\\n(2,258.9)\\nCash Flows from Financing Activities\\nDividends paid\\n(3,535.8)\\n(3,086.8)\\n(2,687.1)\\nNet change in short-term borrowings\\n1,498.0 \\n(4.0)\\n(1,494.2)\\nProceeds from issuance of long-term debt\\n— \\n2,410.8 \\n2,062.3 \\nRepayments of long-term debt\\n(1,560.0)\\n(1,905.4)\\n(276.5)\\nPurchases of common stock\\n(1,500.0)\\n(1,250.0)\\n(500.0)\\nOther financing activities, net\\n(308.9)\\n(295.9)\\n(241.6)\\nNet Cash Used for Financing Activities\\n(5,406.7)\\n(4,131.3)\\n(3,137.1)\\nEffect of exchange rate changes on cash and cash equivalents\\n(167.6)\\n(205.7)\\n216.0 \\nNet increase (decrease) in cash and cash equivalents\\n(1,751.5)\\n161.4 \\n1,319.6 \\nCash and cash equivalents at beginning of year\\n3,818.5 \\n3,657.1 \\n2,337.5 \\nCash and Cash Equivalents at End of Year\\n$\\n2,067.0 \\n$\\n3,818.5 \\n$\\n3,657.1 \\nSee notes to consolidated financial statements.\\n60\\n', metadata={'source': '/Users/gyf/Desktop/workshop/pdfs/LLY_10K.pdf', 'file_path': '/Users/gyf/Desktop/workshop/pdfs/LLY_10K.pdf', 'page': 59, 'total_pages': 120, 'format': 'PDF 1.4', 'title': 'lly-20221231', 'author': '', 'subject': '', 'keywords': '', 'creator': 'wkhtmltopdf 0.12.6', 'producer': 'Qt 4.8.7', 'creationDate': \"D:20240118054548-05'00'\", 'modDate': '', 'trapped': ''}),\n",
       "  Document(page_content='Gross Margin, Costs, and Expenses\\nGross margin as a percent of revenue was 76.8 percent in 2022, an increase of 2.6 percentage points compared with 2021, primarily driven by a net\\ninventory impairment charge related to our COVID-19 antibodies recognized in 2021 and the unfavorable effect of foreign exchange rates on international\\ninventories sold in 2021. Additionally, in 2022, favorable product mix, including the impact of lower sales of COVID-19 antibodies and Olumiant for the\\ntreatment of COVID-19, were offset by lower realized prices and increased expenses due to inflation and logistics costs.\\nResearch and development expenses increased 4 percent to $7.19 billion in 2022, driven primarily by higher development expenses for late-stage\\nassets, partially offset by lower development expenses for COVID-19 antibodies and the favorable impact of foreign exchange rates.\\nMarketing, selling, and administrative expenses remained relatively flat at $6.44 billion in 2022, as increased costs associated with launches of new\\nproducts and indications were offset by the favorable impact of foreign exchange rates.\\nWe have undertaken compensatory actions to improve retention and address wage inflation, which will increase compensation costs and impact our\\nconsolidated results of operations.\\nWe recognized acquired IPR&D and development milestones of $908.5 million in 2022 that included the buy-out of substantially all future obligations that\\nwere contingent upon the occurrence of certain events linked to the success of our mutant-selective PI3kα inhibitor and a purchase of a Priority Review\\nVoucher. We recognized acquired IPR&D and development milestones of $970.1 million in 2021 that included charges resulting from business\\ndevelopment transactions with Foghorn, Rigel, and Precision. See Note 3 to the consolidated financial statements for additional information.\\nWe recognized asset impairment, restructuring, and other special charges of $244.6 million in 2022, primarily related to an intangible asset impairment for\\nGBA1 Gene Therapy (PR001) due to changes in estimated launch timing. We recognized asset impairment, restructuring, and other special charges of\\n$316.1 million in 2021, primarily related to an impairment of a contract-based intangible asset from our acquisition of Loxo, an intangible asset impairment\\nresulting from the sale of the rights to Qbrexza, as well as acquisition and integration costs associated with the acquisition of Prevail.\\nOther—net, (income) expense was expense of $320.9 million in 2022, primarily driven by net investment losses on equity securities. Other—net, (income)\\nexpense was expense of $201.6 million in 2021, primarily driven by a debt extinguishment loss of $405.2 million related to the repurchase of debt,\\npartially offset by net investment gains on equity securities.\\nOur effective tax rate was 8.3 percent in 2022, reflecting the favorable tax impact of the implementation of a provision in the 2017 Tax Act that requires\\ncapitalization and amortization of research and development expenses for tax purposes starting in 2022, partially offset by the tax impact of the mix of\\nearnings in higher tax jurisdictions. Our effective tax rate was 9.3 percent in 2021, reflecting the favorable tax impacts of acquired IPR&D and\\ndevelopment milestone charges, net investment gains on equity securities, and a net discrete tax benefit.\\nOperating Results—2021\\nFor a discussion of our results of operations pertaining to 2021 and 2020 see Item 7, \"Management\\'s Discussion and Analysis of Results of Operations\\nand Financial Condition\" in our Annual Report on Form 10-K for the year ended December 31, 2021.\\n48\\n', metadata={'source': '/Users/gyf/Desktop/workshop/pdfs/LLY_10K.pdf', 'file_path': '/Users/gyf/Desktop/workshop/pdfs/LLY_10K.pdf', 'page': 47, 'total_pages': 120, 'format': 'PDF 1.4', 'title': 'lly-20221231', 'author': '', 'subject': '', 'keywords': '', 'creator': 'wkhtmltopdf 0.12.6', 'producer': 'Qt 4.8.7', 'creationDate': \"D:20240118054548-05'00'\", 'modDate': '', 'trapped': ''})],\n",
       " 'answer': 'The revenue for Eli Lilly and Company for the year 2022 is $28,541.4 million.'}"
      ]
     },
     "execution_count": 116,
     "metadata": {},
     "output_type": "execute_result"
    }
   ],
   "source": [
    "retrieval_chain.invoke({\"input\": \"What is the revenue for Eli and Lilly for year 2022?\"})['answer']"
   ]
  },
  {
   "cell_type": "code",
   "execution_count": 117,
   "metadata": {},
   "outputs": [
    {
     "data": {
      "text/plain": [
       "{'input': 'What is the revenue for Microsoft for year 2022?',\n",
       " 'context': [Document(page_content='PART II\\nItem 7\\n \\nSUMMARY RESULTS OF OPERATIONS\\n \\n(In millions, except percentages and per share amounts)\\n \\n2023\\n2022\\nPercentage\\nChange  \\n \\n \\n \\n \\n \\n \\n \\n \\n \\n \\n \\n \\n \\n \\n \\n \\n \\n \\n \\n \\nRevenue\\n $\\n211,915   $\\n198,270\\n \\n7%\\nGross margin\\n  \\n146,052    \\n135,620\\n \\n8%\\nOperating income\\n  \\n88,523    \\n83,383\\n \\n6%\\nNet income\\n  \\n72,361    \\n72,738\\n \\n(1)%\\nDiluted earnings per share\\n  \\n9.68   \\n9.65\\n \\n0%\\nAdjusted gross margin (non-GAAP)\\n  \\n146,204    \\n135,620    \\n8%  \\nAdjusted operating income (non-GAAP)\\n  \\n89,694    \\n83,383    \\n8%  \\nAdjusted net income (non-GAAP)\\n \\n \\n73,307   \\n \\n69,447\\n \\n6%\\nAdjusted diluted earnings per share (non-GAAP)\\n  \\n9.81   \\n9.21\\n \\n7%\\n \\n \\n \\n \\n \\n \\n \\n \\n \\n \\n \\n \\n \\n \\nAdjusted gross margin, operating income, net income, and diluted earnings per share (“EPS”) are non-GAAP financial measures. Current year non-\\nGAAP financial measures exclude the impact of the Q2 charge, which includes employee severance expenses, impairment charges resulting from \\nchanges to our hardware portfolio, and costs related to lease consolidation activities. Prior year non-GAAP financial measures exclude the net income tax \\nbenefit related to transfer of intangible properties in the first quarter of fiscal year 2022. Refer to Note 12 – Income Taxes of the Notes to Financial \\nStatements (Part II, Item 8 of this Form 10-K) for further discussion. Refer to the Non-GAAP Financial Measures section below for a reconciliation of our \\nfinancial results reported in accordance with GAAP to non-GAAP financial results.\\nFiscal Year 2023 Compared with Fiscal Year 2022\\nRevenue increased $13.6 billion or 7% driven by growth in Intelligent Cloud and Productivity and Business Processes, offset in part by a decline in More \\nPersonal Computing. Intelligent Cloud revenue increased driven by Azure and other cloud services. Productivity and Business Processes revenue \\nincreased driven by Office 365 Commercial and LinkedIn. More Personal Computing revenue decreased driven by Windows  and Devices. \\nCost of revenue increased $3.2 billion or 5% driven by growth in Microsoft Cloud, offset in part by the change in accounting estimate.\\nGross margin increased $10.4 billion or 8% driven by growth in Intelligent Cloud and Productivity and Business Processes and the change in accounting \\nestimate, offset in part by a decline in More Personal Computing. \\n•Gross margin percentage increased slightly. Excluding the impact of the change in accounting estimate, gross margin percentage decreased 1 \\npoint driven by declines in Intelligent Cloud and More Personal Computing, offset in part by sales mix shift between our segments.\\n•Microsoft Cloud gross margin percentage increased 2 points to 72%. Excluding the impact of the change in accounting estimate, Microsoft \\nCloud gross margin percentage decreased slightly driven by a decline in Azure and other cloud services and sales mix shift to Azure and other \\ncloud services, offset in part by improvement in Office 365 Commercial.\\nOperating expenses increased $5.3 billion or 10% driven by employee severance expenses, 2 points of growth from the Nuance and Xandr acquisitions, \\ninvestments in cloud engineering, and LinkedIn.\\nOperating income increased $5.1 billion or 6% driven by growth in Productivity and Business Processes and Intelligent Cloud and the change in \\naccounting estimate, offset in part by a decline in More Personal Computing.\\nRevenue, gross margin, and operating income included an unfavorable foreign currency impact of 4%, 4%, and 6%, respectively. Cost of revenue and \\noperating expenses both included a favorable foreign currency impact of 2%.\\nCurrent year gross margin, operating income, net income, and diluted EPS were negatively impacted by the Q2 charge, which resulted in decreases of \\n$152 million, $1.2 billion, $946 million, and $0.13, respectively. Prior year net income and diluted EPS were positively impacted by the net tax benefit \\nrelated to the transfer of intangible properties, which resulted in an increase to net income and diluted EPS of $3.3 billion and $0.44, respectively.\\n44\\n', metadata={'source': '/Users/gyf/Desktop/workshop/pdfs/MSFT_10K.pdf', 'file_path': '/Users/gyf/Desktop/workshop/pdfs/MSFT_10K.pdf', 'page': 43, 'total_pages': 110, 'format': 'PDF 1.4', 'title': '10-K', 'author': '', 'subject': '', 'keywords': '', 'creator': 'wkhtmltopdf 0.12.6', 'producer': 'Qt 4.8.7', 'creationDate': \"D:20240118054534-05'00'\", 'modDate': '', 'trapped': ''}),\n",
       "  Document(page_content='PART II\\nItem 8\\n \\n•Gaming, including Xbox hardware and Xbox content and services, comprising first- and third-party content (including games and in-game \\ncontent), Xbox Game Pass and other subscriptions, Xbox Cloud Gaming, advertising, third-party disc royalties, and other cloud services.\\n•Search and news advertising, comprising Bing (including Bing Chat), Microsoft News, Microsoft Edge, and third-party affiliates.\\nRevenue and costs are generally directly attributed to our segments. However, due to the integrated structure of our business, certain revenue \\nrecognized and costs incurred by one segment may benefit other segments. Revenue from certain contracts is allocated among the segments based on \\nthe relative value of the underlying products and services, which can include allocation based on actual prices charged, prices when sold separately, or \\nestimated costs plus a profit margin. Cost of revenue is allocated in certain cases based on a relative revenue methodology. Operating expenses that are \\nallocated primarily include those relating to marketing of products and services from which multiple segments benefit and are generally allocated based \\non relative gross margin.\\nIn addition, certain costs are incurred at a corporate level and allocated to our segments. These allocated costs  generally include legal, including \\nsettlements and fines, information technology, human resources, finance, excise taxes, field selling, shared facilities services, customer service and \\nsupport, and severance incurred as part of a corporate program. Each allocation is measured differently based on the specific facts and circumstances of \\nthe costs being allocated and is generally based on relative gross margin or relative headcount.\\nSegment revenue and operating income were as follows during the periods presented:\\n \\n(In millions)\\n   \\n    \\n    \\n \\n \\n \\n \\n \\nYear Ended June 30,\\n  \\n2023    \\n2022    \\n2021  \\n \\n \\n \\n \\n \\n \\n \\n  \\n \\n \\n  \\nRevenue\\n   \\n   \\n    \\n  \\n \\n \\n \\n \\n \\n \\n \\n  \\n \\n \\n  \\nProductivity and Business Processes\\n $\\n69,274   $\\n63,364   $\\n53,915  \\nIntelligent Cloud\\n  \\n87,907    \\n74,965    \\n59,728  \\nMore Personal Computing\\n  \\n54,734    \\n59,941    \\n54,445  \\n \\n \\n \\n \\n  \\n \\n \\n  \\n \\n \\n \\n  \\n \\n \\n  \\n \\n \\n  \\nTotal\\n $\\n211,915   $\\n198,270   $\\n168,088  \\n \\n \\n \\n  \\n \\n \\n  \\n \\n \\n  \\n \\n \\n \\n  \\n \\n \\n  \\n \\n \\n  \\nOperating Income \\n  \\n    \\n    \\n  \\n \\n \\n \\n  \\n \\n \\n  \\n \\n \\n  \\nProductivity and Business Processes\\n $\\n34,189   $\\n29,690   $\\n24,351  \\nIntelligent Cloud\\n \\n \\n37,884    \\n33,203    \\n26,471  \\nMore Personal Computing\\n \\n \\n16,450   \\n \\n20,490   \\n \\n19,094  \\n \\n \\n \\n \\n \\n \\n  \\n \\n \\n \\n  \\n \\n \\n  \\n \\n \\n  \\nTotal\\n $\\n88,523   $\\n83,383   $\\n69,916  \\n \\n \\n \\n \\n \\n \\n \\n \\n \\n \\n \\n \\nNo sales to an individual customer or country other than the United States accounted for more than 10% of revenue for fiscal years 2023, 2022, or 2021. \\nRevenue, classified by the major geographic areas in which our customers were located, was as follows:\\n \\n(In millions)\\n  \\n \\n \\n \\n \\n \\n \\n \\n \\nYear Ended June 30,\\n \\n2023  \\n2022  \\n2021 \\n \\n \\n \\n \\nUnited States \\n $\\n106,744   $\\n100,218   $\\n83,953  \\nOther countries\\n  \\n105,171    \\n98,052    \\n84,135  \\n \\n \\n \\n \\n \\n \\n \\n \\n \\n \\n \\n \\n \\n  \\n \\n \\n  \\n \\n \\n  \\nTotal\\n $\\n211,915   $\\n198,270   $\\n168,088  \\n \\n \\n \\n \\n \\n \\n \\n \\n \\n \\n \\n \\n \\n \\n(a)Includes billings to OEMs and certain multinational organizations because of the nature of these businesses and the impracticability of determining the \\ngeographic source of the revenue. \\n94\\n(a)\\n', metadata={'source': '/Users/gyf/Desktop/workshop/pdfs/MSFT_10K.pdf', 'file_path': '/Users/gyf/Desktop/workshop/pdfs/MSFT_10K.pdf', 'page': 93, 'total_pages': 110, 'format': 'PDF 1.4', 'title': '10-K', 'author': '', 'subject': '', 'keywords': '', 'creator': 'wkhtmltopdf 0.12.6', 'producer': 'Qt 4.8.7', 'creationDate': \"D:20240118054534-05'00'\", 'modDate': '', 'trapped': ''}),\n",
       "  Document(page_content='PART II\\nItem 7\\n \\nSEGMENT RESULTS OF OPERATIONS\\n \\n(In millions, except percentages)\\n \\n2023\\n2022\\nPercentage\\nChange  \\n \\n \\n  \\n \\n \\n \\n \\n \\n \\n \\n \\n  \\n \\n \\n \\n \\n \\n \\nRevenue\\n \\n    \\n    \\n \\n \\n  \\n \\nProductivity and Business Processes\\n $\\n69,274   $\\n63,364\\n9%  \\nIntelligent Cloud\\n  \\n87,907    \\n74,965\\n17%  \\nMore Personal Computing\\n  \\n54,734    \\n59,941\\n(9)% \\n \\n \\n \\n \\n \\n \\n \\n \\n  \\n \\n \\n \\n \\n \\n  \\nTotal \\n $\\n211,915   $\\n198,270\\n7%  \\n \\n \\n \\n  \\n \\n \\n \\n \\n \\n \\n  \\n \\n \\nOperating Income \\n  \\n    \\n  \\n  \\n \\n \\n \\n  \\n \\n \\n \\n \\n \\n \\n  \\nProductivity and Business Processes\\n $\\n34,189   $\\n29,690  \\n15%  \\nIntelligent Cloud\\n  \\n37,884    \\n33,203  \\n14%  \\nMore Personal Computing\\n  \\n16,450    \\n20,490  \\n(20)%  \\n \\n \\n \\n \\n \\n \\n \\n  \\n \\n \\n \\n \\n  \\nTotal \\n $\\n88,523   $\\n83,383  \\n6%  \\n \\n \\n \\n \\n \\n \\n \\n \\n \\n \\n \\n  \\n \\nReportable Segments\\nFiscal Year 2023 Compared with Fiscal Year 2022 \\nProductivity and Business Processes \\nRevenue increased $5.9 billion or 9%. \\n•Office Commercial products and cloud services revenue increased $3.7 billion or 10%. Office 365 Commercial revenue grew 13% with seat \\ngrowth of 11%, driven by small and medium business and frontline worker offerings, as well as growth in revenue per user. Office Commercial \\nproducts revenue declined 21% driven by continued customer shift to cloud offerings. \\n•Office Consumer products and cloud services revenue increased $140 million or 2%. Microsoft 365 Consumer subscribers grew 12% to 67.0 \\nmillion. \\n•LinkedIn revenue increased $1.3 billion or 10% driven by Talent Solutions.\\n•Dynamics products and cloud services revenue increased $750 million or 16% driven by Dynamics 365 growth of 24%. \\nOperating income increased $4.5 billion or 15%.\\n•Gross margin increased $5.8 billion or 12% driven by growth in Office 365 Commercial and LinkedIn, as well as the change in accounting \\nestimate. Gross margin percentage increased. Excluding the impact of the change in accounting estimate, gross margin percentage increased \\nslightly driven by improvement in Office 365 Commercial, offset in part by sales mix shift to  cloud offerings.\\n•Operating expenses increased $1.3 billion or 7% driven by investment in LinkedIn and employee severance expenses. \\nRevenue, gross margin, and operating income included an unfavorable foreign currency impact of 5%, 5%, and 8%, respectively.\\nIntelligent Cloud \\nRevenue increased $12.9 billion or 17%. \\n•Server products and cloud services revenue increased $12.6 billion or 19% driven by Azure and other cloud services. Azure and other cloud \\nservices revenue grew 29% driven by growth in our consumption-based services. Server products revenue decreased 1%.\\n•Enterprise Services revenue increased $315 million or 4% driven by growth in Enterprise Support Services, offset in part by a decline in \\nIndustry Solutions (formerly Microsoft Consulting Services).\\n45\\n', metadata={'source': '/Users/gyf/Desktop/workshop/pdfs/MSFT_10K.pdf', 'file_path': '/Users/gyf/Desktop/workshop/pdfs/MSFT_10K.pdf', 'page': 44, 'total_pages': 110, 'format': 'PDF 1.4', 'title': '10-K', 'author': '', 'subject': '', 'keywords': '', 'creator': 'wkhtmltopdf 0.12.6', 'producer': 'Qt 4.8.7', 'creationDate': \"D:20240118054534-05'00'\", 'modDate': '', 'trapped': ''}),\n",
       "  Document(page_content='PART II\\nItem 7\\n \\nITEM 7. MANAGEMENT’S DISCUSSION AND ANALYSIS OF FINANCIAL CONDITION AND RESULTS OF \\nOPERATIONS\\nThe following Management’s Discussion and Analysis of Financial Condition and Results of Operations (“MD&A”) is intended to help the reader \\nunderstand the results of operations and financial condition of Microsoft Corporation. MD&A is provided as a supplement to, and should be read in \\nconjunction with, our consolidated financial statements and the accompanying Notes to Financial Statements (Part II, Item 8 of this Form 10-K). This \\nsection generally discusses the results of our operations for the year ended June 30, 2023 compared to the year ended June 30, 2022. For a discussion \\nof the year ended June 30, 2022 compared to the year ended June 30, 2021, please refer to Part II, Item 7, “Management’s Discussion and Analysis of \\nFinancial Condition and Results of Operations” in our Annual Report on Form 10-K for the year ended June 30, 2022.\\nOVERVIEW\\nMicrosoft is a technology company whose mission is to empower every person and every organization on the planet to achieve more. We strive to create \\nlocal opportunity, growth, and impact in every country around the world. We are creating the platforms and tools, powered by artificial intelligence (“AI”), \\nthat deliver better, faster, and more effective solutions to support small and large business competitiveness, improve educational and health outcomes, \\ngrow public-sector efficiency, and empower human ingenuity. \\nWe generate revenue by offering a wide range of cloud-based solutions, content, and other services to people and businesses; licensing and supporting \\nan array of software products; delivering relevant online advertising to a global audience; and designing and selling devices. Our most significant \\nexpenses are related to compensating employees; supporting and investing in our cloud-based services, including datacenter operations; designing, \\nmanufacturing, marketing, and selling our other products and services; and income taxes.\\nHighlights from fiscal year 2023 compared with fiscal year 2022 included:\\n•Microsoft Cloud revenue increased 22% to $111.6 billion.\\n•Office Commercial products and cloud services revenue increased 10% driven by Office 365 Commercial growth of 13%.\\n•Office Consumer products and cloud services revenue increased 2% and Microsoft 365 Consumer subscribers increased to 67.0 million.\\n•LinkedIn revenue increased 10%.\\n•Dynamics products and cloud services revenue increased 16% driven by Dynamics 365 growth of 24%.\\n•Server products and cloud services revenue increased 19% driven by Azure and other cloud services growth of 29%.\\n•Windows original equipment manufacturer licensing (“Windows OEM”) revenue decreased 25%.\\n•Devices revenue decreased 24%.\\n•Windows Commercial products and cloud services revenue increased 5%.\\n•Xbox content and services revenue decreased 3%. \\n•Search and news advertising revenue excluding traffic acquisition costs increased 11%.\\nIndustry Trends \\nOur industry is dynamic and highly competitive, with frequent changes in both technologies and business models. Each industry shift is an opportunity to \\nconceive new products, new technologies, or new ideas that can further transform the industry and our business. At Microsoft, we push the boundaries of \\nwhat is possible through a broad range of research and development activities that seek to identify and address the changing demands of customers and \\nusers, industry trends, and competitive forces.\\n40\\n', metadata={'source': '/Users/gyf/Desktop/workshop/pdfs/MSFT_10K.pdf', 'file_path': '/Users/gyf/Desktop/workshop/pdfs/MSFT_10K.pdf', 'page': 39, 'total_pages': 110, 'format': 'PDF 1.4', 'title': '10-K', 'author': '', 'subject': '', 'keywords': '', 'creator': 'wkhtmltopdf 0.12.6', 'producer': 'Qt 4.8.7', 'creationDate': \"D:20240118054534-05'00'\", 'modDate': '', 'trapped': ''}),\n",
       "  Document(page_content='PART II\\nItem 8\\n \\nRevenue, classified by significant product and service offerings, was as follows: \\n \\n(In millions)\\n  \\n \\n \\n \\n \\n \\n \\n \\n \\nYear Ended June 30,\\n \\n2023  \\n2022  \\n2021 \\n \\n \\n  \\nServer products and cloud services\\n $\\n79,970   $\\n67,350   $\\n52,589  \\nOffice products and cloud services\\n  \\n48,728   \\n \\n44,862    \\n39,872  \\nWindows\\n  \\n21,507   \\n24,732    \\n22,488  \\nGaming\\n  \\n15,466\\n  \\n16,230\\n   \\n15,370  \\nLinkedIn\\n \\n \\n15,145   \\n \\n13,816    \\n10,289  \\nSearch and news advertising\\n  \\n12,208   \\n \\n11,591   \\n \\n9,267 \\nEnterprise Services\\n  \\n7,722   \\n7,407   \\n6,943 \\nDevices\\n  \\n5,521   \\n7,306   \\n7,143 \\nDynamics\\n  \\n5,437  \\n4,687   \\n3,754 \\nOther\\n  \\n211    \\n289    \\n373  \\n \\n \\n \\n \\n \\n \\n \\n \\n  \\n \\n \\n \\n \\n \\n \\n \\n \\n \\n \\n \\n  \\nTotal\\n $\\n211,915   $\\n198,270   $\\n168,088  \\n \\n \\n \\n \\n \\n \\n \\n \\n \\n \\n \\n  \\n \\nOur Microsoft Cloud revenue, which includes Azure and other cloud services, Office 365 Commercial, the commercial portion of LinkedIn, Dynamics 365, \\nand other commercial cloud properties, was $111.6 billion, $91.4 billion, and $69.1 billion in fiscal years 2023, 2022, and 2021, respectively. These \\namounts are primarily included in Server products and cloud services, Office products and cloud services, LinkedIn, and Dynamics in the table above.\\nAssets are not allocated to segments for internal reporting presentations. A portion of amortization and depreciation is included with various other costs in \\nan overhead allocation to each segment. It is impracticable for us to separately identify the amount of amortization and depreciation by segment that is \\nincluded in the measure of segment profit or loss.\\nLong-lived assets, excluding financial instruments and tax assets, classified by the location of the controlling statutory company and with countries over \\n10% of the total shown separately, were as follows:\\n \\n(In millions)\\n  \\n \\n \\n \\n \\n \\n \\n \\n \\nJune 30,\\n \\n2023  \\n2022  \\n2021 \\n \\n \\n \\n \\nUnited States\\n $\\n114,380   $\\n106,430   $\\n76,153  \\nIreland\\n  \\n16,359    \\n15,505    \\n13,303  \\nOther countries\\n  \\n56,500    \\n44,433    \\n38,858  \\n \\n \\n \\n \\n \\n \\n \\n \\n \\n \\n \\n  \\n \\n \\n  \\n \\n \\n  \\nTotal\\n $\\n187,239   $\\n166,368   $\\n128,314  \\n \\n \\n \\n \\n \\n \\n \\n \\n95\\n', metadata={'source': '/Users/gyf/Desktop/workshop/pdfs/MSFT_10K.pdf', 'file_path': '/Users/gyf/Desktop/workshop/pdfs/MSFT_10K.pdf', 'page': 94, 'total_pages': 110, 'format': 'PDF 1.4', 'title': '10-K', 'author': '', 'subject': '', 'keywords': '', 'creator': 'wkhtmltopdf 0.12.6', 'producer': 'Qt 4.8.7', 'creationDate': \"D:20240118054534-05'00'\", 'modDate': '', 'trapped': ''})],\n",
       " 'answer': 'The revenue for Microsoft for the year 2022 was $198,270 million.'}"
      ]
     },
     "execution_count": 117,
     "metadata": {},
     "output_type": "execute_result"
    }
   ],
   "source": [
    "retrieval_chain.invoke({\"input\": \"What is the revenue for Microsoft for year 2022?\"})['answer']"
   ]
  },
  {
   "cell_type": "code",
   "execution_count": 119,
   "metadata": {},
   "outputs": [
    {
     "data": {
      "text/plain": [
       "{'input': 'What is revenue for Tesla for year 2022?',\n",
       " 'context': [Document(page_content=' \\n2022 compared to 2021\\nCost of automotive sales revenue increased $17.18 billion, or 53%, in the year ended December 31, 2022 as compared to the year ended December 31, 2021, in \\nline with the growth in revenue year over year, as discussed above. The average combined cost per unit of Model 3 and Model Y increased year over year due to rising \\nraw material, logistics and warranty costs. There were also idle capacity charges of $306 million primarily related to the temporary suspension of production at \\nGigafactory Shanghai as well as the ramping up of production in Gigafactory Texas and our proprietary battery cells manufacturing during the year ended December 31, \\n2022. We had also incurred costs related to the ramp up of production in Gigafactory Berlin-Brandenburg during the year ended December 31, 2022. These increases \\nwere partially offset by a decrease in combined average Model S and Model X costs per unit driven by lower average cost for the new versions from ramping up \\nproduction. Further, these increases in costs of revenue were positively impacted by the United States dollar strengthening against other foreign currencies in 2022 \\ncompared to the prior period.\\nCost of automotive leasing revenue increased $531 million, or 54%, in the year ended December 31, 2022 as compared to the year ended December 31, 2021, \\nprimarily due to an increase in cumulative vehicles under our direct operating lease program and an increase in direct sales-type leasing cost of revenues from more \\nactivities in the current year.\\nCost of services and other revenue increased $1.97 billion, or 51%, in the year ended December 31, 2022 as compared to the year ended December 31, 2021. The \\nchange is primarily due to an increase in used vehicle cost of revenue driven by increases in volume and costs of used Tesla and non-Tesla vehicle sales, an increase in \\nnon-warranty maintenance service revenue, and an increase in costs of paid Supercharging, insurance services and retail merchandise.\\nGross margin for total automotive decreased from 29.3% to 28.5% in the year ended December 31, 2022 as compared to the year ended December 31, 2021. This \\nwas driven by the changes in automotive sales revenue and cost of automotive sales revenue, partially offset by an increase in regulatory credits revenue, as discussed \\nearlier.\\nGross margin for total automotive & services and other segment decreased from 26.9% to 26.5% in the year ended December 31, 2022 as compared to the year \\nended December 31, 2021, primarily due to the automotive gross margin decrease discussed above, partially offset by an improvement in our services and other gross \\nmargin. Additionally, services and other was a higher percentage of the segment gross margin during the year ended 2022 as compared to the prior year.\\nEnergy Generation and Storage Segment\\nCost of energy generation and storage revenue includes direct and indirect material and labor costs, warehouse rent, freight, warranty expense, other overhead \\ncosts and amortization of certain acquired intangible assets. Cost of energy generation and storage revenue also includes charges to write down the carrying value of our \\ninventory when it exceeds its estimated net realizable value and to provide for obsolete and on-hand inventory in excess of forecasted demand. In agreements for solar \\nenergy system and PPAs where we are the lessor, the cost of revenue is primarily comprised of depreciation of the cost of leased solar energy systems, maintenance costs \\nassociated with those systems and amortization of any initial direct costs.\\n2022 compared to 2021\\nCost of energy generation and storage revenue increased $703 million, or 24%, in the year ended December 31, 2022 as compared to the year ended December \\n31, 2021, primarily due to increases in energy storage deployments of Megapack and Powerwall, as well as higher average cost of solar cash and loan deployments due \\nto increased component costs.\\nGross margin for energy generation and storage increased from -4.6% to 7.4% in the year ended December 31, 2022 as compared to the year ended December \\n31, 2021. This was driven by the growth in energy generation and storage revenue and cost of energy generation and storage revenue as discussed above. Additionally, \\nthere was a higher proportion of energy storage sales, which operated at a higher gross margin, within the segment.\\n39\\n', metadata={'source': '/Users/gyf/Desktop/workshop/pdfs/TSLA_10K.pdf', 'file_path': '/Users/gyf/Desktop/workshop/pdfs/TSLA_10K.pdf', 'page': 38, 'total_pages': 108, 'format': 'PDF 1.4', 'title': '10-K', 'author': '', 'subject': '', 'keywords': '', 'creator': 'wkhtmltopdf 0.12.6', 'producer': 'Qt 4.8.7', 'creationDate': \"D:20240118054459-05'00'\", 'modDate': '', 'trapped': ''}),\n",
       "  Document(page_content=' \\nTesla, Inc.\\nConsolidated Statements of Operations\\n(in millions, except per share data)\\n  \\n \\n \\nYear Ended December 31,\\n \\n \\n \\n2022\\n  \\n2021\\n  \\n2020\\n \\nRevenues\\n \\n   \\n   \\n  \\nAutomotive sales\\n \\n$\\n67,210   \\n$\\n44,125   \\n$\\n24,604  \\nAutomotive regulatory credits\\n \\n \\n1,776  \\n \\n1,465  \\n \\n1,580 \\nAutomotive leasing\\n \\n \\n2,476 \\n  \\n1,642 \\n  \\n1,052 \\nTotal automotive revenues\\n \\n \\n71,462   \\n \\n47,232   \\n \\n27,236  \\nEnergy generation and storage\\n \\n \\n3,909  \\n \\n2,789  \\n \\n1,994 \\nServices and other\\n \\n \\n6,091  \\n \\n3,802  \\n \\n2,306 \\nTotal revenues\\n  \\n81,462  \\n  \\n53,823  \\n  \\n31,536  \\nCost of revenues\\n \\n   \\n   \\n  \\nAutomotive sales\\n \\n \\n49,599   \\n \\n32,415   \\n \\n19,696  \\nAutomotive leasing\\n \\n \\n1,509 \\n  \\n978  \\n  \\n563  \\nTotal automotive cost of revenues\\n \\n \\n51,108   \\n \\n33,393   \\n \\n20,259  \\nEnergy generation and storage\\n \\n \\n3,621  \\n \\n2,918  \\n \\n1,976 \\nServices and other\\n \\n \\n5,880  \\n \\n3,906  \\n \\n2,671 \\nTotal cost of revenues\\n  \\n60,609  \\n  \\n40,217  \\n  \\n24,906  \\nGross profit\\n  \\n20,853  \\n  \\n13,606  \\n  \\n6,630 \\nOperating expenses\\n \\n   \\n   \\n  \\nResearch and development\\n \\n \\n3,075  \\n \\n2,593  \\n \\n1,491 \\nSelling, general and administrative\\n \\n \\n3,946  \\n \\n4,517  \\n \\n3,145 \\nRestructuring and other\\n \\n \\n176   \\n \\n(27 )  \\n \\n—  \\nTotal operating expenses\\n  \\n7,197 \\n  \\n7,083 \\n  \\n4,636 \\nIncome from operations\\n  \\n13,656  \\n  \\n6,523 \\n  \\n1,994 \\nInterest income\\n \\n \\n297   \\n \\n56   \\n \\n30  \\nInterest expense\\n \\n \\n(191 )  \\n \\n(371 )  \\n \\n(748 )\\nOther (expense) income, net\\n \\n \\n(43 )  \\n \\n135   \\n \\n(122 )\\nIncome before income taxes\\n  \\n13,719  \\n  \\n6,343 \\n  \\n1,154 \\nProvision for income taxes\\n \\n \\n1,132  \\n \\n699   \\n \\n292  \\nNet income\\n  \\n12,587  \\n  \\n5,644 \\n  \\n862  \\nNet income attributable to noncontrolling \\n   interests and redeemable noncontrolling interests \\n   in subsidiaries\\n \\n \\n31   \\n \\n125   \\n \\n141  \\nNet income attributable to common stockholders\\n $\\n12,556  \\n $\\n5,519 \\n $\\n721  \\n \\n \\n  \\n \\n  \\n \\n  \\nNet income per share of common stock \\n   attributable to common stockholders (1)\\n \\n  \\n \\n  \\n \\n  \\nBasic\\n $\\n4.02  \\n $\\n1.87  \\n $\\n0.25  \\nDiluted\\n $\\n3.62  \\n $\\n1.63  \\n $\\n0.21  \\nWeighted average shares used in computing net \\n   income per share of common stock (1)\\n \\n   \\n   \\n  \\nBasic\\n  \\n3,130 \\n  \\n2,959 \\n  \\n2,798 \\nDiluted\\n  \\n3,475 \\n  \\n3,386 \\n  \\n3,249 \\n \\n(1)Prior period results have been adjusted to reflect the three-for-one stock split effected in the form of a stock dividend in August 2022. See Note 1, Overview, for \\ndetails.\\n \\nThe accompanying notes are an integral part of these consolidated financial statements.\\n49\\n', metadata={'source': '/Users/gyf/Desktop/workshop/pdfs/TSLA_10K.pdf', 'file_path': '/Users/gyf/Desktop/workshop/pdfs/TSLA_10K.pdf', 'page': 48, 'total_pages': 108, 'format': 'PDF 1.4', 'title': '10-K', 'author': '', 'subject': '', 'keywords': '', 'creator': 'wkhtmltopdf 0.12.6', 'producer': 'Qt 4.8.7', 'creationDate': \"D:20240118054459-05'00'\", 'modDate': '', 'trapped': ''}),\n",
       "  Document(page_content=' \\n Results of Operations\\nRevenues\\n \\n \\n \\nYear Ended December 31,\\n  \\n2022 vs. 2021 Change\\n  \\n2021 vs. 2020 Change\\n \\n(Dollars in millions)\\n \\n2022\\n  \\n2021\\n  \\n2020\\n  \\n$\\n  \\n%\\n  \\n$\\n  \\n%\\n \\nAutomotive sales\\n $\\n67,210  \\n $\\n44,125  \\n $\\n24,604  \\n $\\n23,085  \\n  \\n52 %  $\\n19,521    \\n79 %\\nAutomotive regulatory credits\\n  \\n1,776  \\n  \\n1,465  \\n  \\n1,580  \\n  \\n311  \\n  \\n21 %   \\n(115 )   \\n(7 )%\\nAutomotive leasing\\n  \\n2,476  \\n  \\n1,642  \\n  \\n1,052  \\n  \\n834  \\n  \\n51 %   \\n590    \\n56 %\\nTotal automotive revenues\\n  \\n71,462  \\n  \\n47,232  \\n  \\n27,236  \\n  \\n24,230  \\n  \\n51 %   \\n19,996    \\n73 %\\nServices and other\\n  \\n6,091  \\n  \\n3,802  \\n  \\n2,306  \\n  \\n2,289  \\n  \\n60 %   \\n1,496    \\n65 %\\nTotal automotive & services and other\\n   segment revenue\\n  \\n77,553  \\n  \\n51,034  \\n  \\n29,542  \\n  \\n26,519  \\n  \\n52 %   \\n21,492    \\n73 %\\nEnergy generation and storage segment revenue\\n  \\n3,909  \\n  \\n2,789  \\n  \\n1,994  \\n  \\n1,120  \\n  \\n40 %   \\n795    \\n40 %\\nTotal revenues\\n $\\n81,462  \\n $\\n53,823  \\n $\\n31,536  \\n $\\n27,639  \\n  \\n51 %  $\\n22,287    \\n71 %\\n \\nAutomotive & Services and Other Segment\\nAutomotive sales revenue includes revenues related to cash and financing deliveries of new Model S, Model X, Semi, Model 3, and Model Y vehicles, including \\naccess to our FSD features, internet connectivity, free Supercharging programs and over-the-air software updates. These deliveries are vehicles that are not subject to \\nlease accounting. \\nAutomotive regulatory credits includes sales of regulatory credits to other automotive manufacturers. Our revenue from automotive regulatory credits is directly \\nrelated to our new vehicle production, sales and pricing negotiated with our customers. We monetize them proactively as new vehicles are sold based on standing \\narrangements with buyers of such credits, typically as close as possible to the production and delivery of the vehicle or changes in regulation impacting the credits. \\nAutomotive leasing revenue includes the amortization of revenue for vehicles under direct operating lease agreements. Additionally, automotive leasing revenue \\nincludes direct sales-type leasing programs where we recognize all revenue associated with the sales-type lease upon delivery to the customer.\\nServices and other revenue consists of non-warranty after-sales vehicle services and parts, paid Supercharging, sales of used vehicles, retail merchandise and \\nvehicle insurance revenue.\\n2022 compared to 2021\\nAutomotive sales revenue increased $23.09 billion, or 52%, in the year ended December 31, 2022 as compared to the year ended December 31, 2021, primarily \\ndue to an increase of 347,024 Model 3 and Model Y deliveries, and an increase of 38,183 Model S and Model X deliveries year over year. This was achieved from \\nproduction ramping of Model Y at Gigafactory Shanghai and the Fremont Factory as well as the start of production at Gigafactory Berlin-Brandenburg and Gigafactory \\nTexas in 2022, at a higher combined average selling price from a higher proportion of Model Y sales despite a negative impact from the United States dollar \\nstrengthening against other foreign currencies in 2022 compared to the prior period. There was also an increase in production of Model S and Model X and an increase \\nin the combined average selling price of Model S and Model X with a higher proportion of Model X sales, compared to the prior period as deliveries of the new versions \\nof Model S and Model X began ramping in the second and fourth quarters of 2021, respectively. Further, during the fourth quarter of 2022, we recognized $324 million \\nin revenue related to the general FSD feature release in North America. \\nAutomotive regulatory credits revenue increased $311 million, or 21%, in the year ended December 31, 2022 as compared to the year ended December 31, 2021, \\nprimarily due to changes in regulation which entitled us to additional consideration of $288 million in revenue in the first quarter of 2022 for credits sold previously, in \\nthe absence of which we had only an immaterial increase in automotive regulatory credits revenue.\\nAutomotive leasing revenue increased $834 million, or 51%, in the year ended December 31, 2022 as compared to the year ended December 31, 2021. The \\nchange is primarily due to an increase in activities under our direct operating lease program as well as an increase in direct sales-type leasing revenue.\\nServices and other revenue increased $2.29 billion, or 60%, in the year ended December 31, 2022 as compared to the year ended December 31, 2021. The change \\nis primarily due to increase in used vehicle revenue driven by increases in volume and average selling prices of used Tesla and non-Tesla vehicles, non-warranty \\nmaintenance services revenue as our fleet continues to grow, paid Supercharging revenue, insurance services revenue and retail merchandise revenue.\\n37\\n', metadata={'source': '/Users/gyf/Desktop/workshop/pdfs/TSLA_10K.pdf', 'file_path': '/Users/gyf/Desktop/workshop/pdfs/TSLA_10K.pdf', 'page': 36, 'total_pages': 108, 'format': 'PDF 1.4', 'title': '10-K', 'author': '', 'subject': '', 'keywords': '', 'creator': 'wkhtmltopdf 0.12.6', 'producer': 'Qt 4.8.7', 'creationDate': \"D:20240118054459-05'00'\", 'modDate': '', 'trapped': ''}),\n",
       "  Document(page_content=' \\nRevenue Recognition\\nRevenue by source\\nThe following table disaggregates our revenue by major source (in millions):\\n \\n \\n \\nYear Ended December 31,\\n \\n \\n \\n2022\\n  \\n2021\\n  \\n2020\\n \\nAutomotive sales (1)\\n $\\n67,210   $\\n44,125   $\\n24,604  \\nAutomotive regulatory credits\\n  \\n1,776   \\n1,465   \\n1,580 \\nEnergy generation and storage sales\\n  \\n3,376   \\n2,279   \\n1,477 \\nServices and other\\n  \\n6,091   \\n3,802   \\n2,306 \\nTotal revenues from sales and services\\n  \\n78,453    \\n51,671    \\n29,967  \\nAutomotive leasing\\n  \\n2,476   \\n1,642   \\n1,052 \\nEnergy generation and storage leasing\\n  \\n533    \\n510    \\n517  \\nTotal revenues\\n $\\n81,462   $\\n53,823   $\\n31,536  \\n \\n(1)Pricing adjustments on our vehicle offerings can impact the estimate of likelihood that customers would exercise their resale value guarantees, resulting in an \\nadjustment of our sales return reserve on vehicles sold with resale value guarantees. Actual return rates being lower than expected and increases in resale values of our \\nvehicles in 2021 resulted in a net release of our reserve of $365 million for the year ended December 31, 2021, which represented increases in automotive sales revenue. \\nThe net release or increase of reserves which impacted automotive sales revenue were immaterial for the years ended December 31, 2022 and December 31, 2020. \\nFurther, $324 million of the total revenue recognized as of December 31, 2022 is related to the general FSD feature release in North America in the fourth quarter of \\n2022.\\n \\nAutomotive Segment\\nAutomotive Sales\\nAutomotive sales revenue includes revenues related to cash and financing deliveries of new vehicles, and specific other features and services that meet the \\ndefinition of a performance obligation under ASC 606, including access to our FSD features, internet connectivity, Supercharger network and over-the-air software \\nupdates. We recognize revenue on automotive sales upon delivery to the customer, which is when the control of a vehicle transfers. Payments are typically received at \\nthe point control transfers or in accordance with payment terms customary to the business, except sales we finance for which payments are collected over the contractual \\nloan term. We also recognize a sales return reserve based on historical experience plus consideration for expected future market values, when we offer resale value \\nguarantees or similar buyback terms. Other features and services such as access to our internet connectivity, legacy programs offering unlimited free Supercharging and \\nover-the-air software updates are provisioned upon control transfer of a vehicle and recognized over time on a straight-line basis as we have a stand-ready obligation to \\ndeliver such services to the customer. Other limited free Supercharging incentives are recognized based on actual usage or expiration, whichever is earlier. We recognize \\nrevenue related to these other features and services over the performance period, which is generally the expected ownership life of the vehicle. Revenue related to FSD is \\nrecognized when functionality is delivered to the customer and the portion related to software updates is recognized over time. For our obligations related to automotive \\nsales, we estimate standalone selling price by considering costs used to develop and deliver the service, third-party pricing of similar options and other information that \\nmay be available.\\nAny fees that are paid or payable by us to a customer’s lender when we arrange the financing are recognized as an offset against automotive sales revenue. Costs \\nto obtain a contract mainly relate to commissions paid to our sales personnel for the sale of vehicles. As our contract costs related to automotive sales are typically \\nfulfilled within one year, the costs to obtain a contract are expensed as incurred. Amounts billed to customers related to shipping and handling are classified as \\nautomotive sales revenue, and we have elected to recognize the cost for freight and shipping when control over vehicles, parts or accessories have transferred to the \\ncustomer as an expense in cost of automotive sales revenue. Our policy is to exclude taxes collected from a customer from the transaction price of automotive contracts.\\n54\\n', metadata={'source': '/Users/gyf/Desktop/workshop/pdfs/TSLA_10K.pdf', 'file_path': '/Users/gyf/Desktop/workshop/pdfs/TSLA_10K.pdf', 'page': 53, 'total_pages': 108, 'format': 'PDF 1.4', 'title': '10-K', 'author': '', 'subject': '', 'keywords': '', 'creator': 'wkhtmltopdf 0.12.6', 'producer': 'Qt 4.8.7', 'creationDate': \"D:20240118054459-05'00'\", 'modDate': '', 'trapped': ''}),\n",
       "  Document(page_content=' \\nTesla, Inc.\\nConsolidated Statements of Comprehensive Income\\n(in millions)\\n  \\n \\n \\nYear Ended December 31,\\n \\n \\n \\n2022\\n  \\n2021\\n  \\n2020\\n \\nNet income\\n \\n$\\n12,587  \\n $\\n5,644 \\n $\\n862  \\nOther comprehensive (loss) income:\\n \\n  \\n \\n   \\n  \\nForeign currency translation adjustment\\n \\n \\n(392 )\\n  \\n(308 )\\n  \\n399  \\nUnrealized net loss on investments\\n  \\n(23 )\\n  \\n(1 )\\n  \\n—  \\nComprehensive income\\n \\n \\n12,172  \\n  \\n5,335 \\n  \\n1,261 \\nLess: Comprehensive income attributable to \\n   noncontrolling interests and redeemable \\n   noncontrolling interests in subsidiaries\\n \\n \\n31  \\n  \\n125  \\n  \\n141  \\nComprehensive income attributable to \\n   common stockholders\\n \\n$\\n12,141  \\n $\\n5,210 \\n $\\n1,120 \\n \\nThe accompanying notes are an integral part of these consolidated financial statements.\\n50\\n', metadata={'source': '/Users/gyf/Desktop/workshop/pdfs/TSLA_10K.pdf', 'file_path': '/Users/gyf/Desktop/workshop/pdfs/TSLA_10K.pdf', 'page': 49, 'total_pages': 108, 'format': 'PDF 1.4', 'title': '10-K', 'author': '', 'subject': '', 'keywords': '', 'creator': 'wkhtmltopdf 0.12.6', 'producer': 'Qt 4.8.7', 'creationDate': \"D:20240118054459-05'00'\", 'modDate': '', 'trapped': ''})],\n",
       " 'answer': 'The revenue for Tesla for the year 2022 is $81,462 million.'}"
      ]
     },
     "execution_count": 119,
     "metadata": {},
     "output_type": "execute_result"
    }
   ],
   "source": [
    "retrieval_chain.invoke({\"input\": \"What is revenue for Tesla for year 2022?\"})['answer']"
   ]
  },
  {
   "cell_type": "code",
   "execution_count": 120,
   "metadata": {},
   "outputs": [
    {
     "data": {
      "text/plain": [
       "{'input': 'What are some key financials for Eli and Lilly for year 2022?',\n",
       " 'context': [Document(page_content='Item 8. Financial Statements and Supplementary Data\\nConsolidated Statements of Operations\\nELI LILLY AND COMPANY AND SUBSIDIARIES\\n(Dollars in millions and shares in thousands, except per-\\nshare data)\\nYear Ended December 31\\n2022\\n2021\\n2020\\nRevenue (Note 2)\\n$\\n28,541.4 \\n$\\n28,318.4 \\n$\\n24,539.8 \\nCosts, expenses, and other:\\nCost of sales\\n6,629.8 \\n7,312.8 \\n5,483.3 \\nResearch and development\\n7,190.8 \\n6,930.7 \\n5,976.3 \\nMarketing, selling, and administrative\\n6,440.4 \\n6,431.6 \\n6,121.2 \\nAcquired in-process research and development and development milestones (Note 3)\\n908.5 \\n970.1 \\n769.8 \\nAsset impairment, restructuring, and other special charges \\n(Note 5)\\n244.6 \\n316.1 \\n131.2 \\nOther—net, (income) expense (Note 18)\\n320.9 \\n201.6 \\n(1,171.9)\\n21,735.0 \\n22,162.9 \\n17,309.9 \\nIncome before income taxes\\n6,806.4 \\n6,155.5 \\n7,229.9 \\nIncome taxes (Note 14)\\n561.6 \\n573.8 \\n1,036.2 \\nNet income\\n$\\n6,244.8 \\n$\\n5,581.7 \\n$\\n6,193.7 \\nEarnings per share:\\nBasic\\n$\\n6.93 \\n$\\n6.15 \\n$\\n6.82 \\nDiluted\\n$\\n6.90 \\n$\\n6.12 \\n$\\n6.79 \\nShares used in calculation of earnings per share:\\nBasic\\n901,736 \\n906,963 \\n907,634 \\nDiluted\\n904,619 \\n911,681 \\n912,505 \\nSee notes to consolidated financial statements.\\n56\\n', metadata={'source': '/Users/gyf/Desktop/workshop/pdfs/LLY_10K.pdf', 'file_path': '/Users/gyf/Desktop/workshop/pdfs/LLY_10K.pdf', 'page': 55, 'total_pages': 120, 'format': 'PDF 1.4', 'title': 'lly-20221231', 'author': '', 'subject': '', 'keywords': '', 'creator': 'wkhtmltopdf 0.12.6', 'producer': 'Qt 4.8.7', 'creationDate': \"D:20240118054548-05'00'\", 'modDate': '', 'trapped': ''}),\n",
       "  Document(page_content='Consolidated Statements of Cash Flows\\nELI LILLY AND COMPANY AND SUBSIDIARIES\\n(Dollars in millions)\\nYear Ended December 31\\n2022\\n2021\\n2020\\nCash Flows from Operating Activities\\nNet income\\n$\\n6,244.8 \\n$\\n5,581.7 \\n$\\n6,193.7 \\nAdjustments to Reconcile Net Income to Cash Flows from Operating Activities:\\nDepreciation and amortization\\n1,522.5 \\n1,547.6 \\n1,323.9 \\nDebt extinguishment loss (Note 11)\\n— \\n405.2 \\n— \\nChange in deferred income taxes\\n(2,185.2)\\n(802.3)\\n(134.5)\\nStock-based compensation expense\\n371.1 \\n342.8 \\n308.1 \\nNet investment (gains) losses\\n420.0 \\n(178.0)\\n(1,438.5)\\nAcquired in-process research and development (Note 3)\\n420.9 \\n874.9 \\n660.4 \\nOther non-cash operating activities, net\\n304.8 \\n511.4 \\n333.9 \\nOther changes in operating assets and liabilities, net of acquisitions and divestitures:\\nReceivables—(increase) decrease\\n(299.6)\\n(1,278.3)\\n(1,350.2)\\nInventories—(increase) decrease\\n(599.7)\\n(235.9)\\n(533.4)\\nOther assets—(increase) decrease\\n(793.5)\\n1,515.4 \\n(457.1)\\nIncome taxes payable—increase (decrease)\\n346.6 \\n(359.7)\\n322.0 \\nAccounts payable and other liabilities—increase (decrease)\\n1,331.7 \\n(664.1)\\n1,271.3 \\nNet Cash Provided by Operating Activities\\n7,084.4 \\n7,260.7 \\n6,499.6 \\nCash Flows from Investing Activities\\nPurchases of property and equipment\\n(1,854.3)\\n(1,309.8)\\n(1,387.9)\\nProceeds from sales and maturities of short-term investments\\n121.4 \\n47.4 \\n129.7 \\nPurchases of short-term investments\\n(107.4)\\n(83.5)\\n(11.4)\\nProceeds from sales of noncurrent investments\\n342.2 \\n800.0 \\n757.1 \\nPurchases of noncurrent investments\\n(600.2)\\n(929.9)\\n(358.7)\\nPurchases of in-process research and development\\n(629.7)\\n(563.4)\\n(641.2)\\nCash paid for acquisitions, net of cash acquired (Note 3)\\n(327.2)\\n(747.4)\\n(849.3)\\nOther investing activities, net\\n(206.4)\\n24.3 \\n102.8 \\nNet Cash Used for Investing Activities\\n(3,261.6)\\n(2,762.3)\\n(2,258.9)\\nCash Flows from Financing Activities\\nDividends paid\\n(3,535.8)\\n(3,086.8)\\n(2,687.1)\\nNet change in short-term borrowings\\n1,498.0 \\n(4.0)\\n(1,494.2)\\nProceeds from issuance of long-term debt\\n— \\n2,410.8 \\n2,062.3 \\nRepayments of long-term debt\\n(1,560.0)\\n(1,905.4)\\n(276.5)\\nPurchases of common stock\\n(1,500.0)\\n(1,250.0)\\n(500.0)\\nOther financing activities, net\\n(308.9)\\n(295.9)\\n(241.6)\\nNet Cash Used for Financing Activities\\n(5,406.7)\\n(4,131.3)\\n(3,137.1)\\nEffect of exchange rate changes on cash and cash equivalents\\n(167.6)\\n(205.7)\\n216.0 \\nNet increase (decrease) in cash and cash equivalents\\n(1,751.5)\\n161.4 \\n1,319.6 \\nCash and cash equivalents at beginning of year\\n3,818.5 \\n3,657.1 \\n2,337.5 \\nCash and Cash Equivalents at End of Year\\n$\\n2,067.0 \\n$\\n3,818.5 \\n$\\n3,657.1 \\nSee notes to consolidated financial statements.\\n60\\n', metadata={'source': '/Users/gyf/Desktop/workshop/pdfs/LLY_10K.pdf', 'file_path': '/Users/gyf/Desktop/workshop/pdfs/LLY_10K.pdf', 'page': 59, 'total_pages': 120, 'format': 'PDF 1.4', 'title': 'lly-20221231', 'author': '', 'subject': '', 'keywords': '', 'creator': 'wkhtmltopdf 0.12.6', 'producer': 'Qt 4.8.7', 'creationDate': \"D:20240118054548-05'00'\", 'modDate': '', 'trapped': ''}),\n",
       "  Document(page_content='Consolidated Statements of Comprehensive Income (Loss)\\nELI LILLY AND COMPANY AND SUBSIDIARIES\\n(Dollars in millions)\\nYear Ended December 31\\n2022\\n2021\\n2020\\nNet income\\n$\\n6,244.8 \\n$\\n5,581.7 \\n$\\n6,193.7 \\nOther comprehensive income (loss):\\nChange in foreign currency translation gains (losses)\\n(248.1)\\n13.5 \\n122.1 \\nChange in net unrealized gains (losses) on securities\\n(53.2)\\n(15.9)\\n14.2 \\nChange in defined benefit pension and retiree health benefit plans (Note 15)\\n616.9 \\n2,699.4 \\n(157.1)\\nChange in effective portion of cash flow hedges\\n432.9 \\n151.6 \\n(152.9)\\nOther comprehensive income (loss) before income taxes\\n748.5 \\n2,848.6 \\n(173.7)\\nBenefit (provision) for income taxes related to other comprehensive income (loss)\\n(250.0)\\n(695.3)\\n200.9 \\nOther comprehensive income, net of tax (Note 17)\\n498.5 \\n2,153.3 \\n27.2 \\nComprehensive income\\n$\\n6,743.3 \\n$\\n7,735.0 \\n$\\n6,220.9 \\nSee notes to consolidated financial statements.\\n57\\n', metadata={'source': '/Users/gyf/Desktop/workshop/pdfs/LLY_10K.pdf', 'file_path': '/Users/gyf/Desktop/workshop/pdfs/LLY_10K.pdf', 'page': 56, 'total_pages': 120, 'format': 'PDF 1.4', 'title': 'lly-20221231', 'author': '', 'subject': '', 'keywords': '', 'creator': 'wkhtmltopdf 0.12.6', 'producer': 'Qt 4.8.7', 'creationDate': \"D:20240118054548-05'00'\", 'modDate': '', 'trapped': ''}),\n",
       "  Document(page_content=\"Consolidated Balance Sheets\\nELI LILLY AND COMPANY AND SUBSIDIARIES\\n(Dollars in millions, shares in thousands)\\nDecember 31\\n2022\\n2021\\nAssets\\nCurrent Assets\\nCash and cash equivalents (Note 7)\\n$\\n2,067.0 \\n$\\n3,818.5 \\nShort-term investments (Note 7)\\n144.8 \\n90.1 \\nAccounts receivable, net of allowances of $16.0 (2022) and $22.5 (2021)\\n6,896.0 \\n6,672.8 \\nOther receivables\\n1,662.9 \\n1,454.4 \\nInventories (Note 6)\\n4,309.7 \\n3,886.0 \\nPrepaid expenses and other current assets\\n2,954.1 \\n2,530.6 \\nTotal current assets\\n18,034.5 \\n18,452.4 \\nInvestments (Note 7)\\n2,901.8 \\n3,212.6 \\nGoodwill (Note 8)\\n4,073.0 \\n3,892.0 \\nOther intangibles, net (Note 8)\\n7,206.6 \\n7,691.9 \\nDeferred tax assets (Note 14)\\n2,792.9 \\n2,489.3 \\nProperty and equipment, net (Note 9)\\n10,144.0 \\n8,985.1 \\nOther noncurrent assets\\n4,337.0 \\n4,082.7 \\nTotal assets\\n$\\n49,489.8 \\n$\\n48,806.0 \\nLiabilities and Equity\\nCurrent Liabilities\\nShort-term borrowings and current maturities of long-term debt (Note 11)\\n$\\n1,501.1 \\n$\\n1,538.3 \\nAccounts payable\\n1,930.6 \\n1,670.6 \\nEmployee compensation\\n1,059.8 \\n958.1 \\nSales rebates and discounts\\n8,784.1 \\n6,845.8 \\nDividends payable\\n1,017.2 \\n885.5 \\nIncome taxes payable (Note 14)\\n475.1 \\n126.9 \\nOther current liabilities\\n2,370.3 \\n3,027.5 \\nTotal current liabilities\\n17,138.2 \\n15,052.7 \\nOther Liabilities\\nLong-term debt (Note 11)\\n14,737.5 \\n15,346.4 \\nAccrued retirement benefits (Note 15)\\n1,305.1 \\n1,954.1 \\nLong-term income taxes payable (Note 14)\\n3,709.6 \\n3,920.0 \\nDeferred tax liabilities (Note 14)\\n87.3 \\n1,733.7 \\nOther noncurrent liabilities\\n1,736.7 \\n1,644.3 \\nTotal other liabilities\\n21,576.2 \\n24,598.5 \\nCommitments and Contingencies (Note 16)\\nEli Lilly and Company Shareholders' Equity (Notes 12 and 13)\\nCommon stock—no par value\\nAuthorized shares: 3,200,000\\nIssued shares: 950,632 (2022) and 954,116 (2021)\\n594.1 \\n596.3 \\nAdditional paid-in capital\\n6,921.4 \\n6,833.4 \\nRetained earnings\\n10,042.6 \\n8,958.5 \\nEmployee benefit trust\\n(3,013.2)\\n(3,013.2)\\nAccumulated other comprehensive loss (Note 17)\\n(3,844.6)\\n(4,343.1)\\nCost of common stock in treasury\\n(50.5)\\n(52.7)\\nTotal Eli Lilly and Company shareholders' equity\\n10,649.8 \\n8,979.2 \\nNoncontrolling interests\\n125.6 \\n175.6 \\nTotal equity\\n10,775.4 \\n9,154.8 \\nTotal liabilities and equity\\n$\\n49,489.8 \\n$\\n48,806.0 \\nSee notes to consolidated financial statements.\\n58\\n\", metadata={'source': '/Users/gyf/Desktop/workshop/pdfs/LLY_10K.pdf', 'file_path': '/Users/gyf/Desktop/workshop/pdfs/LLY_10K.pdf', 'page': 57, 'total_pages': 120, 'format': 'PDF 1.4', 'title': 'lly-20221231', 'author': '', 'subject': '', 'keywords': '', 'creator': 'wkhtmltopdf 0.12.6', 'producer': 'Qt 4.8.7', 'creationDate': \"D:20240118054548-05'00'\", 'modDate': '', 'trapped': ''}),\n",
       "  Document(page_content='Report of Independent Registered Public Accounting Firm\\nTo the Board of Directors and Shareholders of Eli Lilly and Company\\nOpinion on the Financial Statements\\nWe have audited the accompanying consolidated balance sheets of Eli Lilly and Company and subsidiaries (the Company) as of December 31, 2022 and\\n2021, the related consolidated statements of operations, comprehensive income (loss), shareholders\\' equity and cash flows for each of the three years in\\nthe period ended December 31, 2022, and the related notes (collectively referred to as the \"consolidated financial statements\"). In our opinion, the\\nconsolidated financial statements present fairly, in all material respects, the financial position of the Company at December 31, 2022 and 2021, and the\\nresults of its operations and its cash flows for each of the three years in the period ended December 31, 2022, in conformity with U.S. generally accepted\\naccounting principles.\\nWe also have audited, in accordance with the standards of the Public Company Accounting Oversight Board (United States) (PCAOB), the Company\\'s\\ninternal control over financial reporting as of December 31, 2022, based on criteria established in Internal Control — Integrated Framework issued by the\\nCommittee of Sponsoring Organizations of the Treadway Commission (2013 framework), and our report dated February 22, 2023 expressed an\\nunqualified opinion thereon.\\nBasis for Opinion\\nThese financial statements are the responsibility of the Company\\'s management. Our responsibility is to express an opinion on the Company\\'s financial\\nstatements based on our audits. We are a public accounting firm registered with the PCAOB and are required to be independent with respect to the\\nCompany in accordance with the U.S. federal securities laws and the applicable rules and regulations of the Securities and Exchange Commission and\\nthe PCAOB.\\nWe conducted our audits in accordance with the standards of the PCAOB. Those standards require that we plan and perform the audit to obtain\\nreasonable assurance about whether the financial statements are free of material misstatement, whether due to error or fraud. Our audits included\\nperforming procedures to assess the risks of material misstatement of the financial statements, whether due to error or fraud, and performing procedures\\nthat respond to those risks. Such procedures included examining, on a test basis, evidence regarding the amounts and disclosures in the financial\\nstatements. Our audits also included evaluating the accounting principles used and significant estimates made by management, as well as evaluating the\\noverall presentation of the financial statements. We believe that our audits provide a reasonable basis for our opinion.\\nCritical Audit Matters\\nThe critical audit matters communicated below are matters arising from the current period audit of the financial statements that were communicated or\\nrequired to be communicated to the audit committee and that: (1) relate to accounts or disclosures that are material to the financial statements and (2)\\ninvolved our especially challenging, subjective or complex judgments. The communication of critical audit matters does not alter in any way our opinion\\non the consolidated financial statements, taken as a whole, and we are not, by communicating the critical audit matters below, providing separate\\nopinions on the critical audit matters or on the accounts or disclosures to which they relate.\\n108\\n', metadata={'source': '/Users/gyf/Desktop/workshop/pdfs/LLY_10K.pdf', 'file_path': '/Users/gyf/Desktop/workshop/pdfs/LLY_10K.pdf', 'page': 107, 'total_pages': 120, 'format': 'PDF 1.4', 'title': 'lly-20221231', 'author': '', 'subject': '', 'keywords': '', 'creator': 'wkhtmltopdf 0.12.6', 'producer': 'Qt 4.8.7', 'creationDate': \"D:20240118054548-05'00'\", 'modDate': '', 'trapped': ''})],\n",
       " 'answer': 'Some key financials for Eli Lilly and Company for the year 2022 are as follows:\\n\\n- Revenue: $28,541.4 million\\n- Cost of sales: $6,629.8 million\\n- Research and development expenses: $7,190.8 million\\n- Marketing, selling, and administrative expenses: $6,440.4 million\\n- Acquired in-process research and development and development milestones: $908.5 million\\n- Asset impairment, restructuring, and other special charges: $244.6 million\\n- Other net income (expense): $320.9 million\\n- Income before income taxes: $6,806.4 million\\n- Net income: $6,244.8 million\\n- Earnings per share (basic): $6.93\\n- Earnings per share (diluted): $6.90\\n- Cash and cash equivalents at the end of the year: $2,067.0 million'}"
      ]
     },
     "execution_count": 120,
     "metadata": {},
     "output_type": "execute_result"
    }
   ],
   "source": [
    "retrieval_chain.invoke({\"input\": \"What are some key financials for Eli and Lilly for year 2022?\"})['answer']"
   ]
  },
  {
   "cell_type": "code",
   "execution_count": 122,
   "metadata": {},
   "outputs": [
    {
     "data": {
      "text/plain": [
       "{'input': 'What are net income for Eli and Lilly for year 2022 and 2021??',\n",
       " 'context': [Document(page_content='Consolidated Statements of Comprehensive Income (Loss)\\nELI LILLY AND COMPANY AND SUBSIDIARIES\\n(Dollars in millions)\\nYear Ended December 31\\n2022\\n2021\\n2020\\nNet income\\n$\\n6,244.8 \\n$\\n5,581.7 \\n$\\n6,193.7 \\nOther comprehensive income (loss):\\nChange in foreign currency translation gains (losses)\\n(248.1)\\n13.5 \\n122.1 \\nChange in net unrealized gains (losses) on securities\\n(53.2)\\n(15.9)\\n14.2 \\nChange in defined benefit pension and retiree health benefit plans (Note 15)\\n616.9 \\n2,699.4 \\n(157.1)\\nChange in effective portion of cash flow hedges\\n432.9 \\n151.6 \\n(152.9)\\nOther comprehensive income (loss) before income taxes\\n748.5 \\n2,848.6 \\n(173.7)\\nBenefit (provision) for income taxes related to other comprehensive income (loss)\\n(250.0)\\n(695.3)\\n200.9 \\nOther comprehensive income, net of tax (Note 17)\\n498.5 \\n2,153.3 \\n27.2 \\nComprehensive income\\n$\\n6,743.3 \\n$\\n7,735.0 \\n$\\n6,220.9 \\nSee notes to consolidated financial statements.\\n57\\n', metadata={'source': '/Users/gyf/Desktop/workshop/pdfs/LLY_10K.pdf', 'file_path': '/Users/gyf/Desktop/workshop/pdfs/LLY_10K.pdf', 'page': 56, 'total_pages': 120, 'format': 'PDF 1.4', 'title': 'lly-20221231', 'author': '', 'subject': '', 'keywords': '', 'creator': 'wkhtmltopdf 0.12.6', 'producer': 'Qt 4.8.7', 'creationDate': \"D:20240118054548-05'00'\", 'modDate': '', 'trapped': ''}),\n",
       "  Document(page_content='Item 8. Financial Statements and Supplementary Data\\nConsolidated Statements of Operations\\nELI LILLY AND COMPANY AND SUBSIDIARIES\\n(Dollars in millions and shares in thousands, except per-\\nshare data)\\nYear Ended December 31\\n2022\\n2021\\n2020\\nRevenue (Note 2)\\n$\\n28,541.4 \\n$\\n28,318.4 \\n$\\n24,539.8 \\nCosts, expenses, and other:\\nCost of sales\\n6,629.8 \\n7,312.8 \\n5,483.3 \\nResearch and development\\n7,190.8 \\n6,930.7 \\n5,976.3 \\nMarketing, selling, and administrative\\n6,440.4 \\n6,431.6 \\n6,121.2 \\nAcquired in-process research and development and development milestones (Note 3)\\n908.5 \\n970.1 \\n769.8 \\nAsset impairment, restructuring, and other special charges \\n(Note 5)\\n244.6 \\n316.1 \\n131.2 \\nOther—net, (income) expense (Note 18)\\n320.9 \\n201.6 \\n(1,171.9)\\n21,735.0 \\n22,162.9 \\n17,309.9 \\nIncome before income taxes\\n6,806.4 \\n6,155.5 \\n7,229.9 \\nIncome taxes (Note 14)\\n561.6 \\n573.8 \\n1,036.2 \\nNet income\\n$\\n6,244.8 \\n$\\n5,581.7 \\n$\\n6,193.7 \\nEarnings per share:\\nBasic\\n$\\n6.93 \\n$\\n6.15 \\n$\\n6.82 \\nDiluted\\n$\\n6.90 \\n$\\n6.12 \\n$\\n6.79 \\nShares used in calculation of earnings per share:\\nBasic\\n901,736 \\n906,963 \\n907,634 \\nDiluted\\n904,619 \\n911,681 \\n912,505 \\nSee notes to consolidated financial statements.\\n56\\n', metadata={'source': '/Users/gyf/Desktop/workshop/pdfs/LLY_10K.pdf', 'file_path': '/Users/gyf/Desktop/workshop/pdfs/LLY_10K.pdf', 'page': 55, 'total_pages': 120, 'format': 'PDF 1.4', 'title': 'lly-20221231', 'author': '', 'subject': '', 'keywords': '', 'creator': 'wkhtmltopdf 0.12.6', 'producer': 'Qt 4.8.7', 'creationDate': \"D:20240118054548-05'00'\", 'modDate': '', 'trapped': ''}),\n",
       "  Document(page_content='Consolidated Statements of Cash Flows\\nELI LILLY AND COMPANY AND SUBSIDIARIES\\n(Dollars in millions)\\nYear Ended December 31\\n2022\\n2021\\n2020\\nCash Flows from Operating Activities\\nNet income\\n$\\n6,244.8 \\n$\\n5,581.7 \\n$\\n6,193.7 \\nAdjustments to Reconcile Net Income to Cash Flows from Operating Activities:\\nDepreciation and amortization\\n1,522.5 \\n1,547.6 \\n1,323.9 \\nDebt extinguishment loss (Note 11)\\n— \\n405.2 \\n— \\nChange in deferred income taxes\\n(2,185.2)\\n(802.3)\\n(134.5)\\nStock-based compensation expense\\n371.1 \\n342.8 \\n308.1 \\nNet investment (gains) losses\\n420.0 \\n(178.0)\\n(1,438.5)\\nAcquired in-process research and development (Note 3)\\n420.9 \\n874.9 \\n660.4 \\nOther non-cash operating activities, net\\n304.8 \\n511.4 \\n333.9 \\nOther changes in operating assets and liabilities, net of acquisitions and divestitures:\\nReceivables—(increase) decrease\\n(299.6)\\n(1,278.3)\\n(1,350.2)\\nInventories—(increase) decrease\\n(599.7)\\n(235.9)\\n(533.4)\\nOther assets—(increase) decrease\\n(793.5)\\n1,515.4 \\n(457.1)\\nIncome taxes payable—increase (decrease)\\n346.6 \\n(359.7)\\n322.0 \\nAccounts payable and other liabilities—increase (decrease)\\n1,331.7 \\n(664.1)\\n1,271.3 \\nNet Cash Provided by Operating Activities\\n7,084.4 \\n7,260.7 \\n6,499.6 \\nCash Flows from Investing Activities\\nPurchases of property and equipment\\n(1,854.3)\\n(1,309.8)\\n(1,387.9)\\nProceeds from sales and maturities of short-term investments\\n121.4 \\n47.4 \\n129.7 \\nPurchases of short-term investments\\n(107.4)\\n(83.5)\\n(11.4)\\nProceeds from sales of noncurrent investments\\n342.2 \\n800.0 \\n757.1 \\nPurchases of noncurrent investments\\n(600.2)\\n(929.9)\\n(358.7)\\nPurchases of in-process research and development\\n(629.7)\\n(563.4)\\n(641.2)\\nCash paid for acquisitions, net of cash acquired (Note 3)\\n(327.2)\\n(747.4)\\n(849.3)\\nOther investing activities, net\\n(206.4)\\n24.3 \\n102.8 \\nNet Cash Used for Investing Activities\\n(3,261.6)\\n(2,762.3)\\n(2,258.9)\\nCash Flows from Financing Activities\\nDividends paid\\n(3,535.8)\\n(3,086.8)\\n(2,687.1)\\nNet change in short-term borrowings\\n1,498.0 \\n(4.0)\\n(1,494.2)\\nProceeds from issuance of long-term debt\\n— \\n2,410.8 \\n2,062.3 \\nRepayments of long-term debt\\n(1,560.0)\\n(1,905.4)\\n(276.5)\\nPurchases of common stock\\n(1,500.0)\\n(1,250.0)\\n(500.0)\\nOther financing activities, net\\n(308.9)\\n(295.9)\\n(241.6)\\nNet Cash Used for Financing Activities\\n(5,406.7)\\n(4,131.3)\\n(3,137.1)\\nEffect of exchange rate changes on cash and cash equivalents\\n(167.6)\\n(205.7)\\n216.0 \\nNet increase (decrease) in cash and cash equivalents\\n(1,751.5)\\n161.4 \\n1,319.6 \\nCash and cash equivalents at beginning of year\\n3,818.5 \\n3,657.1 \\n2,337.5 \\nCash and Cash Equivalents at End of Year\\n$\\n2,067.0 \\n$\\n3,818.5 \\n$\\n3,657.1 \\nSee notes to consolidated financial statements.\\n60\\n', metadata={'source': '/Users/gyf/Desktop/workshop/pdfs/LLY_10K.pdf', 'file_path': '/Users/gyf/Desktop/workshop/pdfs/LLY_10K.pdf', 'page': 59, 'total_pages': 120, 'format': 'PDF 1.4', 'title': 'lly-20221231', 'author': '', 'subject': '', 'keywords': '', 'creator': 'wkhtmltopdf 0.12.6', 'producer': 'Qt 4.8.7', 'creationDate': \"D:20240118054548-05'00'\", 'modDate': '', 'trapped': ''}),\n",
       "  Document(page_content=\"Consolidated Statements of Shareholders' Equity\\nEquity of Eli Lilly and Company Shareholders\\nELI LILLY AND COMPANY AND\\nSUBSIDIARIES\\n(Dollars in millions, except per-share data,\\nand shares in thousands)\\nCommon Stock\\nAdditional\\nPaid-in\\nCapital\\nRetained\\nEarnings\\nEmployee\\nBenefit Trust\\nAccumulated Other\\nComprehensive Loss\\nCommon Stock in Treasury\\nNoncontrolling\\nInterest\\nShares\\nAmount\\nShares\\nAmount\\nBalance at January 1, 2020\\n958,056 \\n$\\n598.8 \\n$\\n6,685.3 \\n$\\n4,920.4 \\n$\\n(3,013.2)\\n$\\n(6,523.6)\\n530 \\n$\\n(60.8)\\n$\\n92.2 \\nNet income\\n6,193.7 \\n126.6 \\nOther comprehensive income, net of tax\\n27.2 \\nCash dividends declared per share: $ 3.07\\n(2,786.2)\\nRetirement of treasury shares\\n(3,627)\\n(2.3)\\n(497.7)\\n(3,627)\\n500.0 \\nPurchase of treasury shares\\n3,627 \\n(500.0)\\nIssuance of stock under employee stock\\nplans, net\\n2,648 \\n1.7 \\n(212.7)\\n(43)\\n5.1 \\nStock-based compensation\\n308.1 \\nOther\\n(2.2)\\n(35.2)\\nBalance at December 31, 2020\\n957,077 \\n598.2 \\n6,778.5 \\n7,830.2 \\n(3,013.2)\\n(6,496.4)\\n487 \\n(55.7)\\n183.6 \\nNet income\\n5,581.7 \\n3.4 \\nOther comprehensive income, net of tax\\n2,153.3 \\nCash dividends declared per share: $ 3.53\\n(3,201.7)\\nRetirement of treasury shares\\n(5,412)\\n(3.4)\\n(1,246.6)\\n(5,412)\\n1,250.0 \\nPurchase of treasury shares\\n5,412 \\n(1,250.0)\\nIssuance of stock under employee stock\\nplans, net\\n2,451 \\n1.5 \\n(287.9)\\n(24)\\n3.0 \\nStock-based compensation\\n342.8 \\nOther\\n(5.1)\\n(11.4)\\nBalance at December 31, 2021\\n954,116 \\n596.3 \\n6,833.4 \\n8,958.5 \\n(3,013.2)\\n(4,343.1)\\n463 \\n(52.7)\\n175.6 \\nNet income (loss)\\n6,244.8 \\n(20.9)\\nOther comprehensive income, net of tax\\n498.5 \\nCash dividends declared per share: $ 4.07\\n(3,667.5)\\nRetirement of treasury shares\\n(5,607)\\n(3.5)\\n(1,496.5)\\n(5,607)\\n1,500.0 \\nPurchase of treasury shares\\n5,607 \\n(1,500.0)\\nIssuance of stock under employee stock\\nplans, net\\n2,123 \\n1.3 \\n(283.1)\\n(13)\\n2.2 \\nStock-based compensation\\n371.1 \\nOther\\n3.3 \\n(29.1)\\nBalance at December 31, 2022\\n950,632 \\n$\\n594.1 \\n$\\n6,921.4 \\n$\\n10,042.6 \\n$\\n(3,013.2)\\n$\\n(3,844.6)\\n450 \\n$\\n(50.5)\\n$\\n125.6 \\nSee notes to consolidated financial statements.\\n59\\n\", metadata={'source': '/Users/gyf/Desktop/workshop/pdfs/LLY_10K.pdf', 'file_path': '/Users/gyf/Desktop/workshop/pdfs/LLY_10K.pdf', 'page': 58, 'total_pages': 120, 'format': 'PDF 1.4', 'title': 'lly-20221231', 'author': '', 'subject': '', 'keywords': '', 'creator': 'wkhtmltopdf 0.12.6', 'producer': 'Qt 4.8.7', 'creationDate': \"D:20240118054548-05'00'\", 'modDate': '', 'trapped': ''}),\n",
       "  Document(page_content=\"Consolidated Balance Sheets\\nELI LILLY AND COMPANY AND SUBSIDIARIES\\n(Dollars in millions, shares in thousands)\\nDecember 31\\n2022\\n2021\\nAssets\\nCurrent Assets\\nCash and cash equivalents (Note 7)\\n$\\n2,067.0 \\n$\\n3,818.5 \\nShort-term investments (Note 7)\\n144.8 \\n90.1 \\nAccounts receivable, net of allowances of $16.0 (2022) and $22.5 (2021)\\n6,896.0 \\n6,672.8 \\nOther receivables\\n1,662.9 \\n1,454.4 \\nInventories (Note 6)\\n4,309.7 \\n3,886.0 \\nPrepaid expenses and other current assets\\n2,954.1 \\n2,530.6 \\nTotal current assets\\n18,034.5 \\n18,452.4 \\nInvestments (Note 7)\\n2,901.8 \\n3,212.6 \\nGoodwill (Note 8)\\n4,073.0 \\n3,892.0 \\nOther intangibles, net (Note 8)\\n7,206.6 \\n7,691.9 \\nDeferred tax assets (Note 14)\\n2,792.9 \\n2,489.3 \\nProperty and equipment, net (Note 9)\\n10,144.0 \\n8,985.1 \\nOther noncurrent assets\\n4,337.0 \\n4,082.7 \\nTotal assets\\n$\\n49,489.8 \\n$\\n48,806.0 \\nLiabilities and Equity\\nCurrent Liabilities\\nShort-term borrowings and current maturities of long-term debt (Note 11)\\n$\\n1,501.1 \\n$\\n1,538.3 \\nAccounts payable\\n1,930.6 \\n1,670.6 \\nEmployee compensation\\n1,059.8 \\n958.1 \\nSales rebates and discounts\\n8,784.1 \\n6,845.8 \\nDividends payable\\n1,017.2 \\n885.5 \\nIncome taxes payable (Note 14)\\n475.1 \\n126.9 \\nOther current liabilities\\n2,370.3 \\n3,027.5 \\nTotal current liabilities\\n17,138.2 \\n15,052.7 \\nOther Liabilities\\nLong-term debt (Note 11)\\n14,737.5 \\n15,346.4 \\nAccrued retirement benefits (Note 15)\\n1,305.1 \\n1,954.1 \\nLong-term income taxes payable (Note 14)\\n3,709.6 \\n3,920.0 \\nDeferred tax liabilities (Note 14)\\n87.3 \\n1,733.7 \\nOther noncurrent liabilities\\n1,736.7 \\n1,644.3 \\nTotal other liabilities\\n21,576.2 \\n24,598.5 \\nCommitments and Contingencies (Note 16)\\nEli Lilly and Company Shareholders' Equity (Notes 12 and 13)\\nCommon stock—no par value\\nAuthorized shares: 3,200,000\\nIssued shares: 950,632 (2022) and 954,116 (2021)\\n594.1 \\n596.3 \\nAdditional paid-in capital\\n6,921.4 \\n6,833.4 \\nRetained earnings\\n10,042.6 \\n8,958.5 \\nEmployee benefit trust\\n(3,013.2)\\n(3,013.2)\\nAccumulated other comprehensive loss (Note 17)\\n(3,844.6)\\n(4,343.1)\\nCost of common stock in treasury\\n(50.5)\\n(52.7)\\nTotal Eli Lilly and Company shareholders' equity\\n10,649.8 \\n8,979.2 \\nNoncontrolling interests\\n125.6 \\n175.6 \\nTotal equity\\n10,775.4 \\n9,154.8 \\nTotal liabilities and equity\\n$\\n49,489.8 \\n$\\n48,806.0 \\nSee notes to consolidated financial statements.\\n58\\n\", metadata={'source': '/Users/gyf/Desktop/workshop/pdfs/LLY_10K.pdf', 'file_path': '/Users/gyf/Desktop/workshop/pdfs/LLY_10K.pdf', 'page': 57, 'total_pages': 120, 'format': 'PDF 1.4', 'title': 'lly-20221231', 'author': '', 'subject': '', 'keywords': '', 'creator': 'wkhtmltopdf 0.12.6', 'producer': 'Qt 4.8.7', 'creationDate': \"D:20240118054548-05'00'\", 'modDate': '', 'trapped': ''})],\n",
       " 'answer': 'The net income for Eli Lilly and Company for the year 2022 is $6,244.8 million, and for the year 2021, it is $5,581.7 million.'}"
      ]
     },
     "execution_count": 122,
     "metadata": {},
     "output_type": "execute_result"
    }
   ],
   "source": [
    "retrieval_chain.invoke({\"input\": \"What are net income for Eli and Lilly for year 2022 and 2021??\"})['answer']"
   ]
  },
  {
   "cell_type": "markdown",
   "metadata": {},
   "source": [
    "#### Finally, let's add memory capabilities for better user experience\n",
    "https://python.langchain.com/docs/expression_language/cookbook/retrieval"
   ]
  },
  {
   "cell_type": "code",
   "execution_count": 123,
   "metadata": {},
   "outputs": [],
   "source": [
    "from operator import itemgetter\n",
    "from langchain.memory import ConversationBufferMemory\n",
    "from langchain.schema import format_document\n",
    "from langchain_core.messages import AIMessage, HumanMessage, get_buffer_string\n",
    "from langchain_core.runnables import RunnableParallel\n",
    "from langchain_core.output_parsers import StrOutputParser\n",
    "from langchain_core.prompts import ChatPromptTemplate\n",
    "from langchain_core.runnables import RunnableLambda, RunnablePassthrough\n",
    "from langchain.prompts.prompt import PromptTemplate\n",
    "_template = \"\"\"Given the following conversation and a follow up question, rephrase the follow up question to be a standalone question, in its original language.\n",
    "\n",
    "Chat History:\n",
    "{chat_history}\n",
    "Follow Up Input: {question}\n",
    "Standalone question:\"\"\"\n",
    "CONDENSE_QUESTION_PROMPT = PromptTemplate.from_template(_template)\n",
    "\n",
    "template = \"\"\"Answer the question based only on the following context:\n",
    "{context}\n",
    "\n",
    "Question: {question}\n",
    "\"\"\"\n",
    "ANSWER_PROMPT = ChatPromptTemplate.from_template(template)\n",
    "\n",
    "DEFAULT_DOCUMENT_PROMPT = PromptTemplate.from_template(template=\"{page_content}\")\n",
    "\n",
    "\n",
    "def _combine_documents(\n",
    "    docs, document_prompt=DEFAULT_DOCUMENT_PROMPT, document_separator=\"\\n\\n\"\n",
    "):\n",
    "    doc_strings = [format_document(doc, document_prompt) for doc in docs]\n",
    "    return document_separator.join(doc_strings)"
   ]
  },
  {
   "cell_type": "code",
   "execution_count": 132,
   "metadata": {},
   "outputs": [
    {
     "name": "stderr",
     "output_type": "stream",
     "text": [
      "/opt/homebrew/Caskroom/miniforge/base/envs/capstone/lib/python3.11/site-packages/langchain_core/_api/deprecation.py:189: LangChainDeprecationWarning: The class `ChatOpenAI` was deprecated in LangChain 0.1.0 and will be removed in 0.2.0. Use langchain_openai.ChatOpenAI instead.\n",
      "  warn_deprecated(\n",
      "/opt/homebrew/Caskroom/miniforge/base/envs/capstone/lib/python3.11/site-packages/langchain_core/_api/deprecation.py:189: LangChainDeprecationWarning: The class `ChatOpenAI` was deprecated in LangChain 0.1.0 and will be removed in 0.2.0. Use langchain_openai.ChatOpenAI instead.\n",
      "  warn_deprecated(\n"
     ]
    }
   ],
   "source": [
    "memory = ConversationBufferMemory(\n",
    "    return_messages=True, output_key=\"answer\", input_key=\"question\"\n",
    ")\n",
    "\n",
    "# First we add a step to load memory\n",
    "# This adds a \"memory\" key to the input object\n",
    "loaded_memory = RunnablePassthrough.assign(\n",
    "    chat_history=RunnableLambda(memory.load_memory_variables) | itemgetter(\"history\"),\n",
    ")\n",
    "# Now we calculate the standalone question\n",
    "standalone_question = {\n",
    "    \"standalone_question\": {\n",
    "        \"question\": lambda x: x[\"question\"],\n",
    "        \"chat_history\": lambda x: get_buffer_string(x[\"chat_history\"]),\n",
    "    }\n",
    "    | CONDENSE_QUESTION_PROMPT\n",
    "    | ChatOpenAI(temperature=0.1, openai_api_key=api_key, model=\"gpt-4-1106-preview\")\n",
    "    | StrOutputParser(),\n",
    "}\n",
    "# Now we retrieve the documents\n",
    "retrieved_documents = {\n",
    "    \"docs\": itemgetter(\"standalone_question\") | retriever,\n",
    "    \"question\": lambda x: x[\"standalone_question\"],\n",
    "}\n",
    "# Now we construct the inputs for the final prompt\n",
    "final_inputs = {\n",
    "    \"context\": lambda x: _combine_documents(x[\"docs\"]),\n",
    "    \"question\": itemgetter(\"question\"),\n",
    "}\n",
    "# And finally, we do the part that returns the answers\n",
    "answer = {\n",
    "    \"answer\": final_inputs | ANSWER_PROMPT | ChatOpenAI(temperature=0.1, openai_api_key=api_key, model=\"gpt-4-1106-preview\"),\n",
    "    \"docs\": itemgetter(\"docs\"),\n",
    "}\n",
    "# And now we put it all together!\n",
    "final_chain = loaded_memory | standalone_question | retrieved_documents | answer"
   ]
  },
  {
   "cell_type": "code",
   "execution_count": 139,
   "metadata": {},
   "outputs": [
    {
     "data": {
      "text/plain": [
       "{'answer': AIMessage(content=\"Microsoft's revenue in 2022 was $198,270 million (or $198.27 billion).\"),\n",
       " 'docs': [Document(page_content='PART II\\nItem 7\\n \\nSUMMARY RESULTS OF OPERATIONS\\n \\n(In millions, except percentages and per share amounts)\\n \\n2023\\n2022\\nPercentage\\nChange  \\n \\n \\n \\n \\n \\n \\n \\n \\n \\n \\n \\n \\n \\n \\n \\n \\n \\n \\n \\n \\nRevenue\\n $\\n211,915   $\\n198,270\\n \\n7%\\nGross margin\\n  \\n146,052    \\n135,620\\n \\n8%\\nOperating income\\n  \\n88,523    \\n83,383\\n \\n6%\\nNet income\\n  \\n72,361    \\n72,738\\n \\n(1)%\\nDiluted earnings per share\\n  \\n9.68   \\n9.65\\n \\n0%\\nAdjusted gross margin (non-GAAP)\\n  \\n146,204    \\n135,620    \\n8%  \\nAdjusted operating income (non-GAAP)\\n  \\n89,694    \\n83,383    \\n8%  \\nAdjusted net income (non-GAAP)\\n \\n \\n73,307   \\n \\n69,447\\n \\n6%\\nAdjusted diluted earnings per share (non-GAAP)\\n  \\n9.81   \\n9.21\\n \\n7%\\n \\n \\n \\n \\n \\n \\n \\n \\n \\n \\n \\n \\n \\n \\nAdjusted gross margin, operating income, net income, and diluted earnings per share (“EPS”) are non-GAAP financial measures. Current year non-\\nGAAP financial measures exclude the impact of the Q2 charge, which includes employee severance expenses, impairment charges resulting from \\nchanges to our hardware portfolio, and costs related to lease consolidation activities. Prior year non-GAAP financial measures exclude the net income tax \\nbenefit related to transfer of intangible properties in the first quarter of fiscal year 2022. Refer to Note 12 – Income Taxes of the Notes to Financial \\nStatements (Part II, Item 8 of this Form 10-K) for further discussion. Refer to the Non-GAAP Financial Measures section below for a reconciliation of our \\nfinancial results reported in accordance with GAAP to non-GAAP financial results.\\nFiscal Year 2023 Compared with Fiscal Year 2022\\nRevenue increased $13.6 billion or 7% driven by growth in Intelligent Cloud and Productivity and Business Processes, offset in part by a decline in More \\nPersonal Computing. Intelligent Cloud revenue increased driven by Azure and other cloud services. Productivity and Business Processes revenue \\nincreased driven by Office 365 Commercial and LinkedIn. More Personal Computing revenue decreased driven by Windows  and Devices. \\nCost of revenue increased $3.2 billion or 5% driven by growth in Microsoft Cloud, offset in part by the change in accounting estimate.\\nGross margin increased $10.4 billion or 8% driven by growth in Intelligent Cloud and Productivity and Business Processes and the change in accounting \\nestimate, offset in part by a decline in More Personal Computing. \\n•Gross margin percentage increased slightly. Excluding the impact of the change in accounting estimate, gross margin percentage decreased 1 \\npoint driven by declines in Intelligent Cloud and More Personal Computing, offset in part by sales mix shift between our segments.\\n•Microsoft Cloud gross margin percentage increased 2 points to 72%. Excluding the impact of the change in accounting estimate, Microsoft \\nCloud gross margin percentage decreased slightly driven by a decline in Azure and other cloud services and sales mix shift to Azure and other \\ncloud services, offset in part by improvement in Office 365 Commercial.\\nOperating expenses increased $5.3 billion or 10% driven by employee severance expenses, 2 points of growth from the Nuance and Xandr acquisitions, \\ninvestments in cloud engineering, and LinkedIn.\\nOperating income increased $5.1 billion or 6% driven by growth in Productivity and Business Processes and Intelligent Cloud and the change in \\naccounting estimate, offset in part by a decline in More Personal Computing.\\nRevenue, gross margin, and operating income included an unfavorable foreign currency impact of 4%, 4%, and 6%, respectively. Cost of revenue and \\noperating expenses both included a favorable foreign currency impact of 2%.\\nCurrent year gross margin, operating income, net income, and diluted EPS were negatively impacted by the Q2 charge, which resulted in decreases of \\n$152 million, $1.2 billion, $946 million, and $0.13, respectively. Prior year net income and diluted EPS were positively impacted by the net tax benefit \\nrelated to the transfer of intangible properties, which resulted in an increase to net income and diluted EPS of $3.3 billion and $0.44, respectively.\\n44\\n', metadata={'source': '/Users/gyf/Desktop/workshop/pdfs/MSFT_10K.pdf', 'file_path': '/Users/gyf/Desktop/workshop/pdfs/MSFT_10K.pdf', 'page': 43, 'total_pages': 110, 'format': 'PDF 1.4', 'title': '10-K', 'author': '', 'subject': '', 'keywords': '', 'creator': 'wkhtmltopdf 0.12.6', 'producer': 'Qt 4.8.7', 'creationDate': \"D:20240118054534-05'00'\", 'modDate': '', 'trapped': ''}),\n",
       "  Document(page_content='PART II\\nItem 8\\n \\n•Gaming, including Xbox hardware and Xbox content and services, comprising first- and third-party content (including games and in-game \\ncontent), Xbox Game Pass and other subscriptions, Xbox Cloud Gaming, advertising, third-party disc royalties, and other cloud services.\\n•Search and news advertising, comprising Bing (including Bing Chat), Microsoft News, Microsoft Edge, and third-party affiliates.\\nRevenue and costs are generally directly attributed to our segments. However, due to the integrated structure of our business, certain revenue \\nrecognized and costs incurred by one segment may benefit other segments. Revenue from certain contracts is allocated among the segments based on \\nthe relative value of the underlying products and services, which can include allocation based on actual prices charged, prices when sold separately, or \\nestimated costs plus a profit margin. Cost of revenue is allocated in certain cases based on a relative revenue methodology. Operating expenses that are \\nallocated primarily include those relating to marketing of products and services from which multiple segments benefit and are generally allocated based \\non relative gross margin.\\nIn addition, certain costs are incurred at a corporate level and allocated to our segments. These allocated costs  generally include legal, including \\nsettlements and fines, information technology, human resources, finance, excise taxes, field selling, shared facilities services, customer service and \\nsupport, and severance incurred as part of a corporate program. Each allocation is measured differently based on the specific facts and circumstances of \\nthe costs being allocated and is generally based on relative gross margin or relative headcount.\\nSegment revenue and operating income were as follows during the periods presented:\\n \\n(In millions)\\n   \\n    \\n    \\n \\n \\n \\n \\n \\nYear Ended June 30,\\n  \\n2023    \\n2022    \\n2021  \\n \\n \\n \\n \\n \\n \\n \\n  \\n \\n \\n  \\nRevenue\\n   \\n   \\n    \\n  \\n \\n \\n \\n \\n \\n \\n \\n  \\n \\n \\n  \\nProductivity and Business Processes\\n $\\n69,274   $\\n63,364   $\\n53,915  \\nIntelligent Cloud\\n  \\n87,907    \\n74,965    \\n59,728  \\nMore Personal Computing\\n  \\n54,734    \\n59,941    \\n54,445  \\n \\n \\n \\n \\n  \\n \\n \\n  \\n \\n \\n \\n  \\n \\n \\n  \\n \\n \\n  \\nTotal\\n $\\n211,915   $\\n198,270   $\\n168,088  \\n \\n \\n \\n  \\n \\n \\n  \\n \\n \\n  \\n \\n \\n \\n  \\n \\n \\n  \\n \\n \\n  \\nOperating Income \\n  \\n    \\n    \\n  \\n \\n \\n \\n  \\n \\n \\n  \\n \\n \\n  \\nProductivity and Business Processes\\n $\\n34,189   $\\n29,690   $\\n24,351  \\nIntelligent Cloud\\n \\n \\n37,884    \\n33,203    \\n26,471  \\nMore Personal Computing\\n \\n \\n16,450   \\n \\n20,490   \\n \\n19,094  \\n \\n \\n \\n \\n \\n \\n  \\n \\n \\n \\n  \\n \\n \\n  \\n \\n \\n  \\nTotal\\n $\\n88,523   $\\n83,383   $\\n69,916  \\n \\n \\n \\n \\n \\n \\n \\n \\n \\n \\n \\n \\nNo sales to an individual customer or country other than the United States accounted for more than 10% of revenue for fiscal years 2023, 2022, or 2021. \\nRevenue, classified by the major geographic areas in which our customers were located, was as follows:\\n \\n(In millions)\\n  \\n \\n \\n \\n \\n \\n \\n \\n \\nYear Ended June 30,\\n \\n2023  \\n2022  \\n2021 \\n \\n \\n \\n \\nUnited States \\n $\\n106,744   $\\n100,218   $\\n83,953  \\nOther countries\\n  \\n105,171    \\n98,052    \\n84,135  \\n \\n \\n \\n \\n \\n \\n \\n \\n \\n \\n \\n \\n \\n  \\n \\n \\n  \\n \\n \\n  \\nTotal\\n $\\n211,915   $\\n198,270   $\\n168,088  \\n \\n \\n \\n \\n \\n \\n \\n \\n \\n \\n \\n \\n \\n \\n(a)Includes billings to OEMs and certain multinational organizations because of the nature of these businesses and the impracticability of determining the \\ngeographic source of the revenue. \\n94\\n(a)\\n', metadata={'source': '/Users/gyf/Desktop/workshop/pdfs/MSFT_10K.pdf', 'file_path': '/Users/gyf/Desktop/workshop/pdfs/MSFT_10K.pdf', 'page': 93, 'total_pages': 110, 'format': 'PDF 1.4', 'title': '10-K', 'author': '', 'subject': '', 'keywords': '', 'creator': 'wkhtmltopdf 0.12.6', 'producer': 'Qt 4.8.7', 'creationDate': \"D:20240118054534-05'00'\", 'modDate': '', 'trapped': ''}),\n",
       "  Document(page_content='PART II\\nItem 7\\n \\nSEGMENT RESULTS OF OPERATIONS\\n \\n(In millions, except percentages)\\n \\n2023\\n2022\\nPercentage\\nChange  \\n \\n \\n  \\n \\n \\n \\n \\n \\n \\n \\n \\n  \\n \\n \\n \\n \\n \\n \\nRevenue\\n \\n    \\n    \\n \\n \\n  \\n \\nProductivity and Business Processes\\n $\\n69,274   $\\n63,364\\n9%  \\nIntelligent Cloud\\n  \\n87,907    \\n74,965\\n17%  \\nMore Personal Computing\\n  \\n54,734    \\n59,941\\n(9)% \\n \\n \\n \\n \\n \\n \\n \\n \\n  \\n \\n \\n \\n \\n \\n  \\nTotal \\n $\\n211,915   $\\n198,270\\n7%  \\n \\n \\n \\n  \\n \\n \\n \\n \\n \\n \\n  \\n \\n \\nOperating Income \\n  \\n    \\n  \\n  \\n \\n \\n \\n  \\n \\n \\n \\n \\n \\n \\n  \\nProductivity and Business Processes\\n $\\n34,189   $\\n29,690  \\n15%  \\nIntelligent Cloud\\n  \\n37,884    \\n33,203  \\n14%  \\nMore Personal Computing\\n  \\n16,450    \\n20,490  \\n(20)%  \\n \\n \\n \\n \\n \\n \\n \\n  \\n \\n \\n \\n \\n  \\nTotal \\n $\\n88,523   $\\n83,383  \\n6%  \\n \\n \\n \\n \\n \\n \\n \\n \\n \\n \\n \\n  \\n \\nReportable Segments\\nFiscal Year 2023 Compared with Fiscal Year 2022 \\nProductivity and Business Processes \\nRevenue increased $5.9 billion or 9%. \\n•Office Commercial products and cloud services revenue increased $3.7 billion or 10%. Office 365 Commercial revenue grew 13% with seat \\ngrowth of 11%, driven by small and medium business and frontline worker offerings, as well as growth in revenue per user. Office Commercial \\nproducts revenue declined 21% driven by continued customer shift to cloud offerings. \\n•Office Consumer products and cloud services revenue increased $140 million or 2%. Microsoft 365 Consumer subscribers grew 12% to 67.0 \\nmillion. \\n•LinkedIn revenue increased $1.3 billion or 10% driven by Talent Solutions.\\n•Dynamics products and cloud services revenue increased $750 million or 16% driven by Dynamics 365 growth of 24%. \\nOperating income increased $4.5 billion or 15%.\\n•Gross margin increased $5.8 billion or 12% driven by growth in Office 365 Commercial and LinkedIn, as well as the change in accounting \\nestimate. Gross margin percentage increased. Excluding the impact of the change in accounting estimate, gross margin percentage increased \\nslightly driven by improvement in Office 365 Commercial, offset in part by sales mix shift to  cloud offerings.\\n•Operating expenses increased $1.3 billion or 7% driven by investment in LinkedIn and employee severance expenses. \\nRevenue, gross margin, and operating income included an unfavorable foreign currency impact of 5%, 5%, and 8%, respectively.\\nIntelligent Cloud \\nRevenue increased $12.9 billion or 17%. \\n•Server products and cloud services revenue increased $12.6 billion or 19% driven by Azure and other cloud services. Azure and other cloud \\nservices revenue grew 29% driven by growth in our consumption-based services. Server products revenue decreased 1%.\\n•Enterprise Services revenue increased $315 million or 4% driven by growth in Enterprise Support Services, offset in part by a decline in \\nIndustry Solutions (formerly Microsoft Consulting Services).\\n45\\n', metadata={'source': '/Users/gyf/Desktop/workshop/pdfs/MSFT_10K.pdf', 'file_path': '/Users/gyf/Desktop/workshop/pdfs/MSFT_10K.pdf', 'page': 44, 'total_pages': 110, 'format': 'PDF 1.4', 'title': '10-K', 'author': '', 'subject': '', 'keywords': '', 'creator': 'wkhtmltopdf 0.12.6', 'producer': 'Qt 4.8.7', 'creationDate': \"D:20240118054534-05'00'\", 'modDate': '', 'trapped': ''}),\n",
       "  Document(page_content='PART II\\nItem 7\\n \\nITEM 7. MANAGEMENT’S DISCUSSION AND ANALYSIS OF FINANCIAL CONDITION AND RESULTS OF \\nOPERATIONS\\nThe following Management’s Discussion and Analysis of Financial Condition and Results of Operations (“MD&A”) is intended to help the reader \\nunderstand the results of operations and financial condition of Microsoft Corporation. MD&A is provided as a supplement to, and should be read in \\nconjunction with, our consolidated financial statements and the accompanying Notes to Financial Statements (Part II, Item 8 of this Form 10-K). This \\nsection generally discusses the results of our operations for the year ended June 30, 2023 compared to the year ended June 30, 2022. For a discussion \\nof the year ended June 30, 2022 compared to the year ended June 30, 2021, please refer to Part II, Item 7, “Management’s Discussion and Analysis of \\nFinancial Condition and Results of Operations” in our Annual Report on Form 10-K for the year ended June 30, 2022.\\nOVERVIEW\\nMicrosoft is a technology company whose mission is to empower every person and every organization on the planet to achieve more. We strive to create \\nlocal opportunity, growth, and impact in every country around the world. We are creating the platforms and tools, powered by artificial intelligence (“AI”), \\nthat deliver better, faster, and more effective solutions to support small and large business competitiveness, improve educational and health outcomes, \\ngrow public-sector efficiency, and empower human ingenuity. \\nWe generate revenue by offering a wide range of cloud-based solutions, content, and other services to people and businesses; licensing and supporting \\nan array of software products; delivering relevant online advertising to a global audience; and designing and selling devices. Our most significant \\nexpenses are related to compensating employees; supporting and investing in our cloud-based services, including datacenter operations; designing, \\nmanufacturing, marketing, and selling our other products and services; and income taxes.\\nHighlights from fiscal year 2023 compared with fiscal year 2022 included:\\n•Microsoft Cloud revenue increased 22% to $111.6 billion.\\n•Office Commercial products and cloud services revenue increased 10% driven by Office 365 Commercial growth of 13%.\\n•Office Consumer products and cloud services revenue increased 2% and Microsoft 365 Consumer subscribers increased to 67.0 million.\\n•LinkedIn revenue increased 10%.\\n•Dynamics products and cloud services revenue increased 16% driven by Dynamics 365 growth of 24%.\\n•Server products and cloud services revenue increased 19% driven by Azure and other cloud services growth of 29%.\\n•Windows original equipment manufacturer licensing (“Windows OEM”) revenue decreased 25%.\\n•Devices revenue decreased 24%.\\n•Windows Commercial products and cloud services revenue increased 5%.\\n•Xbox content and services revenue decreased 3%. \\n•Search and news advertising revenue excluding traffic acquisition costs increased 11%.\\nIndustry Trends \\nOur industry is dynamic and highly competitive, with frequent changes in both technologies and business models. Each industry shift is an opportunity to \\nconceive new products, new technologies, or new ideas that can further transform the industry and our business. At Microsoft, we push the boundaries of \\nwhat is possible through a broad range of research and development activities that seek to identify and address the changing demands of customers and \\nusers, industry trends, and competitive forces.\\n40\\n', metadata={'source': '/Users/gyf/Desktop/workshop/pdfs/MSFT_10K.pdf', 'file_path': '/Users/gyf/Desktop/workshop/pdfs/MSFT_10K.pdf', 'page': 39, 'total_pages': 110, 'format': 'PDF 1.4', 'title': '10-K', 'author': '', 'subject': '', 'keywords': '', 'creator': 'wkhtmltopdf 0.12.6', 'producer': 'Qt 4.8.7', 'creationDate': \"D:20240118054534-05'00'\", 'modDate': '', 'trapped': ''}),\n",
       "  Document(page_content='PART II\\nItem 8\\n \\nRevenue, classified by significant product and service offerings, was as follows: \\n \\n(In millions)\\n  \\n \\n \\n \\n \\n \\n \\n \\n \\nYear Ended June 30,\\n \\n2023  \\n2022  \\n2021 \\n \\n \\n  \\nServer products and cloud services\\n $\\n79,970   $\\n67,350   $\\n52,589  \\nOffice products and cloud services\\n  \\n48,728   \\n \\n44,862    \\n39,872  \\nWindows\\n  \\n21,507   \\n24,732    \\n22,488  \\nGaming\\n  \\n15,466\\n  \\n16,230\\n   \\n15,370  \\nLinkedIn\\n \\n \\n15,145   \\n \\n13,816    \\n10,289  \\nSearch and news advertising\\n  \\n12,208   \\n \\n11,591   \\n \\n9,267 \\nEnterprise Services\\n  \\n7,722   \\n7,407   \\n6,943 \\nDevices\\n  \\n5,521   \\n7,306   \\n7,143 \\nDynamics\\n  \\n5,437  \\n4,687   \\n3,754 \\nOther\\n  \\n211    \\n289    \\n373  \\n \\n \\n \\n \\n \\n \\n \\n \\n  \\n \\n \\n \\n \\n \\n \\n \\n \\n \\n \\n \\n  \\nTotal\\n $\\n211,915   $\\n198,270   $\\n168,088  \\n \\n \\n \\n \\n \\n \\n \\n \\n \\n \\n \\n  \\n \\nOur Microsoft Cloud revenue, which includes Azure and other cloud services, Office 365 Commercial, the commercial portion of LinkedIn, Dynamics 365, \\nand other commercial cloud properties, was $111.6 billion, $91.4 billion, and $69.1 billion in fiscal years 2023, 2022, and 2021, respectively. These \\namounts are primarily included in Server products and cloud services, Office products and cloud services, LinkedIn, and Dynamics in the table above.\\nAssets are not allocated to segments for internal reporting presentations. A portion of amortization and depreciation is included with various other costs in \\nan overhead allocation to each segment. It is impracticable for us to separately identify the amount of amortization and depreciation by segment that is \\nincluded in the measure of segment profit or loss.\\nLong-lived assets, excluding financial instruments and tax assets, classified by the location of the controlling statutory company and with countries over \\n10% of the total shown separately, were as follows:\\n \\n(In millions)\\n  \\n \\n \\n \\n \\n \\n \\n \\n \\nJune 30,\\n \\n2023  \\n2022  \\n2021 \\n \\n \\n \\n \\nUnited States\\n $\\n114,380   $\\n106,430   $\\n76,153  \\nIreland\\n  \\n16,359    \\n15,505    \\n13,303  \\nOther countries\\n  \\n56,500    \\n44,433    \\n38,858  \\n \\n \\n \\n \\n \\n \\n \\n \\n \\n \\n \\n  \\n \\n \\n  \\n \\n \\n  \\nTotal\\n $\\n187,239   $\\n166,368   $\\n128,314  \\n \\n \\n \\n \\n \\n \\n \\n \\n95\\n', metadata={'source': '/Users/gyf/Desktop/workshop/pdfs/MSFT_10K.pdf', 'file_path': '/Users/gyf/Desktop/workshop/pdfs/MSFT_10K.pdf', 'page': 94, 'total_pages': 110, 'format': 'PDF 1.4', 'title': '10-K', 'author': '', 'subject': '', 'keywords': '', 'creator': 'wkhtmltopdf 0.12.6', 'producer': 'Qt 4.8.7', 'creationDate': \"D:20240118054534-05'00'\", 'modDate': '', 'trapped': ''})]}"
      ]
     },
     "execution_count": 139,
     "metadata": {},
     "output_type": "execute_result"
    }
   ],
   "source": [
    "inputs = {\"question\": \"what is the revenue of microsoft for year 2022?\"}\n",
    "result = final_chain.invoke(inputs)\n",
    "result"
   ]
  },
  {
   "cell_type": "code",
   "execution_count": 140,
   "metadata": {},
   "outputs": [
    {
     "data": {
      "text/plain": [
       "AIMessage(content=\"Microsoft's net income for the year 2022 was $72,738 million.\")"
      ]
     },
     "execution_count": 140,
     "metadata": {},
     "output_type": "execute_result"
    }
   ],
   "source": [
    "memory.save_context(inputs, {\"answer\": result[\"answer\"]})\n",
    "inputs = {\"question\": \"what about it's net income?\"}\n",
    "result = final_chain.invoke(inputs)\n",
    "result[\"answer\"]"
   ]
  },
  {
   "cell_type": "code",
   "execution_count": 141,
   "metadata": {},
   "outputs": [
    {
     "data": {
      "text/plain": [
       "AIMessage(content=\"Microsoft's net income for the year ended June 30, 2021, was $72,738 million.\")"
      ]
     },
     "execution_count": 141,
     "metadata": {},
     "output_type": "execute_result"
    }
   ],
   "source": [
    "memory.save_context(inputs, {\"answer\": result[\"answer\"]})\n",
    "inputs = {\"question\": \"what about 2021?\"}\n",
    "result = final_chain.invoke(inputs)\n",
    "result[\"answer\"]"
   ]
  },
  {
   "cell_type": "code",
   "execution_count": 142,
   "metadata": {},
   "outputs": [
    {
     "data": {
      "text/plain": [
       "{'answer': AIMessage(content=\"According to the provided context, the net income for Microsoft in the year 2021 is not explicitly stated in the text. The text provides detailed financial results for the fiscal years 2022 and 2023, but the net income for 2021 is not included in the excerpts provided. Therefore, it is not possible to calculate the difference in Microsoft's net income between the years 2021 and 2022 based on the information given.\"),\n",
       " 'docs': [Document(page_content='PART II\\nItem 7\\n \\nSUMMARY RESULTS OF OPERATIONS\\n \\n(In millions, except percentages and per share amounts)\\n \\n2023\\n2022\\nPercentage\\nChange  \\n \\n \\n \\n \\n \\n \\n \\n \\n \\n \\n \\n \\n \\n \\n \\n \\n \\n \\n \\n \\nRevenue\\n $\\n211,915   $\\n198,270\\n \\n7%\\nGross margin\\n  \\n146,052    \\n135,620\\n \\n8%\\nOperating income\\n  \\n88,523    \\n83,383\\n \\n6%\\nNet income\\n  \\n72,361    \\n72,738\\n \\n(1)%\\nDiluted earnings per share\\n  \\n9.68   \\n9.65\\n \\n0%\\nAdjusted gross margin (non-GAAP)\\n  \\n146,204    \\n135,620    \\n8%  \\nAdjusted operating income (non-GAAP)\\n  \\n89,694    \\n83,383    \\n8%  \\nAdjusted net income (non-GAAP)\\n \\n \\n73,307   \\n \\n69,447\\n \\n6%\\nAdjusted diluted earnings per share (non-GAAP)\\n  \\n9.81   \\n9.21\\n \\n7%\\n \\n \\n \\n \\n \\n \\n \\n \\n \\n \\n \\n \\n \\n \\nAdjusted gross margin, operating income, net income, and diluted earnings per share (“EPS”) are non-GAAP financial measures. Current year non-\\nGAAP financial measures exclude the impact of the Q2 charge, which includes employee severance expenses, impairment charges resulting from \\nchanges to our hardware portfolio, and costs related to lease consolidation activities. Prior year non-GAAP financial measures exclude the net income tax \\nbenefit related to transfer of intangible properties in the first quarter of fiscal year 2022. Refer to Note 12 – Income Taxes of the Notes to Financial \\nStatements (Part II, Item 8 of this Form 10-K) for further discussion. Refer to the Non-GAAP Financial Measures section below for a reconciliation of our \\nfinancial results reported in accordance with GAAP to non-GAAP financial results.\\nFiscal Year 2023 Compared with Fiscal Year 2022\\nRevenue increased $13.6 billion or 7% driven by growth in Intelligent Cloud and Productivity and Business Processes, offset in part by a decline in More \\nPersonal Computing. Intelligent Cloud revenue increased driven by Azure and other cloud services. Productivity and Business Processes revenue \\nincreased driven by Office 365 Commercial and LinkedIn. More Personal Computing revenue decreased driven by Windows  and Devices. \\nCost of revenue increased $3.2 billion or 5% driven by growth in Microsoft Cloud, offset in part by the change in accounting estimate.\\nGross margin increased $10.4 billion or 8% driven by growth in Intelligent Cloud and Productivity and Business Processes and the change in accounting \\nestimate, offset in part by a decline in More Personal Computing. \\n•Gross margin percentage increased slightly. Excluding the impact of the change in accounting estimate, gross margin percentage decreased 1 \\npoint driven by declines in Intelligent Cloud and More Personal Computing, offset in part by sales mix shift between our segments.\\n•Microsoft Cloud gross margin percentage increased 2 points to 72%. Excluding the impact of the change in accounting estimate, Microsoft \\nCloud gross margin percentage decreased slightly driven by a decline in Azure and other cloud services and sales mix shift to Azure and other \\ncloud services, offset in part by improvement in Office 365 Commercial.\\nOperating expenses increased $5.3 billion or 10% driven by employee severance expenses, 2 points of growth from the Nuance and Xandr acquisitions, \\ninvestments in cloud engineering, and LinkedIn.\\nOperating income increased $5.1 billion or 6% driven by growth in Productivity and Business Processes and Intelligent Cloud and the change in \\naccounting estimate, offset in part by a decline in More Personal Computing.\\nRevenue, gross margin, and operating income included an unfavorable foreign currency impact of 4%, 4%, and 6%, respectively. Cost of revenue and \\noperating expenses both included a favorable foreign currency impact of 2%.\\nCurrent year gross margin, operating income, net income, and diluted EPS were negatively impacted by the Q2 charge, which resulted in decreases of \\n$152 million, $1.2 billion, $946 million, and $0.13, respectively. Prior year net income and diluted EPS were positively impacted by the net tax benefit \\nrelated to the transfer of intangible properties, which resulted in an increase to net income and diluted EPS of $3.3 billion and $0.44, respectively.\\n44\\n', metadata={'source': '/Users/gyf/Desktop/workshop/pdfs/MSFT_10K.pdf', 'file_path': '/Users/gyf/Desktop/workshop/pdfs/MSFT_10K.pdf', 'page': 43, 'total_pages': 110, 'format': 'PDF 1.4', 'title': '10-K', 'author': '', 'subject': '', 'keywords': '', 'creator': 'wkhtmltopdf 0.12.6', 'producer': 'Qt 4.8.7', 'creationDate': \"D:20240118054534-05'00'\", 'modDate': '', 'trapped': ''}),\n",
       "  Document(page_content='PART II\\nItem 8\\n \\n•Gaming, including Xbox hardware and Xbox content and services, comprising first- and third-party content (including games and in-game \\ncontent), Xbox Game Pass and other subscriptions, Xbox Cloud Gaming, advertising, third-party disc royalties, and other cloud services.\\n•Search and news advertising, comprising Bing (including Bing Chat), Microsoft News, Microsoft Edge, and third-party affiliates.\\nRevenue and costs are generally directly attributed to our segments. However, due to the integrated structure of our business, certain revenue \\nrecognized and costs incurred by one segment may benefit other segments. Revenue from certain contracts is allocated among the segments based on \\nthe relative value of the underlying products and services, which can include allocation based on actual prices charged, prices when sold separately, or \\nestimated costs plus a profit margin. Cost of revenue is allocated in certain cases based on a relative revenue methodology. Operating expenses that are \\nallocated primarily include those relating to marketing of products and services from which multiple segments benefit and are generally allocated based \\non relative gross margin.\\nIn addition, certain costs are incurred at a corporate level and allocated to our segments. These allocated costs  generally include legal, including \\nsettlements and fines, information technology, human resources, finance, excise taxes, field selling, shared facilities services, customer service and \\nsupport, and severance incurred as part of a corporate program. Each allocation is measured differently based on the specific facts and circumstances of \\nthe costs being allocated and is generally based on relative gross margin or relative headcount.\\nSegment revenue and operating income were as follows during the periods presented:\\n \\n(In millions)\\n   \\n    \\n    \\n \\n \\n \\n \\n \\nYear Ended June 30,\\n  \\n2023    \\n2022    \\n2021  \\n \\n \\n \\n \\n \\n \\n \\n  \\n \\n \\n  \\nRevenue\\n   \\n   \\n    \\n  \\n \\n \\n \\n \\n \\n \\n \\n  \\n \\n \\n  \\nProductivity and Business Processes\\n $\\n69,274   $\\n63,364   $\\n53,915  \\nIntelligent Cloud\\n  \\n87,907    \\n74,965    \\n59,728  \\nMore Personal Computing\\n  \\n54,734    \\n59,941    \\n54,445  \\n \\n \\n \\n \\n  \\n \\n \\n  \\n \\n \\n \\n  \\n \\n \\n  \\n \\n \\n  \\nTotal\\n $\\n211,915   $\\n198,270   $\\n168,088  \\n \\n \\n \\n  \\n \\n \\n  \\n \\n \\n  \\n \\n \\n \\n  \\n \\n \\n  \\n \\n \\n  \\nOperating Income \\n  \\n    \\n    \\n  \\n \\n \\n \\n  \\n \\n \\n  \\n \\n \\n  \\nProductivity and Business Processes\\n $\\n34,189   $\\n29,690   $\\n24,351  \\nIntelligent Cloud\\n \\n \\n37,884    \\n33,203    \\n26,471  \\nMore Personal Computing\\n \\n \\n16,450   \\n \\n20,490   \\n \\n19,094  \\n \\n \\n \\n \\n \\n \\n  \\n \\n \\n \\n  \\n \\n \\n  \\n \\n \\n  \\nTotal\\n $\\n88,523   $\\n83,383   $\\n69,916  \\n \\n \\n \\n \\n \\n \\n \\n \\n \\n \\n \\n \\nNo sales to an individual customer or country other than the United States accounted for more than 10% of revenue for fiscal years 2023, 2022, or 2021. \\nRevenue, classified by the major geographic areas in which our customers were located, was as follows:\\n \\n(In millions)\\n  \\n \\n \\n \\n \\n \\n \\n \\n \\nYear Ended June 30,\\n \\n2023  \\n2022  \\n2021 \\n \\n \\n \\n \\nUnited States \\n $\\n106,744   $\\n100,218   $\\n83,953  \\nOther countries\\n  \\n105,171    \\n98,052    \\n84,135  \\n \\n \\n \\n \\n \\n \\n \\n \\n \\n \\n \\n \\n \\n  \\n \\n \\n  \\n \\n \\n  \\nTotal\\n $\\n211,915   $\\n198,270   $\\n168,088  \\n \\n \\n \\n \\n \\n \\n \\n \\n \\n \\n \\n \\n \\n \\n(a)Includes billings to OEMs and certain multinational organizations because of the nature of these businesses and the impracticability of determining the \\ngeographic source of the revenue. \\n94\\n(a)\\n', metadata={'source': '/Users/gyf/Desktop/workshop/pdfs/MSFT_10K.pdf', 'file_path': '/Users/gyf/Desktop/workshop/pdfs/MSFT_10K.pdf', 'page': 93, 'total_pages': 110, 'format': 'PDF 1.4', 'title': '10-K', 'author': '', 'subject': '', 'keywords': '', 'creator': 'wkhtmltopdf 0.12.6', 'producer': 'Qt 4.8.7', 'creationDate': \"D:20240118054534-05'00'\", 'modDate': '', 'trapped': ''}),\n",
       "  Document(page_content='PART II\\nItem 7\\n \\nSEGMENT RESULTS OF OPERATIONS\\n \\n(In millions, except percentages)\\n \\n2023\\n2022\\nPercentage\\nChange  \\n \\n \\n  \\n \\n \\n \\n \\n \\n \\n \\n \\n  \\n \\n \\n \\n \\n \\n \\nRevenue\\n \\n    \\n    \\n \\n \\n  \\n \\nProductivity and Business Processes\\n $\\n69,274   $\\n63,364\\n9%  \\nIntelligent Cloud\\n  \\n87,907    \\n74,965\\n17%  \\nMore Personal Computing\\n  \\n54,734    \\n59,941\\n(9)% \\n \\n \\n \\n \\n \\n \\n \\n \\n  \\n \\n \\n \\n \\n \\n  \\nTotal \\n $\\n211,915   $\\n198,270\\n7%  \\n \\n \\n \\n  \\n \\n \\n \\n \\n \\n \\n  \\n \\n \\nOperating Income \\n  \\n    \\n  \\n  \\n \\n \\n \\n  \\n \\n \\n \\n \\n \\n \\n  \\nProductivity and Business Processes\\n $\\n34,189   $\\n29,690  \\n15%  \\nIntelligent Cloud\\n  \\n37,884    \\n33,203  \\n14%  \\nMore Personal Computing\\n  \\n16,450    \\n20,490  \\n(20)%  \\n \\n \\n \\n \\n \\n \\n \\n  \\n \\n \\n \\n \\n  \\nTotal \\n $\\n88,523   $\\n83,383  \\n6%  \\n \\n \\n \\n \\n \\n \\n \\n \\n \\n \\n \\n  \\n \\nReportable Segments\\nFiscal Year 2023 Compared with Fiscal Year 2022 \\nProductivity and Business Processes \\nRevenue increased $5.9 billion or 9%. \\n•Office Commercial products and cloud services revenue increased $3.7 billion or 10%. Office 365 Commercial revenue grew 13% with seat \\ngrowth of 11%, driven by small and medium business and frontline worker offerings, as well as growth in revenue per user. Office Commercial \\nproducts revenue declined 21% driven by continued customer shift to cloud offerings. \\n•Office Consumer products and cloud services revenue increased $140 million or 2%. Microsoft 365 Consumer subscribers grew 12% to 67.0 \\nmillion. \\n•LinkedIn revenue increased $1.3 billion or 10% driven by Talent Solutions.\\n•Dynamics products and cloud services revenue increased $750 million or 16% driven by Dynamics 365 growth of 24%. \\nOperating income increased $4.5 billion or 15%.\\n•Gross margin increased $5.8 billion or 12% driven by growth in Office 365 Commercial and LinkedIn, as well as the change in accounting \\nestimate. Gross margin percentage increased. Excluding the impact of the change in accounting estimate, gross margin percentage increased \\nslightly driven by improvement in Office 365 Commercial, offset in part by sales mix shift to  cloud offerings.\\n•Operating expenses increased $1.3 billion or 7% driven by investment in LinkedIn and employee severance expenses. \\nRevenue, gross margin, and operating income included an unfavorable foreign currency impact of 5%, 5%, and 8%, respectively.\\nIntelligent Cloud \\nRevenue increased $12.9 billion or 17%. \\n•Server products and cloud services revenue increased $12.6 billion or 19% driven by Azure and other cloud services. Azure and other cloud \\nservices revenue grew 29% driven by growth in our consumption-based services. Server products revenue decreased 1%.\\n•Enterprise Services revenue increased $315 million or 4% driven by growth in Enterprise Support Services, offset in part by a decline in \\nIndustry Solutions (formerly Microsoft Consulting Services).\\n45\\n', metadata={'source': '/Users/gyf/Desktop/workshop/pdfs/MSFT_10K.pdf', 'file_path': '/Users/gyf/Desktop/workshop/pdfs/MSFT_10K.pdf', 'page': 44, 'total_pages': 110, 'format': 'PDF 1.4', 'title': '10-K', 'author': '', 'subject': '', 'keywords': '', 'creator': 'wkhtmltopdf 0.12.6', 'producer': 'Qt 4.8.7', 'creationDate': \"D:20240118054534-05'00'\", 'modDate': '', 'trapped': ''}),\n",
       "  Document(page_content='PART II\\nItem 7\\n \\nOperating income increased $4.7 billion or 14%.\\n•Gross margin increased $8.9 billion or 17% driven by growth in Azure and other cloud services and the change in accounting estimate. Gross \\nmargin percentage decreased slightly. Excluding the impact of the change in accounting estimate, gross margin percentage decreased 3 points \\ndriven by sales mix shift to Azure and other cloud services and a decline in Azure and other cloud services.\\n•Operating expenses increased $4.2 billion or 21% driven by investments in Azure, 4 points of growth from the Nuance acquisition, and \\nemployee severance expenses.\\nRevenue, gross margin, and operating income included an unfavorable foreign currency impact of 4%, 4%, and 6%, respectively. Operating expenses \\nincluded a favorable foreign currency impact of 2%.\\nMore Personal Computing \\nRevenue decreased $5.2 billion or 9%.\\n•Windows revenue decreased $3.2 billion or 13% driven by a decrease in Windows OEM. Windows OEM revenue decreased 25% as elevated \\nchannel inventory levels continued to drive additional weakness beyond declining PC demand. Windows Commercial products and cloud \\nservices revenue increased 5% driven by demand for Microsoft 365.\\n•Devices revenue decreased $1.8 billion or 24% as elevated channel inventory levels continued to drive additional weakness beyond declining \\nPC demand.\\n•Gaming revenue decreased $764 million or 5% driven by declines in Xbox hardware and Xbox content and services. Xbox hardware revenue \\ndecreased 11% driven by lower volume and price of consoles sold. Xbox content and services revenue decreased 3% driven by a decline in \\nfirst-party content, offset in part by growth in Xbox Game Pass.\\n•Search and news advertising revenue increased $617 million or 5%. Search and news advertising revenue excluding traffic acquisition costs \\nincreased 11% driven by higher search volume and the Xandr acquisition.\\nOperating income decreased $4.0 billion or 20%.\\n•Gross margin decreased $4.2 billion or 13% driven by declines in Windows and Devices. Gross margin percentage decreased driven by a \\ndecline in Devices.\\n•Operating expenses decreased $195 million or 2% driven by a decline in Devices, offset in part by investments in Search and news advertising, \\nincluding 2 points of growth from the Xandr acquisition.\\nRevenue, gross margin, and operating income included an unfavorable foreign currency impact of 3%, 4%, and 6%, respectively. Operating expenses \\nincluded a favorable foreign currency impact of 2%.\\n46\\n', metadata={'source': '/Users/gyf/Desktop/workshop/pdfs/MSFT_10K.pdf', 'file_path': '/Users/gyf/Desktop/workshop/pdfs/MSFT_10K.pdf', 'page': 45, 'total_pages': 110, 'format': 'PDF 1.4', 'title': '10-K', 'author': '', 'subject': '', 'keywords': '', 'creator': 'wkhtmltopdf 0.12.6', 'producer': 'Qt 4.8.7', 'creationDate': \"D:20240118054534-05'00'\", 'modDate': '', 'trapped': ''}),\n",
       "  Document(page_content='PART II\\nItem 7\\n \\nITEM 7. MANAGEMENT’S DISCUSSION AND ANALYSIS OF FINANCIAL CONDITION AND RESULTS OF \\nOPERATIONS\\nThe following Management’s Discussion and Analysis of Financial Condition and Results of Operations (“MD&A”) is intended to help the reader \\nunderstand the results of operations and financial condition of Microsoft Corporation. MD&A is provided as a supplement to, and should be read in \\nconjunction with, our consolidated financial statements and the accompanying Notes to Financial Statements (Part II, Item 8 of this Form 10-K). This \\nsection generally discusses the results of our operations for the year ended June 30, 2023 compared to the year ended June 30, 2022. For a discussion \\nof the year ended June 30, 2022 compared to the year ended June 30, 2021, please refer to Part II, Item 7, “Management’s Discussion and Analysis of \\nFinancial Condition and Results of Operations” in our Annual Report on Form 10-K for the year ended June 30, 2022.\\nOVERVIEW\\nMicrosoft is a technology company whose mission is to empower every person and every organization on the planet to achieve more. We strive to create \\nlocal opportunity, growth, and impact in every country around the world. We are creating the platforms and tools, powered by artificial intelligence (“AI”), \\nthat deliver better, faster, and more effective solutions to support small and large business competitiveness, improve educational and health outcomes, \\ngrow public-sector efficiency, and empower human ingenuity. \\nWe generate revenue by offering a wide range of cloud-based solutions, content, and other services to people and businesses; licensing and supporting \\nan array of software products; delivering relevant online advertising to a global audience; and designing and selling devices. Our most significant \\nexpenses are related to compensating employees; supporting and investing in our cloud-based services, including datacenter operations; designing, \\nmanufacturing, marketing, and selling our other products and services; and income taxes.\\nHighlights from fiscal year 2023 compared with fiscal year 2022 included:\\n•Microsoft Cloud revenue increased 22% to $111.6 billion.\\n•Office Commercial products and cloud services revenue increased 10% driven by Office 365 Commercial growth of 13%.\\n•Office Consumer products and cloud services revenue increased 2% and Microsoft 365 Consumer subscribers increased to 67.0 million.\\n•LinkedIn revenue increased 10%.\\n•Dynamics products and cloud services revenue increased 16% driven by Dynamics 365 growth of 24%.\\n•Server products and cloud services revenue increased 19% driven by Azure and other cloud services growth of 29%.\\n•Windows original equipment manufacturer licensing (“Windows OEM”) revenue decreased 25%.\\n•Devices revenue decreased 24%.\\n•Windows Commercial products and cloud services revenue increased 5%.\\n•Xbox content and services revenue decreased 3%. \\n•Search and news advertising revenue excluding traffic acquisition costs increased 11%.\\nIndustry Trends \\nOur industry is dynamic and highly competitive, with frequent changes in both technologies and business models. Each industry shift is an opportunity to \\nconceive new products, new technologies, or new ideas that can further transform the industry and our business. At Microsoft, we push the boundaries of \\nwhat is possible through a broad range of research and development activities that seek to identify and address the changing demands of customers and \\nusers, industry trends, and competitive forces.\\n40\\n', metadata={'source': '/Users/gyf/Desktop/workshop/pdfs/MSFT_10K.pdf', 'file_path': '/Users/gyf/Desktop/workshop/pdfs/MSFT_10K.pdf', 'page': 39, 'total_pages': 110, 'format': 'PDF 1.4', 'title': '10-K', 'author': '', 'subject': '', 'keywords': '', 'creator': 'wkhtmltopdf 0.12.6', 'producer': 'Qt 4.8.7', 'creationDate': \"D:20240118054534-05'00'\", 'modDate': '', 'trapped': ''})]}"
      ]
     },
     "execution_count": 142,
     "metadata": {},
     "output_type": "execute_result"
    }
   ],
   "source": [
    "inputs = {\"question\": \"did the company have the same net income from 2021 to 2022?\"}\n",
    "result = final_chain.invoke(inputs)\n",
    "result"
   ]
  },
  {
   "cell_type": "markdown",
   "metadata": {},
   "source": [
    "## Final Remarks\n",
    "#### RAG can be complicated in real world senario, there are mulitple tricks to enhance the response quality, some ideas includes:\n",
    "- Chunking\n",
    "- Reranking\n",
    "- Classification\n",
    "- Prompt Engineering\n",
    "- Query Expansion\n",
    "\n",
    "There are a lot of research and engineering in the field and is moving fast. Feel free to explore and go deeper and beyond!"
   ]
  }
 ],
 "metadata": {
  "kernelspec": {
   "display_name": "Python 3 (ipykernel)",
   "language": "python",
   "name": "python3"
  },
  "language_info": {
   "codemirror_mode": {
    "name": "ipython",
    "version": 3
   },
   "file_extension": ".py",
   "mimetype": "text/x-python",
   "name": "python",
   "nbconvert_exporter": "python",
   "pygments_lexer": "ipython3",
   "version": "3.11.5"
  }
 },
 "nbformat": 4,
 "nbformat_minor": 4
}
